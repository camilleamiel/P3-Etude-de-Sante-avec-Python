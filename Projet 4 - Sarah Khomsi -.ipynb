{
 "cells": [
  {
   "cell_type": "markdown",
   "id": "ffc131dc",
   "metadata": {},
   "source": [
    "# Projet 4 : Réalisez une étude de santé publique avec R ou Python"
   ]
  },
  {
   "cell_type": "markdown",
   "id": "4f8b6ffc",
   "metadata": {},
   "source": [
    "   **Remarque** : Afin de faciliter la lecture des différentes requêtes, j'ai choisi de nommer mes dataframes en prenant comme réference le nom du responsable et le numéro de la requête. \n"
   ]
  },
  {
   "cell_type": "markdown",
   "id": "045866fe",
   "metadata": {},
   "source": [
    "**Exemple :**\n",
    " * Pour la première requête de Marc, la référence sera : ma1_sous_nutrition / ma1_population...          \n",
    " * Pour la deuxième requête de Mélanie, la référence sera : me2_sous_nutrition / me2_population...*"
   ]
  },
  {
   "cell_type": "markdown",
   "id": "1ae6f373",
   "metadata": {},
   "source": [
    "### Sommaire\n",
    "\n",
    "* [Requêtes de Marc](#chapter1)\n",
    "    * [la proportion de personnes en état de sous-nutrition en 2017 ](#section_1_1)\n",
    "    * [Le nombre théorique de personnes qui pourraient être nourries en 2017](#section_1_2)\n",
    "    * [le nombre théorique de personnes qui pourraient être nourries à partir de la disponibilité alimentaire des produits végétaux en 2017](#section_1_3)\n",
    "    * [L’utilisation de la disponibilité intérieure, en particulier la part qui est attribuée à l’alimentation animale, celle qui est perdue et celle qui est concrètement utilisée pour l'alimentation humaine.](#section_1_4)\n",
    "* [Requêtes de Mélanie](#chapter2)\n",
    "    * [les pays pour lesquels la proportion de personnes sous-alimentées est la plus forte en 2017](#section_2_1)\n",
    "    * [les pays qui ont le plus bénéficié d’aide depuis 2013](#section_2_2)\n",
    "    * [Les pays ayant le plus/le moins de disponibilité/habitant](#section_2_3)\n",
    "* [Pistes supplémentaires de recherches](#chapter3)\n",
    "    * [Répartition des céréales entre l'alimentation humaine et animale](#section_3_1)\n",
    "    * [Comparaison de la répartition des céréales entre l'alimentation humaine et animale en fonction des pays ayant le plus de disponibilité alimentaire et ceux qui en ont le moins](#section_3_2)\n",
    "    * [La Thaïlande et l'utilisation du manioc](#section_3_3)"
   ]
  },
  {
   "cell_type": "markdown",
   "id": "f29954db",
   "metadata": {},
   "source": [
    "Cette étude repose sur des fichier de types \".csv\" téléchargés sur le site de la \"Food and Agriculture Organization of the United Nations (FAO)\" : \n"
   ]
  },
  {
   "cell_type": "markdown",
   "id": "84644615",
   "metadata": {},
   "source": [
    "    * dispo_alimentaire.csv\n",
    "    * sous_nutrition.csv\n",
    "    * population.csv\n",
    "    * aide_alimentaire.csv"
   ]
  },
  {
   "cell_type": "markdown",
   "id": "81f7e563",
   "metadata": {},
   "source": [
    "## Requêtes de Marc <a class=\"anchor\" id=\"chapter1\"></a>"
   ]
  },
  {
   "cell_type": "markdown",
   "id": "ac990cd6",
   "metadata": {},
   "source": [
    "### La proportion de personnes en état de sous-nutrition en 2017 <a class=\"anchor\" id=\"section_1_1\"></a>"
   ]
  },
  {
   "cell_type": "markdown",
   "id": "78dfc94e",
   "metadata": {},
   "source": [
    "Formule : \n",
    "                **(Nombre total de personnes en sous-nutrition / Population mondiale) *100**"
   ]
  },
  {
   "cell_type": "markdown",
   "id": "b6c5d62e",
   "metadata": {},
   "source": [
    "Pour cela je dois :\n",
    "* Ouvrir la librairie Pandas\n",
    "* Importer les fichiers **'population.csv'** et **'sous_nutrition.csv'** \n",
    "* Vérifier l'ensemble des données afin de traiter les valeurs nulles et les caractères spéciaux sur les colonnes de type *int* ou *float*\n",
    "* Filtrer et ne conserver que les données de l'année **2017** ( représentée par : **'2016-2018'** sur le fichier **'sous_nutrition.csv'** et par **'2017'** dans le fichier **'population.csv'**).\n",
    "* Faire une jointure entre **'sous_nutrition.csv'** et **'population.csv'** en prenant 'Zone' comme clé.  \n",
    "* Calculer la proportion\n",
    "    "
   ]
  },
  {
   "cell_type": "code",
   "execution_count": 1,
   "id": "44b03671",
   "metadata": {},
   "outputs": [],
   "source": [
    "import pandas as pd\n",
    "ma1_sous_nutrition = pd.read_csv('sous_nutrition.csv')\n",
    "ma1_population = pd.read_csv('population.csv')"
   ]
  },
  {
   "cell_type": "code",
   "execution_count": 2,
   "id": "33042eac",
   "metadata": {},
   "outputs": [
    {
     "data": {
      "text/html": [
       "<div>\n",
       "<style scoped>\n",
       "    .dataframe tbody tr th:only-of-type {\n",
       "        vertical-align: middle;\n",
       "    }\n",
       "\n",
       "    .dataframe tbody tr th {\n",
       "        vertical-align: top;\n",
       "    }\n",
       "\n",
       "    .dataframe thead th {\n",
       "        text-align: right;\n",
       "    }\n",
       "</style>\n",
       "<table border=\"1\" class=\"dataframe\">\n",
       "  <thead>\n",
       "    <tr style=\"text-align: right;\">\n",
       "      <th></th>\n",
       "      <th>Zone</th>\n",
       "      <th>Année</th>\n",
       "      <th>Valeur</th>\n",
       "    </tr>\n",
       "  </thead>\n",
       "  <tbody>\n",
       "    <tr>\n",
       "      <th>0</th>\n",
       "      <td>Afghanistan</td>\n",
       "      <td>2012-2014</td>\n",
       "      <td>8.6</td>\n",
       "    </tr>\n",
       "    <tr>\n",
       "      <th>1</th>\n",
       "      <td>Afghanistan</td>\n",
       "      <td>2013-2015</td>\n",
       "      <td>8.8</td>\n",
       "    </tr>\n",
       "    <tr>\n",
       "      <th>2</th>\n",
       "      <td>Afghanistan</td>\n",
       "      <td>2014-2016</td>\n",
       "      <td>8.9</td>\n",
       "    </tr>\n",
       "    <tr>\n",
       "      <th>3</th>\n",
       "      <td>Afghanistan</td>\n",
       "      <td>2015-2017</td>\n",
       "      <td>9.7</td>\n",
       "    </tr>\n",
       "    <tr>\n",
       "      <th>4</th>\n",
       "      <td>Afghanistan</td>\n",
       "      <td>2016-2018</td>\n",
       "      <td>10.5</td>\n",
       "    </tr>\n",
       "  </tbody>\n",
       "</table>\n",
       "</div>"
      ],
      "text/plain": [
       "          Zone      Année Valeur\n",
       "0  Afghanistan  2012-2014    8.6\n",
       "1  Afghanistan  2013-2015    8.8\n",
       "2  Afghanistan  2014-2016    8.9\n",
       "3  Afghanistan  2015-2017    9.7\n",
       "4  Afghanistan  2016-2018   10.5"
      ]
     },
     "execution_count": 2,
     "metadata": {},
     "output_type": "execute_result"
    }
   ],
   "source": [
    "# Aperçu de la dataframe\n",
    "ma1_sous_nutrition.head()"
   ]
  },
  {
   "cell_type": "code",
   "execution_count": 3,
   "id": "d5b15c72",
   "metadata": {},
   "outputs": [
    {
     "data": {
      "text/plain": [
       "Zone      object\n",
       "Année     object\n",
       "Valeur    object\n",
       "dtype: object"
      ]
     },
     "execution_count": 3,
     "metadata": {},
     "output_type": "execute_result"
    }
   ],
   "source": [
    "#Afficher le type des colonnes\n",
    "ma1_sous_nutrition.dtypes"
   ]
  },
  {
   "cell_type": "code",
   "execution_count": 4,
   "id": "4a5cfafc",
   "metadata": {},
   "outputs": [
    {
     "data": {
      "text/plain": [
       "(1218, 3)"
      ]
     },
     "execution_count": 4,
     "metadata": {},
     "output_type": "execute_result"
    }
   ],
   "source": [
    "#Afficher le nombre de lignes et de colonnes\n",
    "ma1_sous_nutrition.shape"
   ]
  },
  {
   "cell_type": "code",
   "execution_count": 5,
   "id": "f3a480ac",
   "metadata": {},
   "outputs": [
    {
     "data": {
      "text/plain": [
       "array(['8.6', '8.8', '8.9', '9.7', '10.5', '11.1', '2.2', '2.5', '2.8',\n",
       "       '3', '3.1', '3.3', '0.1', '1.3', '1.2', nan, '7.6', '6.2', '5.3',\n",
       "       '5.6', '5.8', '5.7', '1.5', '1.6', '1.1', '1.7', '<0.1', '21.7',\n",
       "       '22.4', '23.3', '22.3', '21.5', '20.9', '0.8', '2', '1.9', '1.8',\n",
       "       '0.4', '0.5', '0.3', '0.2', '3.2', '3.4', '3.6', '3.8', '2.1',\n",
       "       '2.3', '2.4', '0.6', '0.7', '0.9', '3.9', '2.7', '1.4', '4.8',\n",
       "       '4.6', '4.9', '5', '4.4', '4.3', '4.2', '4.5', '26.2', '24.3',\n",
       "       '21.3', '21.1', '2.9', '5.1', '5.2', '5.4', '203.8', '198.3',\n",
       "       '193.1', '190.9', '190.1', '189.2', '23.6', '24', '24.1', '3.7',\n",
       "       '7.3', '7.8', '8.4', '9', '9.1', '10.1', '10', '10.7', '11.5',\n",
       "       '11.9', '11.8', '8.7', '10.3', '11', '1', '5.5', '6.8', '7.9',\n",
       "       '5.9', '7', '9.2', '9.4', '9.6', '6.7', '7.1', '7.2', '14.7',\n",
       "       '17.4', '20.2', '22.2', '22.8', '24.6', '31.1', '28.5', '25.4',\n",
       "       '24.8', '26.1', '14.5', '15.4', '16.5', '15.8', '15.7', '10.8',\n",
       "       '11.2', '11.6', '12', '12.2', '13.5', '13.2', '12.8', '13', '13.4',\n",
       "       '14.1', '4.1', '6.1', '6', '6.5', '2.6', '8', '8.3'], dtype=object)"
      ]
     },
     "execution_count": 5,
     "metadata": {},
     "output_type": "execute_result"
    }
   ],
   "source": [
    "# Recherche des valeurs 'nan' et caractères spéciaux\n",
    "\n",
    "ma1_sous_nutrition['Valeur'].unique()"
   ]
  },
  {
   "cell_type": "code",
   "execution_count": 6,
   "id": "9c66b1b5",
   "metadata": {},
   "outputs": [],
   "source": [
    "# Remplacement des caractères spéciaux '<0.1' par 0\n",
    "\n",
    "ma1_sous_nutrition.loc[ma1_sous_nutrition['Valeur'] == '<0.1'] = 0"
   ]
  },
  {
   "cell_type": "code",
   "execution_count": 7,
   "id": "1856e831",
   "metadata": {},
   "outputs": [],
   "source": [
    "# Remplacement des valeurs 'nan' par 0\n",
    "\n",
    "ma1_sous_nutrition.fillna(0,inplace=True)"
   ]
  },
  {
   "cell_type": "code",
   "execution_count": 8,
   "id": "40cd679b",
   "metadata": {},
   "outputs": [
    {
     "data": {
      "text/plain": [
       "Index(['Zone', 'Année', 'Valeur'], dtype='object')"
      ]
     },
     "execution_count": 8,
     "metadata": {},
     "output_type": "execute_result"
    }
   ],
   "source": [
    "# Vérification des dataframes avant la jointure \n",
    "\n",
    "ma1_population.columns"
   ]
  },
  {
   "cell_type": "code",
   "execution_count": 9,
   "id": "c464ca02",
   "metadata": {},
   "outputs": [
    {
     "data": {
      "text/plain": [
       "Index(['Zone', 'Année', 'Valeur'], dtype='object')"
      ]
     },
     "execution_count": 9,
     "metadata": {},
     "output_type": "execute_result"
    }
   ],
   "source": [
    "ma1_sous_nutrition.columns"
   ]
  },
  {
   "cell_type": "code",
   "execution_count": 10,
   "id": "0331bcc1",
   "metadata": {},
   "outputs": [],
   "source": [
    "# Jointure des dataframes sur la colonne 'Zone' et restriction sur la colonne 'Année'\n",
    "\n",
    "ma1_sous_nutrition = pd.merge(ma1_sous_nutrition.loc[ma1_sous_nutrition['Année']=='2016-2018',['Valeur', 'Zone']],\n",
    "                             ma1_population.loc[ma1_population['Année']==2017,['Valeur','Zone']], on='Zone')"
   ]
  },
  {
   "cell_type": "code",
   "execution_count": 11,
   "id": "b7f35d6b",
   "metadata": {},
   "outputs": [
    {
     "name": "stdout",
     "output_type": "stream",
     "text": [
      "<class 'pandas.core.frame.DataFrame'>\n",
      "Int64Index: 183 entries, 0 to 182\n",
      "Data columns (total 3 columns):\n",
      " #   Column    Non-Null Count  Dtype  \n",
      "---  ------    --------------  -----  \n",
      " 0   Valeur_x  183 non-null    object \n",
      " 1   Zone      183 non-null    object \n",
      " 2   Valeur_y  183 non-null    float64\n",
      "dtypes: float64(1), object(2)\n",
      "memory usage: 5.7+ KB\n"
     ]
    }
   ],
   "source": [
    "# Affiche les informations globales de la dataframe\n",
    "ma1_sous_nutrition.info()"
   ]
  },
  {
   "cell_type": "code",
   "execution_count": 12,
   "id": "0bc5530e",
   "metadata": {},
   "outputs": [],
   "source": [
    "# Je renomme mes colonnes pour plus de lisibilité\n",
    "\n",
    "ma1_sous_nutrition.rename(columns= {'Valeur_x':'Personne sous-nutrition', 'Valeur_y': 'Population'}, inplace= True) "
   ]
  },
  {
   "cell_type": "code",
   "execution_count": 13,
   "id": "9c128a1d",
   "metadata": {},
   "outputs": [
    {
     "data": {
      "text/html": [
       "<div>\n",
       "<style scoped>\n",
       "    .dataframe tbody tr th:only-of-type {\n",
       "        vertical-align: middle;\n",
       "    }\n",
       "\n",
       "    .dataframe tbody tr th {\n",
       "        vertical-align: top;\n",
       "    }\n",
       "\n",
       "    .dataframe thead th {\n",
       "        text-align: right;\n",
       "    }\n",
       "</style>\n",
       "<table border=\"1\" class=\"dataframe\">\n",
       "  <thead>\n",
       "    <tr style=\"text-align: right;\">\n",
       "      <th></th>\n",
       "      <th>Personne sous-nutrition</th>\n",
       "      <th>Zone</th>\n",
       "      <th>Population</th>\n",
       "    </tr>\n",
       "  </thead>\n",
       "  <tbody>\n",
       "    <tr>\n",
       "      <th>0</th>\n",
       "      <td>10.5</td>\n",
       "      <td>Afghanistan</td>\n",
       "      <td>36296.113</td>\n",
       "    </tr>\n",
       "    <tr>\n",
       "      <th>1</th>\n",
       "      <td>3.1</td>\n",
       "      <td>Afrique du Sud</td>\n",
       "      <td>57009.756</td>\n",
       "    </tr>\n",
       "    <tr>\n",
       "      <th>2</th>\n",
       "      <td>0.1</td>\n",
       "      <td>Albanie</td>\n",
       "      <td>2884.169</td>\n",
       "    </tr>\n",
       "    <tr>\n",
       "      <th>3</th>\n",
       "      <td>1.3</td>\n",
       "      <td>Algérie</td>\n",
       "      <td>41389.189</td>\n",
       "    </tr>\n",
       "    <tr>\n",
       "      <th>4</th>\n",
       "      <td>0</td>\n",
       "      <td>Allemagne</td>\n",
       "      <td>82658.409</td>\n",
       "    </tr>\n",
       "  </tbody>\n",
       "</table>\n",
       "</div>"
      ],
      "text/plain": [
       "  Personne sous-nutrition            Zone  Population\n",
       "0                    10.5     Afghanistan   36296.113\n",
       "1                     3.1  Afrique du Sud   57009.756\n",
       "2                     0.1         Albanie    2884.169\n",
       "3                     1.3         Algérie   41389.189\n",
       "4                       0       Allemagne   82658.409"
      ]
     },
     "execution_count": 13,
     "metadata": {},
     "output_type": "execute_result"
    }
   ],
   "source": [
    "ma1_sous_nutrition.head()"
   ]
  },
  {
   "cell_type": "code",
   "execution_count": 14,
   "id": "8291d0b1",
   "metadata": {},
   "outputs": [],
   "source": [
    "# Calcul de la population mondiale avec mise à l'échelle de la colonne \n",
    "\n",
    "population_mondiale = (ma1_sous_nutrition['Population'].sum())*1000"
   ]
  },
  {
   "cell_type": "code",
   "execution_count": 15,
   "id": "e0e80dbb",
   "metadata": {},
   "outputs": [
    {
     "name": "stdout",
     "output_type": "stream",
     "text": [
      "La population mondiale compte 7 528 921 162 habitants.\n"
     ]
    }
   ],
   "source": [
    "print(\"La population mondiale compte {:,.0f} habitants.\".format(population_mondiale).replace(',', ' '))"
   ]
  },
  {
   "cell_type": "code",
   "execution_count": 16,
   "id": "17efcdb9",
   "metadata": {},
   "outputs": [],
   "source": [
    "# Modification du type de la colonne 'Personne sous_nutrition de 'object' à 'float64' pour effectuer mes calculs\n",
    "\n",
    "ma1_sous_nutrition['Personne sous-nutrition'] = ma1_sous_nutrition['Personne sous-nutrition'].astype(\"float64\")"
   ]
  },
  {
   "cell_type": "code",
   "execution_count": 17,
   "id": "060b354f",
   "metadata": {},
   "outputs": [],
   "source": [
    "# Calcul du nombre total de personnes en sous-nutrition avec changement de l'échelle de la colonne 'Personne sous-nutrition'\n",
    "\n",
    "personne_sous_nutrition = ma1_sous_nutrition['Personne sous-nutrition'].sum()*1000000"
   ]
  },
  {
   "cell_type": "code",
   "execution_count": 18,
   "id": "cf3625fc",
   "metadata": {},
   "outputs": [
    {
     "name": "stdout",
     "output_type": "stream",
     "text": [
      "Il y a 535 700 000 personnes en état de sous-nutrition dans le monde.\n"
     ]
    }
   ],
   "source": [
    "print(\"Il y a {:,.0f} personnes en état de sous-nutrition dans le monde.\".format(personne_sous_nutrition).replace(',', ' '))"
   ]
  },
  {
   "cell_type": "code",
   "execution_count": 19,
   "id": "9b843c7c",
   "metadata": {},
   "outputs": [],
   "source": [
    "# Calcul de la proportion de personnes en sous-nutrition\n",
    "\n",
    "proportion = (personne_sous_nutrition / population_mondiale )*100"
   ]
  },
  {
   "cell_type": "code",
   "execution_count": 20,
   "id": "86ee73d8",
   "metadata": {},
   "outputs": [
    {
     "name": "stdout",
     "output_type": "stream",
     "text": [
      "En 2017 : 7.115 % de la population mondiale est en état de sous-nutrition.\n"
     ]
    }
   ],
   "source": [
    "print(\"En 2017 : {:,.3f} % de la population mondiale est en état de sous-nutrition.\".format(proportion).replace(',', ' '))"
   ]
  },
  {
   "cell_type": "code",
   "execution_count": 21,
   "id": "7b7dd98a",
   "metadata": {},
   "outputs": [
    {
     "data": {
      "image/png": "[encoded data removed]",
      "text/plain": [
       "<Figure size 432x288 with 1 Axes>"
      ]
     },
     "metadata": {},
     "output_type": "display_data"
    }
   ],
   "source": [
    "# Création du graphique\n",
    "\n",
    "# Importation du module pyplot de la librairie matplotlib\n",
    "import matplotlib.pyplot as plt \n",
    "\n",
    "# création d'une liste comme arguments pour le graphique\n",
    "portion = [7.115, 92.885] \n",
    "# Paramétrage du graphique\n",
    "plt.pie(portion,labels=['Sous-nutrition', 'Nutrition standard'],colors = ['orange','cornflowerblue'],autopct='%.2f%%',pctdistance=0.71,shadow=True, startangle=360,wedgeprops={'linewidth': 1.0,'edgecolor':'black'},explode=(0, 0.3),textprops={'fontsize': 13})\n",
    "# Ajout du titre\n",
    "plt.title('Proportion de la population en sous-nutrition')\n",
    "# Affichage\n",
    "plt.show()"
   ]
  },
  {
   "cell_type": "markdown",
   "id": "6847dc3b",
   "metadata": {},
   "source": [
    "### Le nombre théorique de personnes qui pourraient être nourries en 2017 <a class=\"anchor\" id=\"section_1_2\"></a>"
   ]
  },
  {
   "cell_type": "markdown",
   "id": "ea619087",
   "metadata": {},
   "source": [
    "La formule de cette requête est : **(Total de la disposition alimentaire(Kcal)/2500/365**)  \n",
    "*(2500 Kcal comme valeur quotidienne recommandée et 365 jours pour obtenir la disponibilité par jour)*"
   ]
  },
  {
   "cell_type": "markdown",
   "id": "11ed5265",
   "metadata": {},
   "source": [
    "Afin de traiter cette requête j'ai choisi comme valeur énergétique quotidienne standard :\n",
    "* 2500 Kcalories \n",
    "* 10 grammes de protéines animal \n"
   ]
  },
  {
   "cell_type": "markdown",
   "id": "d194a8de",
   "metadata": {},
   "source": [
    "Pour cela je dois :\n",
    "\n",
    "* Importer les fichiers **'population.csv'** et **'dispo_alimentaire.csv'**\n",
    "* Trier mes colonnes et les regrouper\n",
    "* Filtrer sur l'année '2017'\n",
    "* Faire une jointure entre les deux fichiers sur la colonne 'Zone'\n",
    "* Calculer la disponibilité alimentaire totale\n"
   ]
  },
  {
   "cell_type": "code",
   "execution_count": 22,
   "id": "ec3f0ffb",
   "metadata": {},
   "outputs": [],
   "source": [
    "# Ouverture des fichiers csv\n",
    "ma2_population = pd.read_csv('population.csv')\n",
    "ma2_dispo_alimentaire = pd.read_csv('dispo_alimentaire.csv')"
   ]
  },
  {
   "cell_type": "code",
   "execution_count": 23,
   "id": "12cafd96",
   "metadata": {},
   "outputs": [
    {
     "name": "stdout",
     "output_type": "stream",
     "text": [
      "<class 'pandas.core.frame.DataFrame'>\n",
      "RangeIndex: 15605 entries, 0 to 15604\n",
      "Data columns (total 18 columns):\n",
      " #   Column                                                         Non-Null Count  Dtype  \n",
      "---  ------                                                         --------------  -----  \n",
      " 0   Zone                                                           15605 non-null  object \n",
      " 1   Produit                                                        15605 non-null  object \n",
      " 2   Origine                                                        15605 non-null  object \n",
      " 3   Aliments pour animaux                                          2720 non-null   float64\n",
      " 4   Autres Utilisations                                            5496 non-null   float64\n",
      " 5   Disponibilité alimentaire (Kcal/personne/jour)                 14241 non-null  float64\n",
      " 6   Disponibilité alimentaire en quantité (kg/personne/an)         14015 non-null  float64\n",
      " 7   Disponibilité de matière grasse en quantité (g/personne/jour)  11794 non-null  float64\n",
      " 8   Disponibilité de protéines en quantité (g/personne/jour)       11561 non-null  float64\n",
      " 9   Disponibilité intérieure                                       15382 non-null  float64\n",
      " 10  Exportations - Quantité                                        12226 non-null  float64\n",
      " 11  Importations - Quantité                                        14852 non-null  float64\n",
      " 12  Nourriture                                                     14015 non-null  float64\n",
      " 13  Pertes                                                         4278 non-null   float64\n",
      " 14  Production                                                     9180 non-null   float64\n",
      " 15  Semences                                                       2091 non-null   float64\n",
      " 16  Traitement                                                     2292 non-null   float64\n",
      " 17  Variation de stock                                             6776 non-null   float64\n",
      "dtypes: float64(15), object(3)\n",
      "memory usage: 2.1+ MB\n"
     ]
    }
   ],
   "source": [
    "ma2_dispo_alimentaire.info()"
   ]
  },
  {
   "cell_type": "code",
   "execution_count": 24,
   "id": "4b6b0d63",
   "metadata": {},
   "outputs": [
    {
     "data": {
      "text/html": [
       "<div>\n",
       "<style scoped>\n",
       "    .dataframe tbody tr th:only-of-type {\n",
       "        vertical-align: middle;\n",
       "    }\n",
       "\n",
       "    .dataframe tbody tr th {\n",
       "        vertical-align: top;\n",
       "    }\n",
       "\n",
       "    .dataframe thead th {\n",
       "        text-align: right;\n",
       "    }\n",
       "</style>\n",
       "<table border=\"1\" class=\"dataframe\">\n",
       "  <thead>\n",
       "    <tr style=\"text-align: right;\">\n",
       "      <th></th>\n",
       "      <th>Zone</th>\n",
       "      <th>Produit</th>\n",
       "      <th>Origine</th>\n",
       "      <th>Aliments pour animaux</th>\n",
       "      <th>Autres Utilisations</th>\n",
       "      <th>Disponibilité alimentaire (Kcal/personne/jour)</th>\n",
       "      <th>Disponibilité alimentaire en quantité (kg/personne/an)</th>\n",
       "      <th>Disponibilité de matière grasse en quantité (g/personne/jour)</th>\n",
       "      <th>Disponibilité de protéines en quantité (g/personne/jour)</th>\n",
       "      <th>Disponibilité intérieure</th>\n",
       "      <th>Exportations - Quantité</th>\n",
       "      <th>Importations - Quantité</th>\n",
       "      <th>Nourriture</th>\n",
       "      <th>Pertes</th>\n",
       "      <th>Production</th>\n",
       "      <th>Semences</th>\n",
       "      <th>Traitement</th>\n",
       "      <th>Variation de stock</th>\n",
       "    </tr>\n",
       "  </thead>\n",
       "  <tbody>\n",
       "    <tr>\n",
       "      <th>0</th>\n",
       "      <td>Afghanistan</td>\n",
       "      <td>Abats Comestible</td>\n",
       "      <td>animale</td>\n",
       "      <td>NaN</td>\n",
       "      <td>NaN</td>\n",
       "      <td>5.0</td>\n",
       "      <td>1.72</td>\n",
       "      <td>0.20</td>\n",
       "      <td>0.77</td>\n",
       "      <td>53.0</td>\n",
       "      <td>NaN</td>\n",
       "      <td>NaN</td>\n",
       "      <td>53.0</td>\n",
       "      <td>NaN</td>\n",
       "      <td>53.0</td>\n",
       "      <td>NaN</td>\n",
       "      <td>NaN</td>\n",
       "      <td>NaN</td>\n",
       "    </tr>\n",
       "    <tr>\n",
       "      <th>1</th>\n",
       "      <td>Afghanistan</td>\n",
       "      <td>Agrumes, Autres</td>\n",
       "      <td>vegetale</td>\n",
       "      <td>NaN</td>\n",
       "      <td>NaN</td>\n",
       "      <td>1.0</td>\n",
       "      <td>1.29</td>\n",
       "      <td>0.01</td>\n",
       "      <td>0.02</td>\n",
       "      <td>41.0</td>\n",
       "      <td>2.0</td>\n",
       "      <td>40.0</td>\n",
       "      <td>39.0</td>\n",
       "      <td>2.0</td>\n",
       "      <td>3.0</td>\n",
       "      <td>NaN</td>\n",
       "      <td>NaN</td>\n",
       "      <td>NaN</td>\n",
       "    </tr>\n",
       "    <tr>\n",
       "      <th>2</th>\n",
       "      <td>Afghanistan</td>\n",
       "      <td>Aliments pour enfants</td>\n",
       "      <td>vegetale</td>\n",
       "      <td>NaN</td>\n",
       "      <td>NaN</td>\n",
       "      <td>1.0</td>\n",
       "      <td>0.06</td>\n",
       "      <td>0.01</td>\n",
       "      <td>0.03</td>\n",
       "      <td>2.0</td>\n",
       "      <td>NaN</td>\n",
       "      <td>2.0</td>\n",
       "      <td>2.0</td>\n",
       "      <td>NaN</td>\n",
       "      <td>NaN</td>\n",
       "      <td>NaN</td>\n",
       "      <td>NaN</td>\n",
       "      <td>NaN</td>\n",
       "    </tr>\n",
       "    <tr>\n",
       "      <th>3</th>\n",
       "      <td>Afghanistan</td>\n",
       "      <td>Ananas</td>\n",
       "      <td>vegetale</td>\n",
       "      <td>NaN</td>\n",
       "      <td>NaN</td>\n",
       "      <td>0.0</td>\n",
       "      <td>0.00</td>\n",
       "      <td>NaN</td>\n",
       "      <td>NaN</td>\n",
       "      <td>0.0</td>\n",
       "      <td>NaN</td>\n",
       "      <td>0.0</td>\n",
       "      <td>0.0</td>\n",
       "      <td>NaN</td>\n",
       "      <td>NaN</td>\n",
       "      <td>NaN</td>\n",
       "      <td>NaN</td>\n",
       "      <td>NaN</td>\n",
       "    </tr>\n",
       "    <tr>\n",
       "      <th>4</th>\n",
       "      <td>Afghanistan</td>\n",
       "      <td>Bananes</td>\n",
       "      <td>vegetale</td>\n",
       "      <td>NaN</td>\n",
       "      <td>NaN</td>\n",
       "      <td>4.0</td>\n",
       "      <td>2.70</td>\n",
       "      <td>0.02</td>\n",
       "      <td>0.05</td>\n",
       "      <td>82.0</td>\n",
       "      <td>NaN</td>\n",
       "      <td>82.0</td>\n",
       "      <td>82.0</td>\n",
       "      <td>NaN</td>\n",
       "      <td>NaN</td>\n",
       "      <td>NaN</td>\n",
       "      <td>NaN</td>\n",
       "      <td>NaN</td>\n",
       "    </tr>\n",
       "  </tbody>\n",
       "</table>\n",
       "</div>"
      ],
      "text/plain": [
       "          Zone                Produit   Origine  Aliments pour animaux  \\\n",
       "0  Afghanistan       Abats Comestible   animale                    NaN   \n",
       "1  Afghanistan        Agrumes, Autres  vegetale                    NaN   \n",
       "2  Afghanistan  Aliments pour enfants  vegetale                    NaN   \n",
       "3  Afghanistan                 Ananas  vegetale                    NaN   \n",
       "4  Afghanistan                Bananes  vegetale                    NaN   \n",
       "\n",
       "   Autres Utilisations  Disponibilité alimentaire (Kcal/personne/jour)  \\\n",
       "0                  NaN                                             5.0   \n",
       "1                  NaN                                             1.0   \n",
       "2                  NaN                                             1.0   \n",
       "3                  NaN                                             0.0   \n",
       "4                  NaN                                             4.0   \n",
       "\n",
       "   Disponibilité alimentaire en quantité (kg/personne/an)  \\\n",
       "0                                               1.72        \n",
       "1                                               1.29        \n",
       "2                                               0.06        \n",
       "3                                               0.00        \n",
       "4                                               2.70        \n",
       "\n",
       "   Disponibilité de matière grasse en quantité (g/personne/jour)  \\\n",
       "0                                               0.20               \n",
       "1                                               0.01               \n",
       "2                                               0.01               \n",
       "3                                                NaN               \n",
       "4                                               0.02               \n",
       "\n",
       "   Disponibilité de protéines en quantité (g/personne/jour)  \\\n",
       "0                                               0.77          \n",
       "1                                               0.02          \n",
       "2                                               0.03          \n",
       "3                                                NaN          \n",
       "4                                               0.05          \n",
       "\n",
       "   Disponibilité intérieure  Exportations - Quantité  Importations - Quantité  \\\n",
       "0                      53.0                      NaN                      NaN   \n",
       "1                      41.0                      2.0                     40.0   \n",
       "2                       2.0                      NaN                      2.0   \n",
       "3                       0.0                      NaN                      0.0   \n",
       "4                      82.0                      NaN                     82.0   \n",
       "\n",
       "   Nourriture  Pertes  Production  Semences  Traitement  Variation de stock  \n",
       "0        53.0     NaN        53.0       NaN         NaN                 NaN  \n",
       "1        39.0     2.0         3.0       NaN         NaN                 NaN  \n",
       "2         2.0     NaN         NaN       NaN         NaN                 NaN  \n",
       "3         0.0     NaN         NaN       NaN         NaN                 NaN  \n",
       "4        82.0     NaN         NaN       NaN         NaN                 NaN  "
      ]
     },
     "execution_count": 24,
     "metadata": {},
     "output_type": "execute_result"
    }
   ],
   "source": [
    "ma2_dispo_alimentaire.head()"
   ]
  },
  {
   "cell_type": "code",
   "execution_count": 25,
   "id": "c3da5fd8",
   "metadata": {},
   "outputs": [],
   "source": [
    "# Sélection des colonnes\n",
    "\n",
    "ma2_dispo_alimentaire = ma2_dispo_alimentaire[['Zone','Disponibilité alimentaire (Kcal/personne/jour)',\n",
    "                           'Disponibilité alimentaire en quantité (kg/personne/an)',\n",
    "                           'Disponibilité de matière grasse en quantité (g/personne/jour)',\n",
    "                           'Disponibilité de protéines en quantité (g/personne/jour)',\n",
    "                           'Disponibilité intérieure','Exportations - Quantité','Importations - Quantité']]\n"
   ]
  },
  {
   "cell_type": "code",
   "execution_count": 26,
   "id": "0da503d3",
   "metadata": {},
   "outputs": [],
   "source": [
    "# Regroupement des données sur la colonne 'Zone' en affichant que les valeurs des colonnes disponibilité alimentaire\n",
    "\n",
    "ma2_dispo_alimentaire = ma2_dispo_alimentaire.groupby('Zone').sum()[['Disponibilité alimentaire (Kcal/personne/jour)',\n",
    "                                     'Disponibilité alimentaire en quantité (kg/personne/an)']]"
   ]
  },
  {
   "cell_type": "code",
   "execution_count": 27,
   "id": "6642ce0e",
   "metadata": {},
   "outputs": [],
   "source": [
    "# Restriction de la colonne 'Année' sur l'année 2017.\n",
    "\n",
    "ma2_population = ma2_population.loc[ma2_population['Année']==2017,:]"
   ]
  },
  {
   "cell_type": "code",
   "execution_count": 28,
   "id": "8a90dd15",
   "metadata": {},
   "outputs": [],
   "source": [
    "# Jointure des dataframes avec comme clé la colonne 'Zone' par la gauche pour conserver les données de ma dataframe ma2_population\n",
    "# et ajouter les données complémentaires de la datframe ma2_dispo_alimentaire\n",
    "\n",
    "ma2_population = pd.merge( ma2_population,ma2_dispo_alimentaire, on = \"Zone\", how=\"left\")"
   ]
  },
  {
   "cell_type": "code",
   "execution_count": 29,
   "id": "e73b901c",
   "metadata": {},
   "outputs": [
    {
     "data": {
      "text/html": [
       "<div>\n",
       "<style scoped>\n",
       "    .dataframe tbody tr th:only-of-type {\n",
       "        vertical-align: middle;\n",
       "    }\n",
       "\n",
       "    .dataframe tbody tr th {\n",
       "        vertical-align: top;\n",
       "    }\n",
       "\n",
       "    .dataframe thead th {\n",
       "        text-align: right;\n",
       "    }\n",
       "</style>\n",
       "<table border=\"1\" class=\"dataframe\">\n",
       "  <thead>\n",
       "    <tr style=\"text-align: right;\">\n",
       "      <th></th>\n",
       "      <th>Zone</th>\n",
       "      <th>Année</th>\n",
       "      <th>Valeur</th>\n",
       "      <th>Disponibilité alimentaire (Kcal/personne/jour)</th>\n",
       "      <th>Disponibilité alimentaire en quantité (kg/personne/an)</th>\n",
       "    </tr>\n",
       "  </thead>\n",
       "  <tbody>\n",
       "    <tr>\n",
       "      <th>0</th>\n",
       "      <td>Afghanistan</td>\n",
       "      <td>2017</td>\n",
       "      <td>36296.113</td>\n",
       "      <td>2087.0</td>\n",
       "      <td>351.41</td>\n",
       "    </tr>\n",
       "    <tr>\n",
       "      <th>1</th>\n",
       "      <td>Afrique du Sud</td>\n",
       "      <td>2017</td>\n",
       "      <td>57009.756</td>\n",
       "      <td>3020.0</td>\n",
       "      <td>564.80</td>\n",
       "    </tr>\n",
       "    <tr>\n",
       "      <th>2</th>\n",
       "      <td>Albanie</td>\n",
       "      <td>2017</td>\n",
       "      <td>2884.169</td>\n",
       "      <td>3188.0</td>\n",
       "      <td>1095.54</td>\n",
       "    </tr>\n",
       "    <tr>\n",
       "      <th>3</th>\n",
       "      <td>Algérie</td>\n",
       "      <td>2017</td>\n",
       "      <td>41389.189</td>\n",
       "      <td>3293.0</td>\n",
       "      <td>809.13</td>\n",
       "    </tr>\n",
       "    <tr>\n",
       "      <th>4</th>\n",
       "      <td>Allemagne</td>\n",
       "      <td>2017</td>\n",
       "      <td>82658.409</td>\n",
       "      <td>3503.0</td>\n",
       "      <td>957.52</td>\n",
       "    </tr>\n",
       "  </tbody>\n",
       "</table>\n",
       "</div>"
      ],
      "text/plain": [
       "             Zone  Année     Valeur  \\\n",
       "0     Afghanistan   2017  36296.113   \n",
       "1  Afrique du Sud   2017  57009.756   \n",
       "2         Albanie   2017   2884.169   \n",
       "3         Algérie   2017  41389.189   \n",
       "4       Allemagne   2017  82658.409   \n",
       "\n",
       "   Disponibilité alimentaire (Kcal/personne/jour)  \\\n",
       "0                                          2087.0   \n",
       "1                                          3020.0   \n",
       "2                                          3188.0   \n",
       "3                                          3293.0   \n",
       "4                                          3503.0   \n",
       "\n",
       "   Disponibilité alimentaire en quantité (kg/personne/an)  \n",
       "0                                             351.41       \n",
       "1                                             564.80       \n",
       "2                                            1095.54       \n",
       "3                                             809.13       \n",
       "4                                             957.52       "
      ]
     },
     "execution_count": 29,
     "metadata": {},
     "output_type": "execute_result"
    }
   ],
   "source": [
    "ma2_population.head()"
   ]
  },
  {
   "cell_type": "code",
   "execution_count": 30,
   "id": "accf75da",
   "metadata": {},
   "outputs": [],
   "source": [
    "# Calcul de la disponibilité alimentaire (Kcal) totale avec mise à l'échelle de la colonne 'Valeur'\n",
    "\n",
    "ma2_total_dispo_kal = ((ma2_population['Valeur']*1000) * (ma2_population['Disponibilité alimentaire (Kcal/personne/jour)'])).sum()"
   ]
  },
  {
   "cell_type": "code",
   "execution_count": 31,
   "id": "79c3d8b7",
   "metadata": {},
   "outputs": [
    {
     "name": "stdout",
     "output_type": "stream",
     "text": [
      "La quantité de disponibilité alimentaire est de : 20 918 984 627 331.00 Kcal\n"
     ]
    }
   ],
   "source": [
    "print(\"La quantité de disponibilité alimentaire est de : {:,.2f} Kcal\".format(ma2_total_dispo_kal).replace(',', ' '))"
   ]
  },
  {
   "cell_type": "code",
   "execution_count": 32,
   "id": "42eaa07d",
   "metadata": {},
   "outputs": [],
   "source": [
    "# Calcul du nombre de personnes pouvant être nourris avec la disponibilité alimentaire \n",
    "\n",
    "ma2_total_nourri = ma2_total_dispo_kal/2500"
   ]
  },
  {
   "cell_type": "code",
   "execution_count": 33,
   "id": "1dcae692",
   "metadata": {
    "scrolled": true
   },
   "outputs": [
    {
     "name": "stdout",
     "output_type": "stream",
     "text": [
      "Le nombre théorique de personnes qui pourraient être nourries en 2017 est: 8 367 593 850.93 personnes.\n"
     ]
    }
   ],
   "source": [
    "print(\"Le nombre théorique de personnes qui pourraient être nourries en 2017 est: {:,.2f} personnes.\".format(ma2_total_nourri).replace(',', ' '))"
   ]
  },
  {
   "cell_type": "code",
   "execution_count": 34,
   "id": "92ded4d1",
   "metadata": {},
   "outputs": [],
   "source": [
    "# Calcul de la population mondiale\n",
    "ma2_total_population = (ma2_population['Valeur']*1000).sum()"
   ]
  },
  {
   "cell_type": "code",
   "execution_count": 35,
   "id": "be35aae4",
   "metadata": {},
   "outputs": [
    {
     "name": "stdout",
     "output_type": "stream",
     "text": [
      "La population totale en 2017 est: 7 548 134 111.00 personnes.\n"
     ]
    }
   ],
   "source": [
    "print(\"La population totale en 2017 est: {:,.2f} personnes.\".format(ma2_total_population).replace(',', ' '))"
   ]
  },
  {
   "cell_type": "code",
   "execution_count": 36,
   "id": "76a6a7ac",
   "metadata": {},
   "outputs": [],
   "source": [
    "# Calcul de la proportion de personnes pouvant être nourries\n",
    "ma2_proportion = ((ma2_total_nourri/ma2_total_population)*100).sum()"
   ]
  },
  {
   "cell_type": "code",
   "execution_count": 37,
   "id": "115e6201",
   "metadata": {},
   "outputs": [
    {
     "name": "stdout",
     "output_type": "stream",
     "text": [
      "La proportion de personnes pouvant être nourries avec la disponibilité alimentaire (Kcal) totale est de : 110.86 %\n"
     ]
    }
   ],
   "source": [
    "print(\"La proportion de personnes pouvant être nourries avec la disponibilité alimentaire (Kcal) totale est de : {:,.2f} %\".format(ma2_proportion).replace(',', ' '))"
   ]
  },
  {
   "cell_type": "code",
   "execution_count": 38,
   "id": "8cdb9092",
   "metadata": {
    "scrolled": false
   },
   "outputs": [
    {
     "data": {
      "text/plain": [
       "(array([0.e+00, 1.e+09, 2.e+09, 3.e+09, 4.e+09, 5.e+09, 6.e+09, 7.e+09,\n",
       "        8.e+09, 9.e+09]),\n",
       " [Text(0, 0, ''),\n",
       "  Text(0, 0, ''),\n",
       "  Text(0, 0, ''),\n",
       "  Text(0, 0, ''),\n",
       "  Text(0, 0, ''),\n",
       "  Text(0, 0, ''),\n",
       "  Text(0, 0, ''),\n",
       "  Text(0, 0, ''),\n",
       "  Text(0, 0, ''),\n",
       "  Text(0, 0, '')])"
      ]
     },
     "execution_count": 38,
     "metadata": {},
     "output_type": "execute_result"
    },
    {
     "data": {
      "image/png": "[encoded data removed]",
      "text/plain": [
       "<Figure size 432x288 with 1 Axes>"
      ]
     },
     "metadata": {
      "needs_background": "light"
     },
     "output_type": "display_data"
    }
   ],
   "source": [
    "# Création d'un graphique à barres \n",
    "import matplotlib.pyplot as plt\n",
    "# création de la figure\n",
    "fig = plt.figure ()\n",
    "# Ajout des axes\n",
    "ax = fig.add_axes([0.3,0.6,1,1])\n",
    "# Création des listes de données\n",
    "population_x = ['Population mondiale (100%)','Nbr théorique personnes nourris (110.86%)']\n",
    "chiffres_y = [7548134111.00,8367593850.93]\n",
    "# Paramétrage du graphique à barres\n",
    "plt.barh(population_x,chiffres_y,color = ('deepskyblue','gold'),edgecolor='black')\n",
    "# Création du titre \n",
    "plt.title('Disponibilité Alimentaire Mondiale', fontsize= 13)\n",
    "# Création d'un titre sur l'axe x \n",
    "plt.xlabel('(Unité : Milliard)', fontsize=13, color='black') \n",
    "# Paramétrage de la taille et de la couleur des axes x et y\n",
    "plt.yticks(fontsize=13, color='black')\n",
    "plt.xticks(fontsize=13, color='black')\n",
    "\n",
    "\n"
   ]
  },
  {
   "cell_type": "markdown",
   "id": "0676a4a6",
   "metadata": {},
   "source": [
    "### Le nombre théorique de personnes qui pourraient être nourries à partir de la disponibilité alimentaire des produits végétaux en 2017 <a class=\"anchor\" id=\"section_1_3\"></a>"
   ]
  },
  {
   "cell_type": "markdown",
   "id": "6d9631fc",
   "metadata": {},
   "source": [
    "La formule reste la même sauf que l'on ne conserve que la disponibilité alimentaire végétale :  \n",
    "\n",
    "**(Total de la disposition alimentaire vegetale(Kcal)/2500/365**)  \n",
    "\n",
    "*(2500 pour la valeur quotidienne recommandée et 365 pour obtenir la disponibilité par jour)*"
   ]
  },
  {
   "cell_type": "markdown",
   "id": "400634a1",
   "metadata": {},
   "source": [
    "Pour cela je dois :\n",
    "\n",
    "* Importer les fichiers 'population.csv' et 'dispo_alimentaire.csv'\n",
    "* Trier mes colonnes et les regrouper\n",
    "* Faire un .loc sur la colonne \"Origine\" afin de ne conserver que les données d'origine végétale\n",
    "* Filtrer sur l'année '2017'\n",
    "* Faire une jointure entre les deux fichiers sur la colonne 'Zone'\n",
    "* Appliquer ma formule"
   ]
  },
  {
   "cell_type": "code",
   "execution_count": 39,
   "id": "aaed3c0c",
   "metadata": {},
   "outputs": [],
   "source": [
    "# Ouverture des fichiers\n",
    "ma3_dispo = pd.read_csv('dispo_alimentaire.csv')\n",
    "ma3_popu = pd.read_csv('population.csv')"
   ]
  },
  {
   "cell_type": "code",
   "execution_count": 40,
   "id": "64464cc4",
   "metadata": {},
   "outputs": [],
   "source": [
    "# Restriction sur les colonnes afin de ne conserver que celles dont nous avons besoin\n",
    "ma3_dispo = ma3_dispo[['Zone','Produit','Origine','Disponibilité alimentaire (Kcal/personne/jour)','Disponibilité alimentaire en quantité (kg/personne/an)','Disponibilité de protéines en quantité (g/personne/jour)']]"
   ]
  },
  {
   "cell_type": "code",
   "execution_count": 41,
   "id": "120ca353",
   "metadata": {},
   "outputs": [],
   "source": [
    "# Restriction sur la colonne 'Origine' pour ne conserver que les données sur aliments d'origine végétal.\n",
    "ma3_dispo = ma3_dispo.loc[ma3_dispo['Origine'] == 'vegetale',:]"
   ]
  },
  {
   "cell_type": "code",
   "execution_count": 42,
   "id": "73643c56",
   "metadata": {},
   "outputs": [],
   "source": [
    "# Je regroupe mes données par 'Zone'\n",
    "ma3_dispo= ma3_dispo.groupby('Zone').sum()"
   ]
  },
  {
   "cell_type": "code",
   "execution_count": 43,
   "id": "236b36b0",
   "metadata": {},
   "outputs": [
    {
     "data": {
      "text/html": [
       "<div>\n",
       "<style scoped>\n",
       "    .dataframe tbody tr th:only-of-type {\n",
       "        vertical-align: middle;\n",
       "    }\n",
       "\n",
       "    .dataframe tbody tr th {\n",
       "        vertical-align: top;\n",
       "    }\n",
       "\n",
       "    .dataframe thead th {\n",
       "        text-align: right;\n",
       "    }\n",
       "</style>\n",
       "<table border=\"1\" class=\"dataframe\">\n",
       "  <thead>\n",
       "    <tr style=\"text-align: right;\">\n",
       "      <th></th>\n",
       "      <th>Disponibilité alimentaire (Kcal/personne/jour)</th>\n",
       "      <th>Disponibilité alimentaire en quantité (kg/personne/an)</th>\n",
       "      <th>Disponibilité de protéines en quantité (g/personne/jour)</th>\n",
       "    </tr>\n",
       "    <tr>\n",
       "      <th>Zone</th>\n",
       "      <th></th>\n",
       "      <th></th>\n",
       "      <th></th>\n",
       "    </tr>\n",
       "  </thead>\n",
       "  <tbody>\n",
       "    <tr>\n",
       "      <th>Afghanistan</th>\n",
       "      <td>1871.0</td>\n",
       "      <td>271.49</td>\n",
       "      <td>46.05</td>\n",
       "    </tr>\n",
       "    <tr>\n",
       "      <th>Afrique du Sud</th>\n",
       "      <td>2533.0</td>\n",
       "      <td>425.17</td>\n",
       "      <td>48.94</td>\n",
       "    </tr>\n",
       "    <tr>\n",
       "      <th>Albanie</th>\n",
       "      <td>2203.0</td>\n",
       "      <td>706.49</td>\n",
       "      <td>51.96</td>\n",
       "    </tr>\n",
       "    <tr>\n",
       "      <th>Algérie</th>\n",
       "      <td>2915.0</td>\n",
       "      <td>632.35</td>\n",
       "      <td>66.94</td>\n",
       "    </tr>\n",
       "    <tr>\n",
       "      <th>Allemagne</th>\n",
       "      <td>2461.0</td>\n",
       "      <td>568.82</td>\n",
       "      <td>39.90</td>\n",
       "    </tr>\n",
       "  </tbody>\n",
       "</table>\n",
       "</div>"
      ],
      "text/plain": [
       "                Disponibilité alimentaire (Kcal/personne/jour)  \\\n",
       "Zone                                                             \n",
       "Afghanistan                                             1871.0   \n",
       "Afrique du Sud                                          2533.0   \n",
       "Albanie                                                 2203.0   \n",
       "Algérie                                                 2915.0   \n",
       "Allemagne                                               2461.0   \n",
       "\n",
       "                Disponibilité alimentaire en quantité (kg/personne/an)  \\\n",
       "Zone                                                                     \n",
       "Afghanistan                                                271.49        \n",
       "Afrique du Sud                                             425.17        \n",
       "Albanie                                                    706.49        \n",
       "Algérie                                                    632.35        \n",
       "Allemagne                                                  568.82        \n",
       "\n",
       "                Disponibilité de protéines en quantité (g/personne/jour)  \n",
       "Zone                                                                      \n",
       "Afghanistan                                                 46.05         \n",
       "Afrique du Sud                                              48.94         \n",
       "Albanie                                                     51.96         \n",
       "Algérie                                                     66.94         \n",
       "Allemagne                                                   39.90         "
      ]
     },
     "execution_count": 43,
     "metadata": {},
     "output_type": "execute_result"
    }
   ],
   "source": [
    "ma3_dispo.head()"
   ]
  },
  {
   "cell_type": "code",
   "execution_count": 44,
   "id": "4b88c8a9",
   "metadata": {},
   "outputs": [],
   "source": [
    "# Je fais une restriction sur la colonne 'Année' pour ne conserver que les données de l'année 2017\n",
    "ma3_popu = ma3_popu.loc[ma3_popu['Année']==2017,:]"
   ]
  },
  {
   "cell_type": "code",
   "execution_count": 45,
   "id": "81ec31b0",
   "metadata": {
    "scrolled": true
   },
   "outputs": [
    {
     "data": {
      "text/html": [
       "<div>\n",
       "<style scoped>\n",
       "    .dataframe tbody tr th:only-of-type {\n",
       "        vertical-align: middle;\n",
       "    }\n",
       "\n",
       "    .dataframe tbody tr th {\n",
       "        vertical-align: top;\n",
       "    }\n",
       "\n",
       "    .dataframe thead th {\n",
       "        text-align: right;\n",
       "    }\n",
       "</style>\n",
       "<table border=\"1\" class=\"dataframe\">\n",
       "  <thead>\n",
       "    <tr style=\"text-align: right;\">\n",
       "      <th></th>\n",
       "      <th>Zone</th>\n",
       "      <th>Année</th>\n",
       "      <th>Valeur</th>\n",
       "    </tr>\n",
       "  </thead>\n",
       "  <tbody>\n",
       "    <tr>\n",
       "      <th>4</th>\n",
       "      <td>Afghanistan</td>\n",
       "      <td>2017</td>\n",
       "      <td>36296.113</td>\n",
       "    </tr>\n",
       "    <tr>\n",
       "      <th>10</th>\n",
       "      <td>Afrique du Sud</td>\n",
       "      <td>2017</td>\n",
       "      <td>57009.756</td>\n",
       "    </tr>\n",
       "    <tr>\n",
       "      <th>16</th>\n",
       "      <td>Albanie</td>\n",
       "      <td>2017</td>\n",
       "      <td>2884.169</td>\n",
       "    </tr>\n",
       "    <tr>\n",
       "      <th>22</th>\n",
       "      <td>Algérie</td>\n",
       "      <td>2017</td>\n",
       "      <td>41389.189</td>\n",
       "    </tr>\n",
       "    <tr>\n",
       "      <th>28</th>\n",
       "      <td>Allemagne</td>\n",
       "      <td>2017</td>\n",
       "      <td>82658.409</td>\n",
       "    </tr>\n",
       "  </tbody>\n",
       "</table>\n",
       "</div>"
      ],
      "text/plain": [
       "              Zone  Année     Valeur\n",
       "4      Afghanistan   2017  36296.113\n",
       "10  Afrique du Sud   2017  57009.756\n",
       "16         Albanie   2017   2884.169\n",
       "22         Algérie   2017  41389.189\n",
       "28       Allemagne   2017  82658.409"
      ]
     },
     "execution_count": 45,
     "metadata": {},
     "output_type": "execute_result"
    }
   ],
   "source": [
    "ma3_popu.head()"
   ]
  },
  {
   "cell_type": "code",
   "execution_count": 46,
   "id": "216a564f",
   "metadata": {},
   "outputs": [],
   "source": [
    "# Je fais une jointure de ma dataframe ma3_dispo sur la dataframe ma3_popu en prenant comme index la colonne 'Zone'\n",
    "ma3_dispo = pd.merge(ma3_dispo,ma3_popu, on= 'Zone')"
   ]
  },
  {
   "cell_type": "code",
   "execution_count": 47,
   "id": "0c8acdb1",
   "metadata": {},
   "outputs": [],
   "source": [
    "# Je calcule la disponibilité alimentaire en mettant à l'échelle ma colonne 'Valeur'\n",
    "ma3_total_dispo_veg_kcal=(((ma3_dispo['Valeur']*1000)*ma3_dispo['Disponibilité alimentaire (Kcal/personne/jour)'] ).sum())/2500"
   ]
  },
  {
   "cell_type": "code",
   "execution_count": 48,
   "id": "c06e7e12",
   "metadata": {},
   "outputs": [
    {
     "name": "stdout",
     "output_type": "stream",
     "text": [
      "Le nombre de personnes pouvant être nourries avec la disponibilité alimentaire végétale totale est de : 6 904 305 684.60 personnes\n"
     ]
    }
   ],
   "source": [
    "print(\"Le nombre de personnes pouvant être nourries avec la disponibilité alimentaire végétale totale est de : {:,.2f} personnes\".format(ma3_total_dispo_veg_kcal).replace(',', ' '))"
   ]
  },
  {
   "cell_type": "code",
   "execution_count": 49,
   "id": "06506d7f",
   "metadata": {},
   "outputs": [],
   "source": [
    "# Calcul de la population totale\n",
    "ma3_total_popu = (ma3_popu['Valeur']*1000).sum()"
   ]
  },
  {
   "cell_type": "code",
   "execution_count": 50,
   "id": "8a88332b",
   "metadata": {},
   "outputs": [
    {
     "name": "stdout",
     "output_type": "stream",
     "text": [
      "La population mondiale en 2017 est de 7 548 134 111.00 humains. \n"
     ]
    }
   ],
   "source": [
    "print(\"La population mondiale en 2017 est de {:,.2f} humains. \".format(ma3_total_popu).replace(',', ' '))"
   ]
  },
  {
   "cell_type": "code",
   "execution_count": 51,
   "id": "32190e67",
   "metadata": {},
   "outputs": [],
   "source": [
    "# Calcul de la proportion de disponibilité végétale par rapport à la population mondiale \n",
    "ma3_proportion = ((ma3_total_dispo_veg_kcal/ma3_total_popu)*100).sum()"
   ]
  },
  {
   "cell_type": "code",
   "execution_count": 52,
   "id": "ce9a08a9",
   "metadata": {},
   "outputs": [
    {
     "name": "stdout",
     "output_type": "stream",
     "text": [
      "La proportion de personnes pouvant être nourries avec la disponibilité alimentaire végétale (Kcal) totale est de : 91.47 %\n"
     ]
    }
   ],
   "source": [
    "print(\"La proportion de personnes pouvant être nourries avec la disponibilité alimentaire végétale (Kcal) totale est de : {:,.2f} %\".format(ma3_proportion).replace(',', ' '))"
   ]
  },
  {
   "cell_type": "code",
   "execution_count": 53,
   "id": "19b8327a",
   "metadata": {},
   "outputs": [
    {
     "data": {
      "text/plain": [
       "Text(0.5, 1.0, 'Disponibilité Alimentaire Végétale')"
      ]
     },
     "execution_count": 53,
     "metadata": {},
     "output_type": "execute_result"
    },
    {
     "data": {
      "image/png": "[encoded data removed]",
      "text/plain": [
       "<Figure size 432x288 with 1 Axes>"
      ]
     },
     "metadata": {
      "needs_background": "light"
     },
     "output_type": "display_data"
    }
   ],
   "source": [
    "# Création du graphique\n",
    "\n",
    "import matplotlib.pyplot as plt\n",
    "fig = plt.figure()\n",
    "ax = fig.add_axes([0,1,1,0.5])\n",
    "population_x = ['Population mondiale (100%)','Disponibilité alimentaire végétale (91.47%)']\n",
    "chiffres_y = [100,91.47]\n",
    "plt.barh(population_x,chiffres_y,color = ('deepskyblue','gold'),edgecolor='black')\n",
    "plt.yticks(fontsize=13, color='black')\n",
    "plt.xticks(fontsize=13, color='black')\n",
    "plt.title('Disponibilité Alimentaire Végétale', fontsize= 13)"
   ]
  },
  {
   "cell_type": "markdown",
   "id": "49773d82",
   "metadata": {},
   "source": [
    "### L’utilisation de la disponibilité intérieure, en particulier la part qui est attribuée à l’alimentation animale, celle qui est perdue et celle qui est concrètement utilisée pour l'alimentation humaine. <a class=\"anchor\" id=\"section_1_4\"></a>"
   ]
  },
  {
   "cell_type": "markdown",
   "id": "b2a00998",
   "metadata": {},
   "source": [
    "Le calcul des proportions se fait en suivant cette formule :"
   ]
  },
  {
   "cell_type": "markdown",
   "id": "1022c574",
   "metadata": {},
   "source": [
    "**Disponibilité Intérieure = Nourriture + Aliments pour animaux + Semences + Pertes + Traitement + Autres Utilisations = (Production + Importations - Quantité + Variation de stock) - Exportations**\t"
   ]
  },
  {
   "cell_type": "markdown",
   "id": "1a832b1b",
   "metadata": {},
   "source": [
    "Pour cela je dois :\n",
    "\n",
    "* Importer les fichiers 'population.csv' et 'dispo_alimentaire.csv'\n",
    "* Trier mes colonnes \n",
    "* Remplacer les valeurs NaN par \"0\"\n",
    "* Faire une jointure entre les deux fichiers sur la colonne 'Zone'\n",
    "* Appliquer ma formule"
   ]
  },
  {
   "cell_type": "code",
   "execution_count": 54,
   "id": "ef10b7e7",
   "metadata": {},
   "outputs": [],
   "source": [
    "# Ouverture des fichiers\n",
    "ma4_dispo = pd.read_csv('dispo_alimentaire.csv')\n",
    "ma4_popu = pd.read_csv('population.csv')"
   ]
  },
  {
   "cell_type": "code",
   "execution_count": 55,
   "id": "7eecb1bd",
   "metadata": {},
   "outputs": [],
   "source": [
    "# Création de ma dataframe avec seulement les colonnes qui me seront utiles\n",
    "ma4_dispo = ma4_dispo[['Zone','Aliments pour animaux','Autres Utilisations','Disponibilité intérieure','Exportations - Quantité','Importations - Quantité','Nourriture','Pertes','Production','Semences','Traitement','Variation de stock']]"
   ]
  },
  {
   "cell_type": "code",
   "execution_count": 56,
   "id": "18765619",
   "metadata": {},
   "outputs": [],
   "source": [
    "# Regroupement de mes données par rapport à la colonne 'Zone' et utilisation de la fonction d'agrégation 'sum'(somme)\n",
    "ma4_dispo = ma4_dispo.groupby('Zone').sum()"
   ]
  },
  {
   "cell_type": "code",
   "execution_count": 57,
   "id": "49c2a38d",
   "metadata": {},
   "outputs": [],
   "source": [
    "# Remplacement des valeurs nan par 0\n",
    "ma4_dispo.fillna(0, inplace=True)"
   ]
  },
  {
   "cell_type": "code",
   "execution_count": 58,
   "id": "350781d0",
   "metadata": {},
   "outputs": [],
   "source": [
    "# Jointure par la droite des dataframes avec comme clé la colonne 'Zone'\n",
    "ma4_dispo = pd.merge(ma4_dispo,ma4_popu, on='Zone', how='left')"
   ]
  },
  {
   "cell_type": "code",
   "execution_count": 59,
   "id": "5b495e34",
   "metadata": {},
   "outputs": [],
   "source": [
    "# Calcul de la proportion de disponibilité alimentaire pour les animaux\n",
    "ma4_prop_aliment_animaux = ma4_dispo['Aliments pour animaux'].sum()/ma4_dispo['Disponibilité intérieure'].sum()*100"
   ]
  },
  {
   "cell_type": "code",
   "execution_count": 60,
   "id": "780af698",
   "metadata": {},
   "outputs": [
    {
     "name": "stdout",
     "output_type": "stream",
     "text": [
      "La proportion pour l'alimentation animale est de : 13.23 %\n"
     ]
    }
   ],
   "source": [
    "print(\"La proportion pour l'alimentation animale est de : {:,.2f} %\".format(ma4_prop_aliment_animaux).replace(',', ' '))"
   ]
  },
  {
   "cell_type": "code",
   "execution_count": 61,
   "id": "12a496d5",
   "metadata": {},
   "outputs": [],
   "source": [
    "# Calcul de la proportion de disponibilité alimentaire perdue\n",
    "ma4_prop_pertes = ma4_dispo['Pertes'].sum()/ma4_dispo['Disponibilité intérieure'].sum()*100"
   ]
  },
  {
   "cell_type": "code",
   "execution_count": 62,
   "id": "a8a26011",
   "metadata": {},
   "outputs": [
    {
     "name": "stdout",
     "output_type": "stream",
     "text": [
      "La proportion des pertes est de : 4.64 %\n"
     ]
    }
   ],
   "source": [
    "print(\"La proportion des pertes est de : {:,.2f} %\".format(ma4_prop_pertes).replace(',', ' '))"
   ]
  },
  {
   "cell_type": "code",
   "execution_count": 63,
   "id": "b260b9ef",
   "metadata": {},
   "outputs": [],
   "source": [
    "# Calcul de la proportion de disponibilité alimentaire pour l'alimentation humaine\n",
    "ma4_prop_aliment_humain = ma4_dispo['Nourriture'].sum()/ma4_dispo['Disponibilité intérieure'].sum()*100"
   ]
  },
  {
   "cell_type": "code",
   "execution_count": 64,
   "id": "0f6eabe2",
   "metadata": {},
   "outputs": [
    {
     "name": "stdout",
     "output_type": "stream",
     "text": [
      "La proportion pour l'alimentation humaine est de : 49.39 %\n"
     ]
    }
   ],
   "source": [
    "print(\"La proportion pour l'alimentation humaine est de : {:,.2f} %\".format(ma4_prop_aliment_humain).replace(',', ' '))"
   ]
  },
  {
   "cell_type": "code",
   "execution_count": 65,
   "id": "0716e576",
   "metadata": {},
   "outputs": [
    {
     "data": {
      "text/plain": [
       "Text(0.5, 1.0, 'Répartition de la disponibilité intérieure')"
      ]
     },
     "execution_count": 65,
     "metadata": {},
     "output_type": "execute_result"
    },
    {
     "data": {
      "image/png": "[encoded data removed]",
      "text/plain": [
       "<Figure size 432x288 with 1 Axes>"
      ]
     },
     "metadata": {
      "needs_background": "light"
     },
     "output_type": "display_data"
    }
   ],
   "source": [
    "# Création du graphique\n",
    "\n",
    "import matplotlib.pyplot as plt\n",
    "fig = plt.figure()\n",
    "ax = fig.add_axes([0.8,0.6,0.9,1.3])\n",
    "population_x = ['Animaux (13.23%)','Pertes (4.64%)','Hommes (49.39%)']\n",
    "chiffres_y = [13.23,4.64,49.39]\n",
    "plt.bar(population_x,chiffres_y,color = ('deepskyblue','saddlebrown','gold'),edgecolor='black')\n",
    "plt.yticks(fontsize=13, color='black')\n",
    "plt.xticks(fontsize=13, color='black')\n",
    "plt.title('Répartition de la disponibilité intérieure', fontsize= 14)"
   ]
  },
  {
   "cell_type": "markdown",
   "id": "56a0050a",
   "metadata": {},
   "source": [
    "## Requêtes de Mélanie <a class=\"anchor\" id=\"chapter2\"></a>"
   ]
  },
  {
   "cell_type": "markdown",
   "id": "dee24f27",
   "metadata": {},
   "source": [
    "### Les pays pour lesquels la proportion de personnes sous-alimentées est la plus forte en 2017 <a class=\"anchor\" id=\"section_2_1\"></a>"
   ]
  },
  {
   "cell_type": "markdown",
   "id": "cd93b2fa",
   "metadata": {},
   "source": [
    "Pour cela je dois :\n",
    "\n",
    "* Importer les fichiers 'population.csv' et 'sous_nutrition.csv'\n",
    "* Remplacer les valeurs NaN et alphanumérique par \"0\" \n",
    "* Modifier le type de ma colonne 'Valeur' en numérique\n",
    "* Faire une jointure entre les deux fichiers sur la colonne 'Zone'\n",
    "* Selectionner les données de l'année 2017 ('2016-2018')\n",
    "* Renommer les colonnes pour plus de lisibilité\n",
    "* Créer une nouvelle colonne ('Proportion')\n",
    "* Classer les données en ordre décroissant avec la colonne 'Proportion'"
   ]
  },
  {
   "cell_type": "code",
   "execution_count": 66,
   "id": "b8d8652b",
   "metadata": {},
   "outputs": [],
   "source": [
    "# Ouverture des fichiers\n",
    "me1_population = pd.read_csv('population.csv')\n",
    "me1_sous_nutrition = pd.read_csv('sous_nutrition.csv')"
   ]
  },
  {
   "cell_type": "code",
   "execution_count": 67,
   "id": "1a8d28e4",
   "metadata": {},
   "outputs": [
    {
     "data": {
      "text/plain": [
       "array(['8.6', '8.8', '8.9', '9.7', '10.5', '11.1', '2.2', '2.5', '2.8',\n",
       "       '3', '3.1', '3.3', '0.1', '1.3', '1.2', nan, '7.6', '6.2', '5.3',\n",
       "       '5.6', '5.8', '5.7', '1.5', '1.6', '1.1', '1.7', '<0.1', '21.7',\n",
       "       '22.4', '23.3', '22.3', '21.5', '20.9', '0.8', '2', '1.9', '1.8',\n",
       "       '0.4', '0.5', '0.3', '0.2', '3.2', '3.4', '3.6', '3.8', '2.1',\n",
       "       '2.3', '2.4', '0.6', '0.7', '0.9', '3.9', '2.7', '1.4', '4.8',\n",
       "       '4.6', '4.9', '5', '4.4', '4.3', '4.2', '4.5', '26.2', '24.3',\n",
       "       '21.3', '21.1', '2.9', '5.1', '5.2', '5.4', '203.8', '198.3',\n",
       "       '193.1', '190.9', '190.1', '189.2', '23.6', '24', '24.1', '3.7',\n",
       "       '7.3', '7.8', '8.4', '9', '9.1', '10.1', '10', '10.7', '11.5',\n",
       "       '11.9', '11.8', '8.7', '10.3', '11', '1', '5.5', '6.8', '7.9',\n",
       "       '5.9', '7', '9.2', '9.4', '9.6', '6.7', '7.1', '7.2', '14.7',\n",
       "       '17.4', '20.2', '22.2', '22.8', '24.6', '31.1', '28.5', '25.4',\n",
       "       '24.8', '26.1', '14.5', '15.4', '16.5', '15.8', '15.7', '10.8',\n",
       "       '11.2', '11.6', '12', '12.2', '13.5', '13.2', '12.8', '13', '13.4',\n",
       "       '14.1', '4.1', '6.1', '6', '6.5', '2.6', '8', '8.3'], dtype=object)"
      ]
     },
     "execution_count": 67,
     "metadata": {},
     "output_type": "execute_result"
    }
   ],
   "source": [
    "me1_sous_nutrition['Valeur'].unique()"
   ]
  },
  {
   "cell_type": "code",
   "execution_count": 68,
   "id": "1bca2542",
   "metadata": {},
   "outputs": [],
   "source": [
    "# Remplacement des valeurs '<0.1' par 0\n",
    "me1_sous_nutrition.loc[me1_sous_nutrition['Valeur']=='<0.1']=0"
   ]
  },
  {
   "cell_type": "code",
   "execution_count": 69,
   "id": "8e545ece",
   "metadata": {},
   "outputs": [],
   "source": [
    "# Remplacement des valeurs nan par 0\n",
    "me1_sous_nutrition.fillna(0, inplace=True)"
   ]
  },
  {
   "cell_type": "code",
   "execution_count": 70,
   "id": "ff8d77ae",
   "metadata": {},
   "outputs": [],
   "source": [
    "# Changement de type de la colonne 'Valeur' de object à float64 pour faire mes calculs\n",
    "me1_sous_nutrition['Valeur'] = me1_sous_nutrition['Valeur'].apply(pd.to_numeric)"
   ]
  },
  {
   "cell_type": "code",
   "execution_count": 71,
   "id": "3e3a5271",
   "metadata": {},
   "outputs": [],
   "source": [
    "# Jointure de mes dataframes avec comme clé la colonne 'Zone' avec une restriction sur les deux colonnes 'Année' \n",
    "me1_sous_nutrition = pd.merge(me1_sous_nutrition.loc[me1_sous_nutrition['Année']=='2016-2018',['Valeur', 'Zone']],\n",
    "                             me1_population.loc[me1_population['Année']==2017,['Année','Valeur','Zone']], on='Zone')\n"
   ]
  },
  {
   "cell_type": "code",
   "execution_count": 72,
   "id": "827f9271",
   "metadata": {},
   "outputs": [
    {
     "data": {
      "text/html": [
       "<div>\n",
       "<style scoped>\n",
       "    .dataframe tbody tr th:only-of-type {\n",
       "        vertical-align: middle;\n",
       "    }\n",
       "\n",
       "    .dataframe tbody tr th {\n",
       "        vertical-align: top;\n",
       "    }\n",
       "\n",
       "    .dataframe thead th {\n",
       "        text-align: right;\n",
       "    }\n",
       "</style>\n",
       "<table border=\"1\" class=\"dataframe\">\n",
       "  <thead>\n",
       "    <tr style=\"text-align: right;\">\n",
       "      <th></th>\n",
       "      <th>Valeur_x</th>\n",
       "      <th>Zone</th>\n",
       "      <th>Année</th>\n",
       "      <th>Valeur_y</th>\n",
       "    </tr>\n",
       "  </thead>\n",
       "  <tbody>\n",
       "    <tr>\n",
       "      <th>0</th>\n",
       "      <td>10.5</td>\n",
       "      <td>Afghanistan</td>\n",
       "      <td>2017</td>\n",
       "      <td>36296.113</td>\n",
       "    </tr>\n",
       "    <tr>\n",
       "      <th>1</th>\n",
       "      <td>3.1</td>\n",
       "      <td>Afrique du Sud</td>\n",
       "      <td>2017</td>\n",
       "      <td>57009.756</td>\n",
       "    </tr>\n",
       "    <tr>\n",
       "      <th>2</th>\n",
       "      <td>0.1</td>\n",
       "      <td>Albanie</td>\n",
       "      <td>2017</td>\n",
       "      <td>2884.169</td>\n",
       "    </tr>\n",
       "    <tr>\n",
       "      <th>3</th>\n",
       "      <td>1.3</td>\n",
       "      <td>Algérie</td>\n",
       "      <td>2017</td>\n",
       "      <td>41389.189</td>\n",
       "    </tr>\n",
       "    <tr>\n",
       "      <th>4</th>\n",
       "      <td>0.0</td>\n",
       "      <td>Allemagne</td>\n",
       "      <td>2017</td>\n",
       "      <td>82658.409</td>\n",
       "    </tr>\n",
       "  </tbody>\n",
       "</table>\n",
       "</div>"
      ],
      "text/plain": [
       "   Valeur_x            Zone  Année   Valeur_y\n",
       "0      10.5     Afghanistan   2017  36296.113\n",
       "1       3.1  Afrique du Sud   2017  57009.756\n",
       "2       0.1         Albanie   2017   2884.169\n",
       "3       1.3         Algérie   2017  41389.189\n",
       "4       0.0       Allemagne   2017  82658.409"
      ]
     },
     "execution_count": 72,
     "metadata": {},
     "output_type": "execute_result"
    }
   ],
   "source": [
    "# Aperçu de la nouvelle dataframe\n",
    "me1_sous_nutrition.head()"
   ]
  },
  {
   "cell_type": "code",
   "execution_count": 73,
   "id": "03f337c2",
   "metadata": {},
   "outputs": [],
   "source": [
    "# Je renomme les colonnes 'Valeur' pour plus de lisibilité\n",
    "me1_sous_nutrition.rename(columns={'Valeur_x':'Pers_sous_nutrition', 'Valeur_y':'Nombre_population'}, inplace= True)"
   ]
  },
  {
   "cell_type": "code",
   "execution_count": 74,
   "id": "e73593a4",
   "metadata": {},
   "outputs": [],
   "source": [
    "# Mise à l'échelle de la colonne 'nombre population'\n",
    "me1_sous_nutrition['Nombre_population'] = (me1_sous_nutrition['Nombre_population'])*1000"
   ]
  },
  {
   "cell_type": "code",
   "execution_count": 75,
   "id": "2515991a",
   "metadata": {},
   "outputs": [],
   "source": [
    "# Mise à l'échelle de la colonne 'pers sous nutrition'\n",
    "me1_sous_nutrition['Pers_sous_nutrition'] = (me1_sous_nutrition['Pers_sous_nutrition'])*1000000"
   ]
  },
  {
   "cell_type": "code",
   "execution_count": 76,
   "id": "46ed7986",
   "metadata": {},
   "outputs": [],
   "source": [
    "# Création d'une nouvelle colonne 'proportion' dans la dataframe\n",
    "me1_sous_nutrition['Proportion'] = me1_sous_nutrition['Pers_sous_nutrition']/me1_sous_nutrition['Nombre_population']*100"
   ]
  },
  {
   "cell_type": "code",
   "execution_count": 77,
   "id": "5c9d66c2",
   "metadata": {},
   "outputs": [],
   "source": [
    "# Je tri mes données par rapport à ma colonne 'proportion' et je choisi l'affichage par ordre décroissant\n",
    "me1_sous_nutrition = me1_sous_nutrition.sort_values(by = 'Proportion', ascending = False) "
   ]
  },
  {
   "cell_type": "code",
   "execution_count": 78,
   "id": "60a0702a",
   "metadata": {
    "scrolled": true
   },
   "outputs": [
    {
     "data": {
      "text/html": [
       "<div>\n",
       "<style scoped>\n",
       "    .dataframe tbody tr th:only-of-type {\n",
       "        vertical-align: middle;\n",
       "    }\n",
       "\n",
       "    .dataframe tbody tr th {\n",
       "        vertical-align: top;\n",
       "    }\n",
       "\n",
       "    .dataframe thead th {\n",
       "        text-align: right;\n",
       "    }\n",
       "</style>\n",
       "<table border=\"1\" class=\"dataframe\">\n",
       "  <thead>\n",
       "    <tr style=\"text-align: right;\">\n",
       "      <th></th>\n",
       "      <th>Pers_sous_nutrition</th>\n",
       "      <th>Zone</th>\n",
       "      <th>Année</th>\n",
       "      <th>Nombre_population</th>\n",
       "      <th>Proportion</th>\n",
       "    </tr>\n",
       "  </thead>\n",
       "  <tbody>\n",
       "    <tr>\n",
       "      <th>69</th>\n",
       "      <td>5300000.0</td>\n",
       "      <td>Haïti</td>\n",
       "      <td>2017</td>\n",
       "      <td>10982366.0</td>\n",
       "      <td>48.259182</td>\n",
       "    </tr>\n",
       "    <tr>\n",
       "      <th>142</th>\n",
       "      <td>12000000.0</td>\n",
       "      <td>République populaire démocratique de Corée</td>\n",
       "      <td>2017</td>\n",
       "      <td>25429825.0</td>\n",
       "      <td>47.188685</td>\n",
       "    </tr>\n",
       "    <tr>\n",
       "      <th>96</th>\n",
       "      <td>10500000.0</td>\n",
       "      <td>Madagascar</td>\n",
       "      <td>2017</td>\n",
       "      <td>25570512.0</td>\n",
       "      <td>41.062924</td>\n",
       "    </tr>\n",
       "    <tr>\n",
       "      <th>92</th>\n",
       "      <td>1800000.0</td>\n",
       "      <td>Libéria</td>\n",
       "      <td>2017</td>\n",
       "      <td>4702226.0</td>\n",
       "      <td>38.279742</td>\n",
       "    </tr>\n",
       "    <tr>\n",
       "      <th>89</th>\n",
       "      <td>800000.0</td>\n",
       "      <td>Lesotho</td>\n",
       "      <td>2017</td>\n",
       "      <td>2091534.0</td>\n",
       "      <td>38.249438</td>\n",
       "    </tr>\n",
       "    <tr>\n",
       "      <th>165</th>\n",
       "      <td>5700000.0</td>\n",
       "      <td>Tchad</td>\n",
       "      <td>2017</td>\n",
       "      <td>15016753.0</td>\n",
       "      <td>37.957606</td>\n",
       "    </tr>\n",
       "    <tr>\n",
       "      <th>146</th>\n",
       "      <td>4200000.0</td>\n",
       "      <td>Rwanda</td>\n",
       "      <td>2017</td>\n",
       "      <td>11980961.0</td>\n",
       "      <td>35.055619</td>\n",
       "    </tr>\n",
       "    <tr>\n",
       "      <th>108</th>\n",
       "      <td>9400000.0</td>\n",
       "      <td>Mozambique</td>\n",
       "      <td>2017</td>\n",
       "      <td>28649018.0</td>\n",
       "      <td>32.810898</td>\n",
       "    </tr>\n",
       "    <tr>\n",
       "      <th>168</th>\n",
       "      <td>400000.0</td>\n",
       "      <td>Timor-Leste</td>\n",
       "      <td>2017</td>\n",
       "      <td>1243258.0</td>\n",
       "      <td>32.173531</td>\n",
       "    </tr>\n",
       "    <tr>\n",
       "      <th>0</th>\n",
       "      <td>10500000.0</td>\n",
       "      <td>Afghanistan</td>\n",
       "      <td>2017</td>\n",
       "      <td>36296113.0</td>\n",
       "      <td>28.928718</td>\n",
       "    </tr>\n",
       "  </tbody>\n",
       "</table>\n",
       "</div>"
      ],
      "text/plain": [
       "     Pers_sous_nutrition                                        Zone  Année  \\\n",
       "69             5300000.0                                       Haïti   2017   \n",
       "142           12000000.0  République populaire démocratique de Corée   2017   \n",
       "96            10500000.0                                  Madagascar   2017   \n",
       "92             1800000.0                                     Libéria   2017   \n",
       "89              800000.0                                     Lesotho   2017   \n",
       "165            5700000.0                                       Tchad   2017   \n",
       "146            4200000.0                                      Rwanda   2017   \n",
       "108            9400000.0                                  Mozambique   2017   \n",
       "168             400000.0                                 Timor-Leste   2017   \n",
       "0             10500000.0                                 Afghanistan   2017   \n",
       "\n",
       "     Nombre_population  Proportion  \n",
       "69          10982366.0   48.259182  \n",
       "142         25429825.0   47.188685  \n",
       "96          25570512.0   41.062924  \n",
       "92           4702226.0   38.279742  \n",
       "89           2091534.0   38.249438  \n",
       "165         15016753.0   37.957606  \n",
       "146         11980961.0   35.055619  \n",
       "108         28649018.0   32.810898  \n",
       "168          1243258.0   32.173531  \n",
       "0           36296113.0   28.928718  "
      ]
     },
     "execution_count": 78,
     "metadata": {},
     "output_type": "execute_result"
    }
   ],
   "source": [
    "# Affichage des 10 premiers résultats\n",
    "me1_sous_nutrition.head(10)"
   ]
  },
  {
   "cell_type": "markdown",
   "id": "8716b0d4",
   "metadata": {},
   "source": [
    "### Les pays qui ont le plus bénéficié d’aide depuis 2013 <a class=\"anchor\" id=\"section_2_2\"></a>"
   ]
  },
  {
   "cell_type": "markdown",
   "id": "1353fd08",
   "metadata": {},
   "source": [
    "Pour cela je dois :\n",
    "\n",
    "* Importer le fichier 'aide_alimentaire.csv'\n",
    "* Regrouper les données par pays\n",
    "* Créer une nouvelle colonne 'Proportion'\n",
    "* Renommer mes colonnes pour plus de lisibilité\n",
    "* Classer les données en ordre décroissant avec la colonne 'Proportion'"
   ]
  },
  {
   "cell_type": "code",
   "execution_count": 79,
   "id": "83343803",
   "metadata": {},
   "outputs": [],
   "source": [
    "# Ouverture du fichier\n",
    "me2_aide_alimentaire = pd.read_csv('aide_alimentaire.csv')"
   ]
  },
  {
   "cell_type": "code",
   "execution_count": 80,
   "id": "75fef1a9",
   "metadata": {},
   "outputs": [
    {
     "data": {
      "text/html": [
       "<div>\n",
       "<style scoped>\n",
       "    .dataframe tbody tr th:only-of-type {\n",
       "        vertical-align: middle;\n",
       "    }\n",
       "\n",
       "    .dataframe tbody tr th {\n",
       "        vertical-align: top;\n",
       "    }\n",
       "\n",
       "    .dataframe thead th {\n",
       "        text-align: right;\n",
       "    }\n",
       "</style>\n",
       "<table border=\"1\" class=\"dataframe\">\n",
       "  <thead>\n",
       "    <tr style=\"text-align: right;\">\n",
       "      <th></th>\n",
       "      <th>Pays bénéficiaire</th>\n",
       "      <th>Année</th>\n",
       "      <th>Produit</th>\n",
       "      <th>Valeur</th>\n",
       "    </tr>\n",
       "  </thead>\n",
       "  <tbody>\n",
       "    <tr>\n",
       "      <th>0</th>\n",
       "      <td>Afghanistan</td>\n",
       "      <td>2013</td>\n",
       "      <td>Autres non-céréales</td>\n",
       "      <td>682</td>\n",
       "    </tr>\n",
       "    <tr>\n",
       "      <th>1</th>\n",
       "      <td>Afghanistan</td>\n",
       "      <td>2014</td>\n",
       "      <td>Autres non-céréales</td>\n",
       "      <td>335</td>\n",
       "    </tr>\n",
       "    <tr>\n",
       "      <th>2</th>\n",
       "      <td>Afghanistan</td>\n",
       "      <td>2013</td>\n",
       "      <td>Blé et Farin</td>\n",
       "      <td>39224</td>\n",
       "    </tr>\n",
       "    <tr>\n",
       "      <th>3</th>\n",
       "      <td>Afghanistan</td>\n",
       "      <td>2014</td>\n",
       "      <td>Blé et Farin</td>\n",
       "      <td>15160</td>\n",
       "    </tr>\n",
       "    <tr>\n",
       "      <th>4</th>\n",
       "      <td>Afghanistan</td>\n",
       "      <td>2013</td>\n",
       "      <td>Céréales</td>\n",
       "      <td>40504</td>\n",
       "    </tr>\n",
       "  </tbody>\n",
       "</table>\n",
       "</div>"
      ],
      "text/plain": [
       "  Pays bénéficiaire  Année              Produit  Valeur\n",
       "0       Afghanistan   2013  Autres non-céréales     682\n",
       "1       Afghanistan   2014  Autres non-céréales     335\n",
       "2       Afghanistan   2013         Blé et Farin   39224\n",
       "3       Afghanistan   2014         Blé et Farin   15160\n",
       "4       Afghanistan   2013             Céréales   40504"
      ]
     },
     "execution_count": 80,
     "metadata": {},
     "output_type": "execute_result"
    }
   ],
   "source": [
    "# Aperçu de la dataframe\n",
    "me2_aide_alimentaire.head()"
   ]
  },
  {
   "cell_type": "code",
   "execution_count": 81,
   "id": "5d69fb86",
   "metadata": {},
   "outputs": [],
   "source": [
    "# Regroupement des données en fonction de la colonne 'Pays bénéficiaire' et utilisation de la fonction d'agrégation 'sum'(somme)\n",
    "me2_aide_alimentaire = me2_aide_alimentaire.groupby('Pays bénéficiaire').sum()"
   ]
  },
  {
   "cell_type": "code",
   "execution_count": 82,
   "id": "cbcf9652",
   "metadata": {},
   "outputs": [],
   "source": [
    "# Création de la colonne 'proportion'\n",
    "me2_aide_alimentaire['Proportion (%)']= (me2_aide_alimentaire['Valeur']/me2_aide_alimentaire['Valeur'].sum()*100)"
   ]
  },
  {
   "cell_type": "code",
   "execution_count": 83,
   "id": "07f43f40",
   "metadata": {},
   "outputs": [],
   "source": [
    "# Tri des données en fonction de la colonne 'proportion (%)' et affichage par ordre décroissant\n",
    "me2_aide_alimentaire = me2_aide_alimentaire.sort_values(by = 'Proportion (%)', ascending = False) "
   ]
  },
  {
   "cell_type": "code",
   "execution_count": 84,
   "id": "9d37c968",
   "metadata": {},
   "outputs": [],
   "source": [
    "# Suppression de la colonne 'Année'\n",
    "del me2_aide_alimentaire['Année']"
   ]
  },
  {
   "cell_type": "code",
   "execution_count": 85,
   "id": "04f1fd0c",
   "metadata": {},
   "outputs": [],
   "source": [
    "# Renommage de ma colonne 'Valeur'\n",
    "me2_aide_alimentaire = me2_aide_alimentaire.rename(columns={'Valeur':'Valeur (Tonnes)'})"
   ]
  },
  {
   "cell_type": "code",
   "execution_count": 86,
   "id": "b1e94706",
   "metadata": {},
   "outputs": [
    {
     "data": {
      "text/html": [
       "<div>\n",
       "<style scoped>\n",
       "    .dataframe tbody tr th:only-of-type {\n",
       "        vertical-align: middle;\n",
       "    }\n",
       "\n",
       "    .dataframe tbody tr th {\n",
       "        vertical-align: top;\n",
       "    }\n",
       "\n",
       "    .dataframe thead th {\n",
       "        text-align: right;\n",
       "    }\n",
       "</style>\n",
       "<table border=\"1\" class=\"dataframe\">\n",
       "  <thead>\n",
       "    <tr style=\"text-align: right;\">\n",
       "      <th></th>\n",
       "      <th>Valeur (Tonnes)</th>\n",
       "      <th>Proportion (%)</th>\n",
       "    </tr>\n",
       "    <tr>\n",
       "      <th>Pays bénéficiaire</th>\n",
       "      <th></th>\n",
       "      <th></th>\n",
       "    </tr>\n",
       "  </thead>\n",
       "  <tbody>\n",
       "    <tr>\n",
       "      <th>République arabe syrienne</th>\n",
       "      <td>1858943</td>\n",
       "      <td>16.844506</td>\n",
       "    </tr>\n",
       "    <tr>\n",
       "      <th>Éthiopie</th>\n",
       "      <td>1381294</td>\n",
       "      <td>12.516368</td>\n",
       "    </tr>\n",
       "    <tr>\n",
       "      <th>Yémen</th>\n",
       "      <td>1206484</td>\n",
       "      <td>10.932356</td>\n",
       "    </tr>\n",
       "    <tr>\n",
       "      <th>Soudan du Sud</th>\n",
       "      <td>695248</td>\n",
       "      <td>6.299875</td>\n",
       "    </tr>\n",
       "    <tr>\n",
       "      <th>Soudan</th>\n",
       "      <td>669784</td>\n",
       "      <td>6.069137</td>\n",
       "    </tr>\n",
       "    <tr>\n",
       "      <th>Kenya</th>\n",
       "      <td>552836</td>\n",
       "      <td>5.009432</td>\n",
       "    </tr>\n",
       "    <tr>\n",
       "      <th>Bangladesh</th>\n",
       "      <td>348188</td>\n",
       "      <td>3.155048</td>\n",
       "    </tr>\n",
       "    <tr>\n",
       "      <th>Somalie</th>\n",
       "      <td>292678</td>\n",
       "      <td>2.652054</td>\n",
       "    </tr>\n",
       "    <tr>\n",
       "      <th>République démocratique du Congo</th>\n",
       "      <td>288502</td>\n",
       "      <td>2.614213</td>\n",
       "    </tr>\n",
       "    <tr>\n",
       "      <th>Niger</th>\n",
       "      <td>276344</td>\n",
       "      <td>2.504046</td>\n",
       "    </tr>\n",
       "  </tbody>\n",
       "</table>\n",
       "</div>"
      ],
      "text/plain": [
       "                                  Valeur (Tonnes)  Proportion (%)\n",
       "Pays bénéficiaire                                                \n",
       "République arabe syrienne                 1858943       16.844506\n",
       "Éthiopie                                  1381294       12.516368\n",
       "Yémen                                     1206484       10.932356\n",
       "Soudan du Sud                              695248        6.299875\n",
       "Soudan                                     669784        6.069137\n",
       "Kenya                                      552836        5.009432\n",
       "Bangladesh                                 348188        3.155048\n",
       "Somalie                                    292678        2.652054\n",
       "République démocratique du Congo           288502        2.614213\n",
       "Niger                                      276344        2.504046"
      ]
     },
     "execution_count": 86,
     "metadata": {},
     "output_type": "execute_result"
    }
   ],
   "source": [
    "# Affichage des 10 premiers résultats\n",
    "me2_aide_alimentaire.head(10)"
   ]
  },
  {
   "cell_type": "code",
   "execution_count": 87,
   "id": "8b801c7b",
   "metadata": {},
   "outputs": [
    {
     "name": "stdout",
     "output_type": "stream",
     "text": [
      "<class 'pandas.core.frame.DataFrame'>\n",
      "Index: 76 entries, République arabe syrienne to Bolivie (État plurinational de)\n",
      "Data columns (total 2 columns):\n",
      " #   Column           Non-Null Count  Dtype  \n",
      "---  ------           --------------  -----  \n",
      " 0   Valeur (Tonnes)  76 non-null     int64  \n",
      " 1   Proportion (%)   76 non-null     float64\n",
      "dtypes: float64(1), int64(1)\n",
      "memory usage: 1.8+ KB\n"
     ]
    }
   ],
   "source": [
    "me2_aide_alimentaire.info()"
   ]
  },
  {
   "cell_type": "code",
   "execution_count": 88,
   "id": "e186925b",
   "metadata": {},
   "outputs": [
    {
     "data": {
      "image/png": "[encoded data removed]",
      "text/plain": [
       "<Figure size 432x288 with 1 Axes>"
      ]
     },
     "metadata": {},
     "output_type": "display_data"
    }
   ],
   "source": [
    "# Création du graphique\n",
    "\n",
    "# Importation du module pyplot de la librairie matplotlib\n",
    "import matplotlib.pyplot as plt \n",
    "\n",
    "# création d'une liste comme arguments pour le graphique\n",
    "proportion_pays = [16.84,12.51,10.93,6.29,6.06, 47.37] \n",
    "# Paramétrage du graphique\n",
    "plt.pie(proportion_pays,labels=['Rép. arabe syrienne (16.84%)', 'Éthiopie (12.51%)','Yémen (10.93%)','Soudan du Sud (6.29%)','Soudan (6.06%)', 'Autres Pays (47.37%)'],colors = ['maroon','brown','red','tomato','orange','yellow'],pctdistance=0.6,shadow=True, startangle=220,wedgeprops={'linewidth': 1.0,'edgecolor':'black'},textprops={'fontsize': 14})\n",
    "# Ajout du titre\n",
    "plt.title(\"Pays qui ont le plus bénéficié d’aide depuis 2013\", fontsize= 14 )\n",
    "# Affichage\n",
    "plt.show()"
   ]
  },
  {
   "cell_type": "markdown",
   "id": "024baa48",
   "metadata": {},
   "source": [
    "### Les pays ayant le plus/le moins de disponibilité/habitant <a class=\"anchor\" id=\"section_2_3\"></a>"
   ]
  },
  {
   "cell_type": "markdown",
   "id": "c907cd99",
   "metadata": {},
   "source": [
    "Pour cela je dois :\n",
    "\n",
    "* Importer le fichier 'dispo_alimentaire.csv' et 'population.csv'\n",
    "* Faire une jointure entre mes deux fichiers\n",
    "* Regrouper les données par pays\n",
    "* Classer les données selon la colonne 'Disponibilité alimentaire (Kcal/personne/jour)' et la colonne 'Nombre d'habitants'\n"
   ]
  },
  {
   "cell_type": "code",
   "execution_count": 89,
   "id": "673be69e",
   "metadata": {},
   "outputs": [],
   "source": [
    "# Ouverture du fichier\n",
    "me3_dispo = pd.read_csv('dispo_alimentaire.csv')\n",
    "me3_popu = pd.read_csv('population.csv')"
   ]
  },
  {
   "cell_type": "code",
   "execution_count": 90,
   "id": "0b4b9287",
   "metadata": {},
   "outputs": [
    {
     "data": {
      "text/html": [
       "<div>\n",
       "<style scoped>\n",
       "    .dataframe tbody tr th:only-of-type {\n",
       "        vertical-align: middle;\n",
       "    }\n",
       "\n",
       "    .dataframe tbody tr th {\n",
       "        vertical-align: top;\n",
       "    }\n",
       "\n",
       "    .dataframe thead th {\n",
       "        text-align: right;\n",
       "    }\n",
       "</style>\n",
       "<table border=\"1\" class=\"dataframe\">\n",
       "  <thead>\n",
       "    <tr style=\"text-align: right;\">\n",
       "      <th></th>\n",
       "      <th>Zone</th>\n",
       "      <th>Produit</th>\n",
       "      <th>Origine</th>\n",
       "      <th>Aliments pour animaux</th>\n",
       "      <th>Autres Utilisations</th>\n",
       "      <th>Disponibilité alimentaire (Kcal/personne/jour)</th>\n",
       "      <th>Disponibilité alimentaire en quantité (kg/personne/an)</th>\n",
       "      <th>Disponibilité de matière grasse en quantité (g/personne/jour)</th>\n",
       "      <th>Disponibilité de protéines en quantité (g/personne/jour)</th>\n",
       "      <th>Disponibilité intérieure</th>\n",
       "      <th>Exportations - Quantité</th>\n",
       "      <th>Importations - Quantité</th>\n",
       "      <th>Nourriture</th>\n",
       "      <th>Pertes</th>\n",
       "      <th>Production</th>\n",
       "      <th>Semences</th>\n",
       "      <th>Traitement</th>\n",
       "      <th>Variation de stock</th>\n",
       "    </tr>\n",
       "  </thead>\n",
       "  <tbody>\n",
       "    <tr>\n",
       "      <th>0</th>\n",
       "      <td>Afghanistan</td>\n",
       "      <td>Abats Comestible</td>\n",
       "      <td>animale</td>\n",
       "      <td>NaN</td>\n",
       "      <td>NaN</td>\n",
       "      <td>5.0</td>\n",
       "      <td>1.72</td>\n",
       "      <td>0.20</td>\n",
       "      <td>0.77</td>\n",
       "      <td>53.0</td>\n",
       "      <td>NaN</td>\n",
       "      <td>NaN</td>\n",
       "      <td>53.0</td>\n",
       "      <td>NaN</td>\n",
       "      <td>53.0</td>\n",
       "      <td>NaN</td>\n",
       "      <td>NaN</td>\n",
       "      <td>NaN</td>\n",
       "    </tr>\n",
       "    <tr>\n",
       "      <th>1</th>\n",
       "      <td>Afghanistan</td>\n",
       "      <td>Agrumes, Autres</td>\n",
       "      <td>vegetale</td>\n",
       "      <td>NaN</td>\n",
       "      <td>NaN</td>\n",
       "      <td>1.0</td>\n",
       "      <td>1.29</td>\n",
       "      <td>0.01</td>\n",
       "      <td>0.02</td>\n",
       "      <td>41.0</td>\n",
       "      <td>2.0</td>\n",
       "      <td>40.0</td>\n",
       "      <td>39.0</td>\n",
       "      <td>2.0</td>\n",
       "      <td>3.0</td>\n",
       "      <td>NaN</td>\n",
       "      <td>NaN</td>\n",
       "      <td>NaN</td>\n",
       "    </tr>\n",
       "    <tr>\n",
       "      <th>2</th>\n",
       "      <td>Afghanistan</td>\n",
       "      <td>Aliments pour enfants</td>\n",
       "      <td>vegetale</td>\n",
       "      <td>NaN</td>\n",
       "      <td>NaN</td>\n",
       "      <td>1.0</td>\n",
       "      <td>0.06</td>\n",
       "      <td>0.01</td>\n",
       "      <td>0.03</td>\n",
       "      <td>2.0</td>\n",
       "      <td>NaN</td>\n",
       "      <td>2.0</td>\n",
       "      <td>2.0</td>\n",
       "      <td>NaN</td>\n",
       "      <td>NaN</td>\n",
       "      <td>NaN</td>\n",
       "      <td>NaN</td>\n",
       "      <td>NaN</td>\n",
       "    </tr>\n",
       "    <tr>\n",
       "      <th>3</th>\n",
       "      <td>Afghanistan</td>\n",
       "      <td>Ananas</td>\n",
       "      <td>vegetale</td>\n",
       "      <td>NaN</td>\n",
       "      <td>NaN</td>\n",
       "      <td>0.0</td>\n",
       "      <td>0.00</td>\n",
       "      <td>NaN</td>\n",
       "      <td>NaN</td>\n",
       "      <td>0.0</td>\n",
       "      <td>NaN</td>\n",
       "      <td>0.0</td>\n",
       "      <td>0.0</td>\n",
       "      <td>NaN</td>\n",
       "      <td>NaN</td>\n",
       "      <td>NaN</td>\n",
       "      <td>NaN</td>\n",
       "      <td>NaN</td>\n",
       "    </tr>\n",
       "    <tr>\n",
       "      <th>4</th>\n",
       "      <td>Afghanistan</td>\n",
       "      <td>Bananes</td>\n",
       "      <td>vegetale</td>\n",
       "      <td>NaN</td>\n",
       "      <td>NaN</td>\n",
       "      <td>4.0</td>\n",
       "      <td>2.70</td>\n",
       "      <td>0.02</td>\n",
       "      <td>0.05</td>\n",
       "      <td>82.0</td>\n",
       "      <td>NaN</td>\n",
       "      <td>82.0</td>\n",
       "      <td>82.0</td>\n",
       "      <td>NaN</td>\n",
       "      <td>NaN</td>\n",
       "      <td>NaN</td>\n",
       "      <td>NaN</td>\n",
       "      <td>NaN</td>\n",
       "    </tr>\n",
       "  </tbody>\n",
       "</table>\n",
       "</div>"
      ],
      "text/plain": [
       "          Zone                Produit   Origine  Aliments pour animaux  \\\n",
       "0  Afghanistan       Abats Comestible   animale                    NaN   \n",
       "1  Afghanistan        Agrumes, Autres  vegetale                    NaN   \n",
       "2  Afghanistan  Aliments pour enfants  vegetale                    NaN   \n",
       "3  Afghanistan                 Ananas  vegetale                    NaN   \n",
       "4  Afghanistan                Bananes  vegetale                    NaN   \n",
       "\n",
       "   Autres Utilisations  Disponibilité alimentaire (Kcal/personne/jour)  \\\n",
       "0                  NaN                                             5.0   \n",
       "1                  NaN                                             1.0   \n",
       "2                  NaN                                             1.0   \n",
       "3                  NaN                                             0.0   \n",
       "4                  NaN                                             4.0   \n",
       "\n",
       "   Disponibilité alimentaire en quantité (kg/personne/an)  \\\n",
       "0                                               1.72        \n",
       "1                                               1.29        \n",
       "2                                               0.06        \n",
       "3                                               0.00        \n",
       "4                                               2.70        \n",
       "\n",
       "   Disponibilité de matière grasse en quantité (g/personne/jour)  \\\n",
       "0                                               0.20               \n",
       "1                                               0.01               \n",
       "2                                               0.01               \n",
       "3                                                NaN               \n",
       "4                                               0.02               \n",
       "\n",
       "   Disponibilité de protéines en quantité (g/personne/jour)  \\\n",
       "0                                               0.77          \n",
       "1                                               0.02          \n",
       "2                                               0.03          \n",
       "3                                                NaN          \n",
       "4                                               0.05          \n",
       "\n",
       "   Disponibilité intérieure  Exportations - Quantité  Importations - Quantité  \\\n",
       "0                      53.0                      NaN                      NaN   \n",
       "1                      41.0                      2.0                     40.0   \n",
       "2                       2.0                      NaN                      2.0   \n",
       "3                       0.0                      NaN                      0.0   \n",
       "4                      82.0                      NaN                     82.0   \n",
       "\n",
       "   Nourriture  Pertes  Production  Semences  Traitement  Variation de stock  \n",
       "0        53.0     NaN        53.0       NaN         NaN                 NaN  \n",
       "1        39.0     2.0         3.0       NaN         NaN                 NaN  \n",
       "2         2.0     NaN         NaN       NaN         NaN                 NaN  \n",
       "3         0.0     NaN         NaN       NaN         NaN                 NaN  \n",
       "4        82.0     NaN         NaN       NaN         NaN                 NaN  "
      ]
     },
     "execution_count": 90,
     "metadata": {},
     "output_type": "execute_result"
    }
   ],
   "source": [
    "# Aperçu de la dataframe\n",
    "me3_dispo.head()"
   ]
  },
  {
   "cell_type": "code",
   "execution_count": 91,
   "id": "92ac5113",
   "metadata": {},
   "outputs": [],
   "source": [
    "me3_dispo = me3_dispo[['Zone','Disponibilité alimentaire (Kcal/personne/jour)']]"
   ]
  },
  {
   "cell_type": "code",
   "execution_count": 92,
   "id": "10be3b1e",
   "metadata": {},
   "outputs": [],
   "source": [
    "me3_popu = me3_popu.loc[me3_popu['Année']==2017,:]"
   ]
  },
  {
   "cell_type": "code",
   "execution_count": 93,
   "id": "87250664",
   "metadata": {},
   "outputs": [],
   "source": [
    "me3_dispo = me3_dispo.groupby('Zone').sum()"
   ]
  },
  {
   "cell_type": "code",
   "execution_count": 94,
   "id": "54ddcf1f",
   "metadata": {},
   "outputs": [
    {
     "data": {
      "text/html": [
       "<div>\n",
       "<style scoped>\n",
       "    .dataframe tbody tr th:only-of-type {\n",
       "        vertical-align: middle;\n",
       "    }\n",
       "\n",
       "    .dataframe tbody tr th {\n",
       "        vertical-align: top;\n",
       "    }\n",
       "\n",
       "    .dataframe thead th {\n",
       "        text-align: right;\n",
       "    }\n",
       "</style>\n",
       "<table border=\"1\" class=\"dataframe\">\n",
       "  <thead>\n",
       "    <tr style=\"text-align: right;\">\n",
       "      <th></th>\n",
       "      <th>Disponibilité alimentaire (Kcal/personne/jour)</th>\n",
       "    </tr>\n",
       "    <tr>\n",
       "      <th>Zone</th>\n",
       "      <th></th>\n",
       "    </tr>\n",
       "  </thead>\n",
       "  <tbody>\n",
       "    <tr>\n",
       "      <th>Afghanistan</th>\n",
       "      <td>2087.0</td>\n",
       "    </tr>\n",
       "    <tr>\n",
       "      <th>Afrique du Sud</th>\n",
       "      <td>3020.0</td>\n",
       "    </tr>\n",
       "    <tr>\n",
       "      <th>Albanie</th>\n",
       "      <td>3188.0</td>\n",
       "    </tr>\n",
       "    <tr>\n",
       "      <th>Algérie</th>\n",
       "      <td>3293.0</td>\n",
       "    </tr>\n",
       "    <tr>\n",
       "      <th>Allemagne</th>\n",
       "      <td>3503.0</td>\n",
       "    </tr>\n",
       "  </tbody>\n",
       "</table>\n",
       "</div>"
      ],
      "text/plain": [
       "                Disponibilité alimentaire (Kcal/personne/jour)\n",
       "Zone                                                          \n",
       "Afghanistan                                             2087.0\n",
       "Afrique du Sud                                          3020.0\n",
       "Albanie                                                 3188.0\n",
       "Algérie                                                 3293.0\n",
       "Allemagne                                               3503.0"
      ]
     },
     "execution_count": 94,
     "metadata": {},
     "output_type": "execute_result"
    }
   ],
   "source": [
    "me3_dispo.head()"
   ]
  },
  {
   "cell_type": "code",
   "execution_count": 95,
   "id": "8d60049e",
   "metadata": {},
   "outputs": [],
   "source": [
    "del me3_popu['Année']"
   ]
  },
  {
   "cell_type": "code",
   "execution_count": 96,
   "id": "ed95642d",
   "metadata": {},
   "outputs": [
    {
     "data": {
      "text/html": [
       "<div>\n",
       "<style scoped>\n",
       "    .dataframe tbody tr th:only-of-type {\n",
       "        vertical-align: middle;\n",
       "    }\n",
       "\n",
       "    .dataframe tbody tr th {\n",
       "        vertical-align: top;\n",
       "    }\n",
       "\n",
       "    .dataframe thead th {\n",
       "        text-align: right;\n",
       "    }\n",
       "</style>\n",
       "<table border=\"1\" class=\"dataframe\">\n",
       "  <thead>\n",
       "    <tr style=\"text-align: right;\">\n",
       "      <th></th>\n",
       "      <th>Zone</th>\n",
       "      <th>Valeur</th>\n",
       "    </tr>\n",
       "  </thead>\n",
       "  <tbody>\n",
       "    <tr>\n",
       "      <th>4</th>\n",
       "      <td>Afghanistan</td>\n",
       "      <td>36296.113</td>\n",
       "    </tr>\n",
       "    <tr>\n",
       "      <th>10</th>\n",
       "      <td>Afrique du Sud</td>\n",
       "      <td>57009.756</td>\n",
       "    </tr>\n",
       "    <tr>\n",
       "      <th>16</th>\n",
       "      <td>Albanie</td>\n",
       "      <td>2884.169</td>\n",
       "    </tr>\n",
       "    <tr>\n",
       "      <th>22</th>\n",
       "      <td>Algérie</td>\n",
       "      <td>41389.189</td>\n",
       "    </tr>\n",
       "    <tr>\n",
       "      <th>28</th>\n",
       "      <td>Allemagne</td>\n",
       "      <td>82658.409</td>\n",
       "    </tr>\n",
       "  </tbody>\n",
       "</table>\n",
       "</div>"
      ],
      "text/plain": [
       "              Zone     Valeur\n",
       "4      Afghanistan  36296.113\n",
       "10  Afrique du Sud  57009.756\n",
       "16         Albanie   2884.169\n",
       "22         Algérie  41389.189\n",
       "28       Allemagne  82658.409"
      ]
     },
     "execution_count": 96,
     "metadata": {},
     "output_type": "execute_result"
    }
   ],
   "source": [
    "me3_popu.head()"
   ]
  },
  {
   "cell_type": "code",
   "execution_count": 97,
   "id": "ecd85cad",
   "metadata": {},
   "outputs": [],
   "source": [
    "me3_popu['Valeur'] = me3_popu['Valeur']*1000"
   ]
  },
  {
   "cell_type": "code",
   "execution_count": 98,
   "id": "f5ee5d05",
   "metadata": {},
   "outputs": [],
   "source": [
    "me3_dispo = pd.merge(me3_popu,me3_dispo, on='Zone')"
   ]
  },
  {
   "cell_type": "code",
   "execution_count": 99,
   "id": "614ce97a",
   "metadata": {},
   "outputs": [
    {
     "data": {
      "text/html": [
       "<div>\n",
       "<style scoped>\n",
       "    .dataframe tbody tr th:only-of-type {\n",
       "        vertical-align: middle;\n",
       "    }\n",
       "\n",
       "    .dataframe tbody tr th {\n",
       "        vertical-align: top;\n",
       "    }\n",
       "\n",
       "    .dataframe thead th {\n",
       "        text-align: right;\n",
       "    }\n",
       "</style>\n",
       "<table border=\"1\" class=\"dataframe\">\n",
       "  <thead>\n",
       "    <tr style=\"text-align: right;\">\n",
       "      <th></th>\n",
       "      <th>Zone</th>\n",
       "      <th>Valeur</th>\n",
       "      <th>Disponibilité alimentaire (Kcal/personne/jour)</th>\n",
       "    </tr>\n",
       "  </thead>\n",
       "  <tbody>\n",
       "    <tr>\n",
       "      <th>0</th>\n",
       "      <td>Afghanistan</td>\n",
       "      <td>36296113.0</td>\n",
       "      <td>2087.0</td>\n",
       "    </tr>\n",
       "    <tr>\n",
       "      <th>1</th>\n",
       "      <td>Afrique du Sud</td>\n",
       "      <td>57009756.0</td>\n",
       "      <td>3020.0</td>\n",
       "    </tr>\n",
       "    <tr>\n",
       "      <th>2</th>\n",
       "      <td>Albanie</td>\n",
       "      <td>2884169.0</td>\n",
       "      <td>3188.0</td>\n",
       "    </tr>\n",
       "    <tr>\n",
       "      <th>3</th>\n",
       "      <td>Algérie</td>\n",
       "      <td>41389189.0</td>\n",
       "      <td>3293.0</td>\n",
       "    </tr>\n",
       "    <tr>\n",
       "      <th>4</th>\n",
       "      <td>Allemagne</td>\n",
       "      <td>82658409.0</td>\n",
       "      <td>3503.0</td>\n",
       "    </tr>\n",
       "    <tr>\n",
       "      <th>5</th>\n",
       "      <td>Angola</td>\n",
       "      <td>29816766.0</td>\n",
       "      <td>2474.0</td>\n",
       "    </tr>\n",
       "    <tr>\n",
       "      <th>6</th>\n",
       "      <td>Antigua-et-Barbuda</td>\n",
       "      <td>95426.0</td>\n",
       "      <td>2416.0</td>\n",
       "    </tr>\n",
       "    <tr>\n",
       "      <th>7</th>\n",
       "      <td>Arabie saoudite</td>\n",
       "      <td>33101179.0</td>\n",
       "      <td>3255.0</td>\n",
       "    </tr>\n",
       "    <tr>\n",
       "      <th>8</th>\n",
       "      <td>Argentine</td>\n",
       "      <td>43937140.0</td>\n",
       "      <td>3226.0</td>\n",
       "    </tr>\n",
       "    <tr>\n",
       "      <th>9</th>\n",
       "      <td>Arménie</td>\n",
       "      <td>2944791.0</td>\n",
       "      <td>2924.0</td>\n",
       "    </tr>\n",
       "    <tr>\n",
       "      <th>10</th>\n",
       "      <td>Australie</td>\n",
       "      <td>24584620.0</td>\n",
       "      <td>3278.0</td>\n",
       "    </tr>\n",
       "    <tr>\n",
       "      <th>11</th>\n",
       "      <td>Autriche</td>\n",
       "      <td>8819901.0</td>\n",
       "      <td>3770.0</td>\n",
       "    </tr>\n",
       "    <tr>\n",
       "      <th>12</th>\n",
       "      <td>Azerbaïdjan</td>\n",
       "      <td>9845320.0</td>\n",
       "      <td>3113.0</td>\n",
       "    </tr>\n",
       "    <tr>\n",
       "      <th>13</th>\n",
       "      <td>Bahamas</td>\n",
       "      <td>381755.0</td>\n",
       "      <td>2670.0</td>\n",
       "    </tr>\n",
       "    <tr>\n",
       "      <th>14</th>\n",
       "      <td>Bangladesh</td>\n",
       "      <td>159685424.0</td>\n",
       "      <td>2453.0</td>\n",
       "    </tr>\n",
       "  </tbody>\n",
       "</table>\n",
       "</div>"
      ],
      "text/plain": [
       "                  Zone       Valeur  \\\n",
       "0          Afghanistan   36296113.0   \n",
       "1       Afrique du Sud   57009756.0   \n",
       "2              Albanie    2884169.0   \n",
       "3              Algérie   41389189.0   \n",
       "4            Allemagne   82658409.0   \n",
       "5               Angola   29816766.0   \n",
       "6   Antigua-et-Barbuda      95426.0   \n",
       "7      Arabie saoudite   33101179.0   \n",
       "8            Argentine   43937140.0   \n",
       "9              Arménie    2944791.0   \n",
       "10           Australie   24584620.0   \n",
       "11            Autriche    8819901.0   \n",
       "12         Azerbaïdjan    9845320.0   \n",
       "13             Bahamas     381755.0   \n",
       "14          Bangladesh  159685424.0   \n",
       "\n",
       "    Disponibilité alimentaire (Kcal/personne/jour)  \n",
       "0                                           2087.0  \n",
       "1                                           3020.0  \n",
       "2                                           3188.0  \n",
       "3                                           3293.0  \n",
       "4                                           3503.0  \n",
       "5                                           2474.0  \n",
       "6                                           2416.0  \n",
       "7                                           3255.0  \n",
       "8                                           3226.0  \n",
       "9                                           2924.0  \n",
       "10                                          3278.0  \n",
       "11                                          3770.0  \n",
       "12                                          3113.0  \n",
       "13                                          2670.0  \n",
       "14                                          2453.0  "
      ]
     },
     "execution_count": 99,
     "metadata": {},
     "output_type": "execute_result"
    }
   ],
   "source": [
    "me3_dispo.head(15)"
   ]
  },
  {
   "cell_type": "code",
   "execution_count": 100,
   "id": "53d06723",
   "metadata": {},
   "outputs": [],
   "source": [
    "# Création d'une dataframe qui affiche les pays avec le plus de disponibilité alimentaire\n",
    "me3_pays_dispo_plus = me3_dispo.sort_values(by = ['Disponibilité alimentaire (Kcal/personne/jour)','Valeur'], ascending = False) "
   ]
  },
  {
   "cell_type": "code",
   "execution_count": 101,
   "id": "c7ef7635",
   "metadata": {},
   "outputs": [
    {
     "data": {
      "text/html": [
       "<div>\n",
       "<style scoped>\n",
       "    .dataframe tbody tr th:only-of-type {\n",
       "        vertical-align: middle;\n",
       "    }\n",
       "\n",
       "    .dataframe tbody tr th {\n",
       "        vertical-align: top;\n",
       "    }\n",
       "\n",
       "    .dataframe thead th {\n",
       "        text-align: right;\n",
       "    }\n",
       "</style>\n",
       "<table border=\"1\" class=\"dataframe\">\n",
       "  <thead>\n",
       "    <tr style=\"text-align: right;\">\n",
       "      <th></th>\n",
       "      <th>Zone</th>\n",
       "      <th>Valeur</th>\n",
       "      <th>Disponibilité alimentaire (Kcal/personne/jour)</th>\n",
       "    </tr>\n",
       "  </thead>\n",
       "  <tbody>\n",
       "    <tr>\n",
       "      <th>11</th>\n",
       "      <td>Autriche</td>\n",
       "      <td>8819901.0</td>\n",
       "      <td>3770.0</td>\n",
       "    </tr>\n",
       "    <tr>\n",
       "      <th>17</th>\n",
       "      <td>Belgique</td>\n",
       "      <td>11419748.0</td>\n",
       "      <td>3737.0</td>\n",
       "    </tr>\n",
       "    <tr>\n",
       "      <th>163</th>\n",
       "      <td>Turquie</td>\n",
       "      <td>81116450.0</td>\n",
       "      <td>3708.0</td>\n",
       "    </tr>\n",
       "    <tr>\n",
       "      <th>54</th>\n",
       "      <td>États-Unis d'Amérique</td>\n",
       "      <td>325084756.0</td>\n",
       "      <td>3682.0</td>\n",
       "    </tr>\n",
       "    <tr>\n",
       "      <th>80</th>\n",
       "      <td>Israël</td>\n",
       "      <td>8243848.0</td>\n",
       "      <td>3610.0</td>\n",
       "    </tr>\n",
       "    <tr>\n",
       "      <th>78</th>\n",
       "      <td>Irlande</td>\n",
       "      <td>4753279.0</td>\n",
       "      <td>3602.0</td>\n",
       "    </tr>\n",
       "    <tr>\n",
       "      <th>81</th>\n",
       "      <td>Italie</td>\n",
       "      <td>60673701.0</td>\n",
       "      <td>3578.0</td>\n",
       "    </tr>\n",
       "    <tr>\n",
       "      <th>95</th>\n",
       "      <td>Luxembourg</td>\n",
       "      <td>591910.0</td>\n",
       "      <td>3540.0</td>\n",
       "    </tr>\n",
       "    <tr>\n",
       "      <th>47</th>\n",
       "      <td>Égypte</td>\n",
       "      <td>96442591.0</td>\n",
       "      <td>3518.0</td>\n",
       "    </tr>\n",
       "    <tr>\n",
       "      <th>4</th>\n",
       "      <td>Allemagne</td>\n",
       "      <td>82658409.0</td>\n",
       "      <td>3503.0</td>\n",
       "    </tr>\n",
       "  </tbody>\n",
       "</table>\n",
       "</div>"
      ],
      "text/plain": [
       "                      Zone       Valeur  \\\n",
       "11                Autriche    8819901.0   \n",
       "17                Belgique   11419748.0   \n",
       "163                Turquie   81116450.0   \n",
       "54   États-Unis d'Amérique  325084756.0   \n",
       "80                  Israël    8243848.0   \n",
       "78                 Irlande    4753279.0   \n",
       "81                  Italie   60673701.0   \n",
       "95              Luxembourg     591910.0   \n",
       "47                  Égypte   96442591.0   \n",
       "4                Allemagne   82658409.0   \n",
       "\n",
       "     Disponibilité alimentaire (Kcal/personne/jour)  \n",
       "11                                           3770.0  \n",
       "17                                           3737.0  \n",
       "163                                          3708.0  \n",
       "54                                           3682.0  \n",
       "80                                           3610.0  \n",
       "78                                           3602.0  \n",
       "81                                           3578.0  \n",
       "95                                           3540.0  \n",
       "47                                           3518.0  \n",
       "4                                            3503.0  "
      ]
     },
     "execution_count": 101,
     "metadata": {},
     "output_type": "execute_result"
    }
   ],
   "source": [
    "# Affichage des 10 premiers résultats\n",
    "me3_pays_dispo_plus.head(10)"
   ]
  },
  {
   "cell_type": "code",
   "execution_count": 102,
   "id": "d12bed0a",
   "metadata": {},
   "outputs": [],
   "source": [
    "# Création d'une dataframe qui affiche les pays avec le moins de disponibilité alimentaire\n",
    "me3_pays_dispo_moins = me3_dispo.sort_values(by = ['Disponibilité alimentaire (Kcal/personne/jour)','Valeur'], ascending = True) "
   ]
  },
  {
   "cell_type": "code",
   "execution_count": 103,
   "id": "a7478bed",
   "metadata": {},
   "outputs": [
    {
     "data": {
      "text/html": [
       "<div>\n",
       "<style scoped>\n",
       "    .dataframe tbody tr th:only-of-type {\n",
       "        vertical-align: middle;\n",
       "    }\n",
       "\n",
       "    .dataframe tbody tr th {\n",
       "        vertical-align: top;\n",
       "    }\n",
       "\n",
       "    .dataframe thead th {\n",
       "        text-align: right;\n",
       "    }\n",
       "</style>\n",
       "<table border=\"1\" class=\"dataframe\">\n",
       "  <thead>\n",
       "    <tr style=\"text-align: right;\">\n",
       "      <th></th>\n",
       "      <th>Zone</th>\n",
       "      <th>Valeur</th>\n",
       "      <th>Disponibilité alimentaire (Kcal/personne/jour)</th>\n",
       "    </tr>\n",
       "  </thead>\n",
       "  <tbody>\n",
       "    <tr>\n",
       "      <th>131</th>\n",
       "      <td>République centrafricaine</td>\n",
       "      <td>4596023.0</td>\n",
       "      <td>1879.0</td>\n",
       "    </tr>\n",
       "    <tr>\n",
       "      <th>170</th>\n",
       "      <td>Zambie</td>\n",
       "      <td>16853599.0</td>\n",
       "      <td>1924.0</td>\n",
       "    </tr>\n",
       "    <tr>\n",
       "      <th>97</th>\n",
       "      <td>Madagascar</td>\n",
       "      <td>25570512.0</td>\n",
       "      <td>2056.0</td>\n",
       "    </tr>\n",
       "    <tr>\n",
       "      <th>0</th>\n",
       "      <td>Afghanistan</td>\n",
       "      <td>36296113.0</td>\n",
       "      <td>2087.0</td>\n",
       "    </tr>\n",
       "    <tr>\n",
       "      <th>70</th>\n",
       "      <td>Haïti</td>\n",
       "      <td>10982366.0</td>\n",
       "      <td>2089.0</td>\n",
       "    </tr>\n",
       "    <tr>\n",
       "      <th>136</th>\n",
       "      <td>République populaire démocratique de Corée</td>\n",
       "      <td>25429825.0</td>\n",
       "      <td>2093.0</td>\n",
       "    </tr>\n",
       "    <tr>\n",
       "      <th>156</th>\n",
       "      <td>Tchad</td>\n",
       "      <td>15016753.0</td>\n",
       "      <td>2109.0</td>\n",
       "    </tr>\n",
       "    <tr>\n",
       "      <th>171</th>\n",
       "      <td>Zimbabwe</td>\n",
       "      <td>14236595.0</td>\n",
       "      <td>2113.0</td>\n",
       "    </tr>\n",
       "    <tr>\n",
       "      <th>120</th>\n",
       "      <td>Ouganda</td>\n",
       "      <td>41166588.0</td>\n",
       "      <td>2126.0</td>\n",
       "    </tr>\n",
       "    <tr>\n",
       "      <th>158</th>\n",
       "      <td>Timor-Leste</td>\n",
       "      <td>1243258.0</td>\n",
       "      <td>2129.0</td>\n",
       "    </tr>\n",
       "  </tbody>\n",
       "</table>\n",
       "</div>"
      ],
      "text/plain": [
       "                                           Zone      Valeur  \\\n",
       "131                   République centrafricaine   4596023.0   \n",
       "170                                      Zambie  16853599.0   \n",
       "97                                   Madagascar  25570512.0   \n",
       "0                                   Afghanistan  36296113.0   \n",
       "70                                        Haïti  10982366.0   \n",
       "136  République populaire démocratique de Corée  25429825.0   \n",
       "156                                       Tchad  15016753.0   \n",
       "171                                    Zimbabwe  14236595.0   \n",
       "120                                     Ouganda  41166588.0   \n",
       "158                                 Timor-Leste   1243258.0   \n",
       "\n",
       "     Disponibilité alimentaire (Kcal/personne/jour)  \n",
       "131                                          1879.0  \n",
       "170                                          1924.0  \n",
       "97                                           2056.0  \n",
       "0                                            2087.0  \n",
       "70                                           2089.0  \n",
       "136                                          2093.0  \n",
       "156                                          2109.0  \n",
       "171                                          2113.0  \n",
       "120                                          2126.0  \n",
       "158                                          2129.0  "
      ]
     },
     "execution_count": 103,
     "metadata": {},
     "output_type": "execute_result"
    }
   ],
   "source": [
    "# Affichage des 10 premires résultats\n",
    "me3_pays_dispo_moins.head(10)"
   ]
  },
  {
   "cell_type": "code",
   "execution_count": 104,
   "id": "a6f1fb1e",
   "metadata": {},
   "outputs": [
    {
     "data": {
      "text/plain": [
       "<matplotlib.lines.Line2D at 0x22ac6bf93a0>"
      ]
     },
     "execution_count": 104,
     "metadata": {},
     "output_type": "execute_result"
    },
    {
     "data": {
      "image/png": "[encoded data removed]",
      "text/plain": [
       "<Figure size 432x288 with 1 Axes>"
      ]
     },
     "metadata": {
      "needs_background": "light"
     },
     "output_type": "display_data"
    }
   ],
   "source": [
    "# Création du graphique de comparaison entre les deux dataframes\n",
    "\n",
    "import matplotlib.pyplot as plt\n",
    "fig = plt.figure()\n",
    "ax = fig.add_axes([0.8,0.6,1.2,1.3])\n",
    "population_x = ['République centrafricaine','Zambie','Madagascar','Afghanistan','Haïti','Israël','USA','Turquie','Belgique','Autriche']\n",
    "chiffres_y = [1879,1924,2056,2087,2089,3610,3682,3708,3737,3770]\n",
    "plt.barh(population_x,chiffres_y,color = ('maroon','darkred','firebrick','red','salmon','deepskyblue','dodgerblue','cornflowerblue','steelblue','darkblue'),edgecolor='black')\n",
    "plt.yticks(fontsize=13, color='black')\n",
    "plt.xticks(fontsize=13, color='black')\n",
    "plt.title(\"Pays avec le moins et le plus de disponibilité alimentaire\", fontsize=14)\n",
    "# Ajout d'un titre sur l'axe x\n",
    "plt.xlabel(\"(Kcal/pers/jour)\", fontsize=13)\n",
    "plt.axvline(2500,color='green',linestyle=':')\n"
   ]
  },
  {
   "cell_type": "markdown",
   "id": "e6d96f71",
   "metadata": {},
   "source": [
    "## Pistes supplémentaires de recherches <a class=\"anchor\" id=\"chapter3\"></a>"
   ]
  },
  {
   "cell_type": "markdown",
   "id": "674054e0",
   "metadata": {},
   "source": [
    "### Répartition des céréales entre l'alimentation humaine et animale <a class=\"anchor\" id=\"section_3_1\"></a>"
   ]
  },
  {
   "cell_type": "markdown",
   "id": "d01b0abc",
   "metadata": {},
   "source": [
    "Dans le fichier rédigé par Julien, il indique avoir trouvé des chiffres intéressants sur l'utilisation des céréales et principalement sur la répartion entre l'alimentation pour les hommes et celles pour les animaux. \n",
    "Pour cela je dois : \n",
    "* Aller sur le site de la FAO afin de pouvoir extraire la liste des céréales et filtrer mon fichier 'dispo_alimentaire.csv'\n",
    "* Filtrer mes données.\n",
    "* Calculer la proportion de céréales destinée pour la nourriture des hommes et celle pour les animaux."
   ]
  },
  {
   "cell_type": "code",
   "execution_count": 105,
   "id": "04d413b1",
   "metadata": {},
   "outputs": [],
   "source": [
    "# Ouverture du fichier téléchargé sur FAO\n",
    "cereales_dispo = pd.read_csv('cereales-2017.csv')"
   ]
  },
  {
   "cell_type": "code",
   "execution_count": 106,
   "id": "62eabe00",
   "metadata": {},
   "outputs": [],
   "source": [
    "# Ouverture du fichier dispo_alimentaire\n",
    "cereale = pd.read_csv('dispo_alimentaire.csv')"
   ]
  },
  {
   "cell_type": "code",
   "execution_count": 107,
   "id": "edca2b12",
   "metadata": {},
   "outputs": [
    {
     "data": {
      "text/plain": [
       "array(['Abats Comestible', 'Agrumes, Autres', 'Aliments pour enfants',\n",
       "       'Ananas', 'Bananes', 'Beurre, Ghee', 'Bière', 'Blé',\n",
       "       'Boissons Alcooliques', 'Café', 'Coco (Incl Coprah)', 'Crème',\n",
       "       'Céréales, Autres', 'Dattes', 'Edulcorants Autres',\n",
       "       'Feve de Cacao', 'Fruits, Autres', 'Graines de coton',\n",
       "       'Graines de tournesol', 'Graisses Animales Crue',\n",
       "       'Huil Plantes Oleif Autr', 'Huile Graines de Coton',\n",
       "       \"Huile d'Arachide\", \"Huile d'Olive\", 'Huile de Colza&Moutarde',\n",
       "       'Huile de Palme', 'Huile de Soja', 'Huile de Sésame',\n",
       "       'Huile de Tournesol', 'Lait - Excl Beurre', 'Légumes, Autres',\n",
       "       'Légumineuses Autres', 'Maïs', 'Miel', 'Millet', 'Miscellanees',\n",
       "       'Noix', 'Oeufs', 'Olives', 'Oranges, Mandarines', 'Orge',\n",
       "       'Plantes Oleiferes, Autre', 'Poissons Eau Douce', 'Poivre',\n",
       "       'Pommes', 'Pommes de Terre', 'Raisin', 'Riz (Eq Blanchi)',\n",
       "       'Sucre Eq Brut', 'Sucre, betterave', 'Sucre, canne', 'Sésame',\n",
       "       'Thé', 'Tomates', \"Viande d'Ovins/Caprins\", 'Viande de Bovins',\n",
       "       'Viande de Volailles', 'Viande, Autre', 'Vin', 'Épices, Autres',\n",
       "       'Alcool, non Comestible', 'Animaux Aquatiques Autre',\n",
       "       'Arachides Decortiquees', 'Avoine', 'Bananes plantains',\n",
       "       'Boissons Fermentés', 'Cephalopodes', 'Citrons & Limes',\n",
       "       'Crustacés', 'Girofles', 'Graines Colza/Moutarde', 'Haricots',\n",
       "       'Huile de Coco', 'Huile de Germe de Maïs', 'Huile de Palmistes',\n",
       "       'Huiles de Foie de Poisso', 'Huiles de Poissons', 'Ignames',\n",
       "       'Manioc', 'Mollusques, Autres', 'Oignons', 'Palmistes',\n",
       "       'Pamplemousse', 'Patates douces', 'Perciform', 'Piments',\n",
       "       'Plantes Aquatiques', 'Pois', 'Poissons Marins, Autres',\n",
       "       'Poissons Pelagiques', 'Racines nda', 'Seigle', 'Soja', 'Sorgho',\n",
       "       'Viande de Suides', 'Huile de Son de Riz', 'Sucre non centrifugé',\n",
       "       'Viande de Anim Aquatiq'], dtype=object)"
      ]
     },
     "execution_count": 107,
     "metadata": {},
     "output_type": "execute_result"
    }
   ],
   "source": [
    "# Affichage de toutes les valeurs unique de la colonne 'Produit'\n",
    "cereale['Produit'].unique()"
   ]
  },
  {
   "cell_type": "code",
   "execution_count": 108,
   "id": "3cdb94bd",
   "metadata": {},
   "outputs": [
    {
     "data": {
      "text/html": [
       "<div>\n",
       "<style scoped>\n",
       "    .dataframe tbody tr th:only-of-type {\n",
       "        vertical-align: middle;\n",
       "    }\n",
       "\n",
       "    .dataframe tbody tr th {\n",
       "        vertical-align: top;\n",
       "    }\n",
       "\n",
       "    .dataframe thead th {\n",
       "        text-align: right;\n",
       "    }\n",
       "</style>\n",
       "<table border=\"1\" class=\"dataframe\">\n",
       "  <thead>\n",
       "    <tr style=\"text-align: right;\">\n",
       "      <th></th>\n",
       "      <th>Domaine</th>\n",
       "      <th>Zone</th>\n",
       "      <th>Élément</th>\n",
       "      <th>Produit</th>\n",
       "      <th>Année</th>\n",
       "      <th>Valeur</th>\n",
       "    </tr>\n",
       "  </thead>\n",
       "  <tbody>\n",
       "    <tr>\n",
       "      <th>0</th>\n",
       "      <td>Nouveaux Bilans Alimentaire</td>\n",
       "      <td>Afghanistan</td>\n",
       "      <td>Production</td>\n",
       "      <td>Blé et produits</td>\n",
       "      <td>2017</td>\n",
       "      <td>4281.0</td>\n",
       "    </tr>\n",
       "    <tr>\n",
       "      <th>1</th>\n",
       "      <td>Nouveaux Bilans Alimentaire</td>\n",
       "      <td>Afghanistan</td>\n",
       "      <td>Importations - Quantité</td>\n",
       "      <td>Blé et produits</td>\n",
       "      <td>2017</td>\n",
       "      <td>3080.0</td>\n",
       "    </tr>\n",
       "    <tr>\n",
       "      <th>2</th>\n",
       "      <td>Nouveaux Bilans Alimentaire</td>\n",
       "      <td>Afghanistan</td>\n",
       "      <td>Variation de stock</td>\n",
       "      <td>Blé et produits</td>\n",
       "      <td>2017</td>\n",
       "      <td>32.0</td>\n",
       "    </tr>\n",
       "    <tr>\n",
       "      <th>3</th>\n",
       "      <td>Nouveaux Bilans Alimentaire</td>\n",
       "      <td>Afghanistan</td>\n",
       "      <td>Exportations - Quantité</td>\n",
       "      <td>Blé et produits</td>\n",
       "      <td>2017</td>\n",
       "      <td>2.0</td>\n",
       "    </tr>\n",
       "    <tr>\n",
       "      <th>4</th>\n",
       "      <td>Nouveaux Bilans Alimentaire</td>\n",
       "      <td>Afghanistan</td>\n",
       "      <td>Disponibilité intérieure</td>\n",
       "      <td>Blé et produits</td>\n",
       "      <td>2017</td>\n",
       "      <td>7326.0</td>\n",
       "    </tr>\n",
       "  </tbody>\n",
       "</table>\n",
       "</div>"
      ],
      "text/plain": [
       "                       Domaine         Zone                   Élément  \\\n",
       "0  Nouveaux Bilans Alimentaire  Afghanistan                Production   \n",
       "1  Nouveaux Bilans Alimentaire  Afghanistan   Importations - Quantité   \n",
       "2  Nouveaux Bilans Alimentaire  Afghanistan        Variation de stock   \n",
       "3  Nouveaux Bilans Alimentaire  Afghanistan   Exportations - Quantité   \n",
       "4  Nouveaux Bilans Alimentaire  Afghanistan  Disponibilité intérieure   \n",
       "\n",
       "           Produit  Année  Valeur  \n",
       "0  Blé et produits   2017  4281.0  \n",
       "1  Blé et produits   2017  3080.0  \n",
       "2  Blé et produits   2017    32.0  \n",
       "3  Blé et produits   2017     2.0  \n",
       "4  Blé et produits   2017  7326.0  "
      ]
     },
     "execution_count": 108,
     "metadata": {},
     "output_type": "execute_result"
    }
   ],
   "source": [
    "cereales_dispo.head()"
   ]
  },
  {
   "cell_type": "code",
   "execution_count": 109,
   "id": "47827ede",
   "metadata": {},
   "outputs": [
    {
     "data": {
      "text/plain": [
       "array(['Blé et produits', 'Riz et produits', 'Orge et produits',\n",
       "       'Maïs et produits', 'Seigle et produits', 'Avoine',\n",
       "       'Millet et produits', 'Sorgho et produits', 'Céréales, Autres'],\n",
       "      dtype=object)"
      ]
     },
     "execution_count": 109,
     "metadata": {},
     "output_type": "execute_result"
    }
   ],
   "source": [
    "# Affichage de toutes les valeurs uniques de la colonne 'Produit'\n",
    "cereales_dispo['Produit'].unique()"
   ]
  },
  {
   "cell_type": "markdown",
   "id": "59957b69",
   "metadata": {},
   "source": [
    "Comme on peut le remarquer, les deux listes ne sont pas identiques:   \n",
    "Dans le fichier *'cereales-2017.csv'*, le blé est appelé : **'Blé et produits'** alors que dans le fichier *'dispo_alimentaire.csv'*, il est est appelé : **'Blé'**.  \n",
    "\n",
    "Si j'applique la liste telle quelle, ma dataframe ne conservera que les éléments identiques dans les deux listes à savoir : **'Avoine'** et **'Céréales, Autres'** et cela faussera les résultats en indiquant comme valeurs 69% pour la nourriture animal et 17% comme nourriture pour les hommes.  \n",
    "C'est pour cela que je décide de garder le fichier *'cereales-2017.csv'*"
   ]
  },
  {
   "cell_type": "code",
   "execution_count": 110,
   "id": "708f9a85",
   "metadata": {},
   "outputs": [
    {
     "data": {
      "text/html": [
       "<div>\n",
       "<style scoped>\n",
       "    .dataframe tbody tr th:only-of-type {\n",
       "        vertical-align: middle;\n",
       "    }\n",
       "\n",
       "    .dataframe tbody tr th {\n",
       "        vertical-align: top;\n",
       "    }\n",
       "\n",
       "    .dataframe thead th {\n",
       "        text-align: right;\n",
       "    }\n",
       "</style>\n",
       "<table border=\"1\" class=\"dataframe\">\n",
       "  <thead>\n",
       "    <tr style=\"text-align: right;\">\n",
       "      <th></th>\n",
       "      <th>Zone</th>\n",
       "      <th>Élément</th>\n",
       "      <th>Produit</th>\n",
       "      <th>Valeur</th>\n",
       "    </tr>\n",
       "  </thead>\n",
       "  <tbody>\n",
       "    <tr>\n",
       "      <th>0</th>\n",
       "      <td>Afghanistan</td>\n",
       "      <td>Production</td>\n",
       "      <td>Blé et produits</td>\n",
       "      <td>4281.0</td>\n",
       "    </tr>\n",
       "    <tr>\n",
       "      <th>1</th>\n",
       "      <td>Afghanistan</td>\n",
       "      <td>Importations - Quantité</td>\n",
       "      <td>Blé et produits</td>\n",
       "      <td>3080.0</td>\n",
       "    </tr>\n",
       "    <tr>\n",
       "      <th>2</th>\n",
       "      <td>Afghanistan</td>\n",
       "      <td>Variation de stock</td>\n",
       "      <td>Blé et produits</td>\n",
       "      <td>32.0</td>\n",
       "    </tr>\n",
       "    <tr>\n",
       "      <th>3</th>\n",
       "      <td>Afghanistan</td>\n",
       "      <td>Exportations - Quantité</td>\n",
       "      <td>Blé et produits</td>\n",
       "      <td>2.0</td>\n",
       "    </tr>\n",
       "    <tr>\n",
       "      <th>4</th>\n",
       "      <td>Afghanistan</td>\n",
       "      <td>Disponibilité intérieure</td>\n",
       "      <td>Blé et produits</td>\n",
       "      <td>7326.0</td>\n",
       "    </tr>\n",
       "  </tbody>\n",
       "</table>\n",
       "</div>"
      ],
      "text/plain": [
       "          Zone                   Élément          Produit  Valeur\n",
       "0  Afghanistan                Production  Blé et produits  4281.0\n",
       "1  Afghanistan   Importations - Quantité  Blé et produits  3080.0\n",
       "2  Afghanistan        Variation de stock  Blé et produits    32.0\n",
       "3  Afghanistan   Exportations - Quantité  Blé et produits     2.0\n",
       "4  Afghanistan  Disponibilité intérieure  Blé et produits  7326.0"
      ]
     },
     "execution_count": 110,
     "metadata": {},
     "output_type": "execute_result"
    }
   ],
   "source": [
    "# Création d'une nouvelle dataframe avec les colonnes qui me sont utiles\n",
    "cereales_dispo = cereales_dispo[['Zone','Élément','Produit','Valeur']]\n",
    "cereales_dispo.head()\n"
   ]
  },
  {
   "cell_type": "code",
   "execution_count": 111,
   "id": "7c961a5e",
   "metadata": {},
   "outputs": [],
   "source": [
    "cereales_dispo = pd.pivot(cereales_dispo, index=['Zone','Produit'], columns=['Élément'],values=['Valeur'])"
   ]
  },
  {
   "cell_type": "code",
   "execution_count": 112,
   "id": "2ee43aff",
   "metadata": {},
   "outputs": [
    {
     "data": {
      "text/html": [
       "<div>\n",
       "<style scoped>\n",
       "    .dataframe tbody tr th:only-of-type {\n",
       "        vertical-align: middle;\n",
       "    }\n",
       "\n",
       "    .dataframe tbody tr th {\n",
       "        vertical-align: top;\n",
       "    }\n",
       "\n",
       "    .dataframe thead tr th {\n",
       "        text-align: left;\n",
       "    }\n",
       "\n",
       "    .dataframe thead tr:last-of-type th {\n",
       "        text-align: right;\n",
       "    }\n",
       "</style>\n",
       "<table border=\"1\" class=\"dataframe\">\n",
       "  <thead>\n",
       "    <tr>\n",
       "      <th></th>\n",
       "      <th></th>\n",
       "      <th colspan=\"14\" halign=\"left\">Valeur</th>\n",
       "    </tr>\n",
       "    <tr>\n",
       "      <th></th>\n",
       "      <th>Élément</th>\n",
       "      <th>Aliments pour animaux</th>\n",
       "      <th>Autres utilisations (non alimentaire)</th>\n",
       "      <th>Disponibilité alimentaire (Kcal/personne/jour)</th>\n",
       "      <th>Disponibilité alimentaire en quantité (kg/personne/an)</th>\n",
       "      <th>Disponibilité de matière grasse en quantité (g/personne/jour)</th>\n",
       "      <th>Disponibilité de protéines en quantité (g/personne/jour)</th>\n",
       "      <th>Disponibilité intérieure</th>\n",
       "      <th>Exportations - Quantité</th>\n",
       "      <th>Importations - Quantité</th>\n",
       "      <th>Nourriture</th>\n",
       "      <th>Pertes</th>\n",
       "      <th>Production</th>\n",
       "      <th>Semences</th>\n",
       "      <th>Variation de stock</th>\n",
       "    </tr>\n",
       "    <tr>\n",
       "      <th>Zone</th>\n",
       "      <th>Produit</th>\n",
       "      <th></th>\n",
       "      <th></th>\n",
       "      <th></th>\n",
       "      <th></th>\n",
       "      <th></th>\n",
       "      <th></th>\n",
       "      <th></th>\n",
       "      <th></th>\n",
       "      <th></th>\n",
       "      <th></th>\n",
       "      <th></th>\n",
       "      <th></th>\n",
       "      <th></th>\n",
       "      <th></th>\n",
       "    </tr>\n",
       "  </thead>\n",
       "  <tbody>\n",
       "    <tr>\n",
       "      <th rowspan=\"5\" valign=\"top\">Afghanistan</th>\n",
       "      <th>Avoine</th>\n",
       "      <td>0.0</td>\n",
       "      <td>NaN</td>\n",
       "      <td>0.0</td>\n",
       "      <td>0.00</td>\n",
       "      <td>0.00</td>\n",
       "      <td>0.00</td>\n",
       "      <td>0.0</td>\n",
       "      <td>0.0</td>\n",
       "      <td>0.0</td>\n",
       "      <td>0.0</td>\n",
       "      <td>NaN</td>\n",
       "      <td>0.0</td>\n",
       "      <td>NaN</td>\n",
       "      <td>NaN</td>\n",
       "    </tr>\n",
       "    <tr>\n",
       "      <th>Blé et produits</th>\n",
       "      <td>491.0</td>\n",
       "      <td>NaN</td>\n",
       "      <td>1358.0</td>\n",
       "      <td>158.38</td>\n",
       "      <td>4.93</td>\n",
       "      <td>36.53</td>\n",
       "      <td>7326.0</td>\n",
       "      <td>2.0</td>\n",
       "      <td>3080.0</td>\n",
       "      <td>5749.0</td>\n",
       "      <td>642.0</td>\n",
       "      <td>4281.0</td>\n",
       "      <td>344.0</td>\n",
       "      <td>32.0</td>\n",
       "    </tr>\n",
       "    <tr>\n",
       "      <th>Céréales, Autres</th>\n",
       "      <td>0.0</td>\n",
       "      <td>NaN</td>\n",
       "      <td>0.0</td>\n",
       "      <td>0.00</td>\n",
       "      <td>0.00</td>\n",
       "      <td>0.00</td>\n",
       "      <td>0.0</td>\n",
       "      <td>NaN</td>\n",
       "      <td>0.0</td>\n",
       "      <td>0.0</td>\n",
       "      <td>NaN</td>\n",
       "      <td>0.0</td>\n",
       "      <td>NaN</td>\n",
       "      <td>NaN</td>\n",
       "    </tr>\n",
       "    <tr>\n",
       "      <th>Maïs et produits</th>\n",
       "      <td>111.0</td>\n",
       "      <td>NaN</td>\n",
       "      <td>11.0</td>\n",
       "      <td>1.34</td>\n",
       "      <td>0.16</td>\n",
       "      <td>0.30</td>\n",
       "      <td>213.0</td>\n",
       "      <td>0.0</td>\n",
       "      <td>40.0</td>\n",
       "      <td>49.0</td>\n",
       "      <td>26.0</td>\n",
       "      <td>174.0</td>\n",
       "      <td>21.0</td>\n",
       "      <td>1.0</td>\n",
       "    </tr>\n",
       "    <tr>\n",
       "      <th>Millet et produits</th>\n",
       "      <td>0.0</td>\n",
       "      <td>NaN</td>\n",
       "      <td>3.0</td>\n",
       "      <td>0.32</td>\n",
       "      <td>0.02</td>\n",
       "      <td>0.06</td>\n",
       "      <td>12.0</td>\n",
       "      <td>NaN</td>\n",
       "      <td>0.0</td>\n",
       "      <td>12.0</td>\n",
       "      <td>1.0</td>\n",
       "      <td>12.0</td>\n",
       "      <td>0.0</td>\n",
       "      <td>0.0</td>\n",
       "    </tr>\n",
       "  </tbody>\n",
       "</table>\n",
       "</div>"
      ],
      "text/plain": [
       "                                              Valeur  \\\n",
       "Élément                        Aliments pour animaux   \n",
       "Zone        Produit                                    \n",
       "Afghanistan Avoine                               0.0   \n",
       "            Blé et produits                    491.0   \n",
       "            Céréales, Autres                     0.0   \n",
       "            Maïs et produits                   111.0   \n",
       "            Millet et produits                   0.0   \n",
       "\n",
       "                                                                      \\\n",
       "Élément                        Autres utilisations (non alimentaire)   \n",
       "Zone        Produit                                                    \n",
       "Afghanistan Avoine                                               NaN   \n",
       "            Blé et produits                                      NaN   \n",
       "            Céréales, Autres                                     NaN   \n",
       "            Maïs et produits                                     NaN   \n",
       "            Millet et produits                                   NaN   \n",
       "\n",
       "                                                                               \\\n",
       "Élément                        Disponibilité alimentaire (Kcal/personne/jour)   \n",
       "Zone        Produit                                                             \n",
       "Afghanistan Avoine                                                        0.0   \n",
       "            Blé et produits                                            1358.0   \n",
       "            Céréales, Autres                                              0.0   \n",
       "            Maïs et produits                                             11.0   \n",
       "            Millet et produits                                            3.0   \n",
       "\n",
       "                                                                                       \\\n",
       "Élément                        Disponibilité alimentaire en quantité (kg/personne/an)   \n",
       "Zone        Produit                                                                     \n",
       "Afghanistan Avoine                                                           0.00       \n",
       "            Blé et produits                                                158.38       \n",
       "            Céréales, Autres                                                 0.00       \n",
       "            Maïs et produits                                                 1.34       \n",
       "            Millet et produits                                               0.32       \n",
       "\n",
       "                                                                                              \\\n",
       "Élément                        Disponibilité de matière grasse en quantité (g/personne/jour)   \n",
       "Zone        Produit                                                                            \n",
       "Afghanistan Avoine                                                           0.00              \n",
       "            Blé et produits                                                  4.93              \n",
       "            Céréales, Autres                                                 0.00              \n",
       "            Maïs et produits                                                 0.16              \n",
       "            Millet et produits                                               0.02              \n",
       "\n",
       "                                                                                         \\\n",
       "Élément                        Disponibilité de protéines en quantité (g/personne/jour)   \n",
       "Zone        Produit                                                                       \n",
       "Afghanistan Avoine                                                           0.00         \n",
       "            Blé et produits                                                 36.53         \n",
       "            Céréales, Autres                                                 0.00         \n",
       "            Maïs et produits                                                 0.30         \n",
       "            Millet et produits                                               0.06         \n",
       "\n",
       "                                                         \\\n",
       "Élément                        Disponibilité intérieure   \n",
       "Zone        Produit                                       \n",
       "Afghanistan Avoine                                  0.0   \n",
       "            Blé et produits                      7326.0   \n",
       "            Céréales, Autres                        0.0   \n",
       "            Maïs et produits                      213.0   \n",
       "            Millet et produits                     12.0   \n",
       "\n",
       "                                                        \\\n",
       "Élément                        Exportations - Quantité   \n",
       "Zone        Produit                                      \n",
       "Afghanistan Avoine                                 0.0   \n",
       "            Blé et produits                        2.0   \n",
       "            Céréales, Autres                       NaN   \n",
       "            Maïs et produits                       0.0   \n",
       "            Millet et produits                     NaN   \n",
       "\n",
       "                                                                          \\\n",
       "Élément                        Importations - Quantité Nourriture Pertes   \n",
       "Zone        Produit                                                        \n",
       "Afghanistan Avoine                                 0.0        0.0    NaN   \n",
       "            Blé et produits                     3080.0     5749.0  642.0   \n",
       "            Céréales, Autres                       0.0        0.0    NaN   \n",
       "            Maïs et produits                      40.0       49.0   26.0   \n",
       "            Millet et produits                     0.0       12.0    1.0   \n",
       "\n",
       "                                                                       \n",
       "Élément                        Production Semences Variation de stock  \n",
       "Zone        Produit                                                    \n",
       "Afghanistan Avoine                    0.0      NaN                NaN  \n",
       "            Blé et produits        4281.0    344.0               32.0  \n",
       "            Céréales, Autres          0.0      NaN                NaN  \n",
       "            Maïs et produits        174.0     21.0                1.0  \n",
       "            Millet et produits       12.0      0.0                0.0  "
      ]
     },
     "execution_count": 112,
     "metadata": {},
     "output_type": "execute_result"
    }
   ],
   "source": [
    "cereales_dispo.head()"
   ]
  },
  {
   "cell_type": "code",
   "execution_count": 113,
   "id": "adb78fdc",
   "metadata": {},
   "outputs": [
    {
     "data": {
      "text/plain": [
       "FrozenList(['Zone', 'Produit'])"
      ]
     },
     "execution_count": 113,
     "metadata": {},
     "output_type": "execute_result"
    }
   ],
   "source": [
    "cereales_dispo.index.names"
   ]
  },
  {
   "cell_type": "code",
   "execution_count": 114,
   "id": "85f790b7",
   "metadata": {},
   "outputs": [],
   "source": [
    "#cereales_dispo = cereales_dispo.rename(columns={('Valeur','Aliments pour animaux'): 'Animaux', ('Valeur','Nourriture'): 'Nourriture'})"
   ]
  },
  {
   "cell_type": "code",
   "execution_count": null,
   "id": "1cd79fe1",
   "metadata": {},
   "outputs": [],
   "source": []
  },
  {
   "cell_type": "code",
   "execution_count": 115,
   "id": "582a33ac",
   "metadata": {},
   "outputs": [],
   "source": [
    "# Calcul de la proportion de céréales destinée aux Hommes et celle pour les animaux\n",
    "dispo_homme = cereales_dispo[('Valeur','Nourriture')].sum()/cereales_dispo[('Valeur','Disponibilité intérieure')].sum()*100\n",
    "dispo_animaux = cereales_dispo[('Valeur','Aliments pour animaux')].sum()/cereales_dispo[('Valeur','Disponibilité intérieure')].sum()*100"
   ]
  },
  {
   "cell_type": "code",
   "execution_count": 116,
   "id": "f5ae2561",
   "metadata": {},
   "outputs": [
    {
     "name": "stdout",
     "output_type": "stream",
     "text": [
      "La proportion de céréales destinée l'alimentation humaine est de : 45.20 %\n",
      "La proportion de céréales destinée aux animaux est de : 33.18 %\n"
     ]
    }
   ],
   "source": [
    "print(\"La proportion de céréales destinée l'alimentation humaine est de : {:,.2f} %\".format(dispo_homme).replace(',', ' '))\n",
    "print(\"La proportion de céréales destinée aux animaux est de : {:,.2f} %\".format(dispo_animaux).replace(',', ' '))"
   ]
  },
  {
   "cell_type": "code",
   "execution_count": 117,
   "id": "b923c7f0",
   "metadata": {
    "scrolled": true
   },
   "outputs": [
    {
     "data": {
      "image/png": "[encoded data removed]",
      "text/plain": [
       "<Figure size 432x288 with 1 Axes>"
      ]
     },
     "metadata": {},
     "output_type": "display_data"
    }
   ],
   "source": [
    "# Création du graphique\n",
    "\n",
    "# Importation du module pyplot de la librairie matplotlib\n",
    "import matplotlib.pyplot as plt \n",
    "\n",
    "# création d'une liste comme arguments pour le graphique\n",
    "parts = [33.18, 45.20,21.62] \n",
    "# Paramétrage du graphique\n",
    "plt.pie(parts,labels=['Hommes', 'Animaux','Autres'],colors = ['gold','deepskyblue','saddlebrown'],autopct='%.2f%%',pctdistance=0.6,shadow=True, startangle=50,wedgeprops={'linewidth': 1.0,'edgecolor':'black'},textprops={'fontsize': 14})\n",
    "# Ajout du titre\n",
    "plt.title(\"Répartition des céréales / Disponibilité intérieure\" )\n",
    "# Affichage\n",
    "plt.show()"
   ]
  },
  {
   "cell_type": "markdown",
   "id": "a1c84603",
   "metadata": {},
   "source": [
    "### Comparaison de la répartition des céréales entre l'alimentation humaine et animale en fonction des pays ayant le plus de disponibilité alimentaire et ceux qui en ont le moins <a class=\"anchor\" id=\"section_3_2\"></a>"
   ]
  },
  {
   "cell_type": "markdown",
   "id": "c231e9c7",
   "metadata": {},
   "source": [
    "Mélanie m'a demandé de faire la liste des pays ayant le moins et le plus de disponibilité alimentaire. Je trouve intéressant de reprendre cette liste afin de pouvoir comparer l'utilisation et la consommation des céréales entre ces deux groupes.  \n",
    "Pour cette nouvelle recherche, je reprends le fichier *'cereales.csv'* que j'ai téléchargé sur FAO car il contient la colonne **'Valeur'** qui me permettra de calculer les proportions."
   ]
  },
  {
   "cell_type": "code",
   "execution_count": 118,
   "id": "947c078f",
   "metadata": {},
   "outputs": [],
   "source": [
    "# Ouverture du fichier téléchargé sur FAO\n",
    "cereales = pd.read_csv('cereales-2017.csv')"
   ]
  },
  {
   "cell_type": "code",
   "execution_count": 119,
   "id": "2f41ff3e",
   "metadata": {},
   "outputs": [],
   "source": [
    "# Création d'une liste de 5 pays ayant le moins de disponibilité alimentaire\n",
    "pays_moins = ('Afghanistan','République centrafricaine','Zambie','Madagascar','Haïti')"
   ]
  },
  {
   "cell_type": "code",
   "execution_count": 120,
   "id": "91fb7a3b",
   "metadata": {},
   "outputs": [],
   "source": [
    "# Création d'une liste de 5 pays ayant le plus de disponibilité alimentaire\n",
    "pays_plus = ('Autriche','Belgique','Turquie',\"États-Unis d'Amérique\",'Israël')"
   ]
  },
  {
   "cell_type": "code",
   "execution_count": 121,
   "id": "89f8d709",
   "metadata": {},
   "outputs": [],
   "source": [
    "# Sélection des colonnes qui me sont utiles\n",
    "cereales = cereales[['Zone','Élément','Produit','Valeur']]"
   ]
  },
  {
   "cell_type": "code",
   "execution_count": 122,
   "id": "e8a9bff9",
   "metadata": {},
   "outputs": [
    {
     "data": {
      "text/html": [
       "<div>\n",
       "<style scoped>\n",
       "    .dataframe tbody tr th:only-of-type {\n",
       "        vertical-align: middle;\n",
       "    }\n",
       "\n",
       "    .dataframe tbody tr th {\n",
       "        vertical-align: top;\n",
       "    }\n",
       "\n",
       "    .dataframe thead th {\n",
       "        text-align: right;\n",
       "    }\n",
       "</style>\n",
       "<table border=\"1\" class=\"dataframe\">\n",
       "  <thead>\n",
       "    <tr style=\"text-align: right;\">\n",
       "      <th></th>\n",
       "      <th>Zone</th>\n",
       "      <th>Élément</th>\n",
       "      <th>Produit</th>\n",
       "      <th>Valeur</th>\n",
       "    </tr>\n",
       "  </thead>\n",
       "  <tbody>\n",
       "    <tr>\n",
       "      <th>0</th>\n",
       "      <td>Afghanistan</td>\n",
       "      <td>Production</td>\n",
       "      <td>Blé et produits</td>\n",
       "      <td>4281.0</td>\n",
       "    </tr>\n",
       "    <tr>\n",
       "      <th>1</th>\n",
       "      <td>Afghanistan</td>\n",
       "      <td>Importations - Quantité</td>\n",
       "      <td>Blé et produits</td>\n",
       "      <td>3080.0</td>\n",
       "    </tr>\n",
       "    <tr>\n",
       "      <th>2</th>\n",
       "      <td>Afghanistan</td>\n",
       "      <td>Variation de stock</td>\n",
       "      <td>Blé et produits</td>\n",
       "      <td>32.0</td>\n",
       "    </tr>\n",
       "    <tr>\n",
       "      <th>3</th>\n",
       "      <td>Afghanistan</td>\n",
       "      <td>Exportations - Quantité</td>\n",
       "      <td>Blé et produits</td>\n",
       "      <td>2.0</td>\n",
       "    </tr>\n",
       "    <tr>\n",
       "      <th>4</th>\n",
       "      <td>Afghanistan</td>\n",
       "      <td>Disponibilité intérieure</td>\n",
       "      <td>Blé et produits</td>\n",
       "      <td>7326.0</td>\n",
       "    </tr>\n",
       "  </tbody>\n",
       "</table>\n",
       "</div>"
      ],
      "text/plain": [
       "          Zone                   Élément          Produit  Valeur\n",
       "0  Afghanistan                Production  Blé et produits  4281.0\n",
       "1  Afghanistan   Importations - Quantité  Blé et produits  3080.0\n",
       "2  Afghanistan        Variation de stock  Blé et produits    32.0\n",
       "3  Afghanistan   Exportations - Quantité  Blé et produits     2.0\n",
       "4  Afghanistan  Disponibilité intérieure  Blé et produits  7326.0"
      ]
     },
     "execution_count": 122,
     "metadata": {},
     "output_type": "execute_result"
    }
   ],
   "source": [
    "# Aperçu de la dataframe\n",
    "cereales.head()"
   ]
  },
  {
   "cell_type": "code",
   "execution_count": 123,
   "id": "ef454a1a",
   "metadata": {},
   "outputs": [],
   "source": [
    "# Création d'une dataframe en prenant comme restriction la liste pays_moins\n",
    "df_moins = cereales.loc[cereales['Zone'].isin(pays_moins),:]"
   ]
  },
  {
   "cell_type": "code",
   "execution_count": 124,
   "id": "6ad376ae",
   "metadata": {},
   "outputs": [],
   "source": [
    "# Création d'une dataframe en prenant comme restriction la liste pays_plus\n",
    "df_plus = cereales.loc[cereales['Zone'].isin(pays_plus),:]"
   ]
  },
  {
   "cell_type": "code",
   "execution_count": 125,
   "id": "1f320ca0",
   "metadata": {},
   "outputs": [
    {
     "data": {
      "text/html": [
       "<div>\n",
       "<style scoped>\n",
       "    .dataframe tbody tr th:only-of-type {\n",
       "        vertical-align: middle;\n",
       "    }\n",
       "\n",
       "    .dataframe tbody tr th {\n",
       "        vertical-align: top;\n",
       "    }\n",
       "\n",
       "    .dataframe thead th {\n",
       "        text-align: right;\n",
       "    }\n",
       "</style>\n",
       "<table border=\"1\" class=\"dataframe\">\n",
       "  <thead>\n",
       "    <tr style=\"text-align: right;\">\n",
       "      <th></th>\n",
       "      <th>Zone</th>\n",
       "      <th>Élément</th>\n",
       "      <th>Produit</th>\n",
       "      <th>Valeur</th>\n",
       "    </tr>\n",
       "  </thead>\n",
       "  <tbody>\n",
       "    <tr>\n",
       "      <th>0</th>\n",
       "      <td>Afghanistan</td>\n",
       "      <td>Production</td>\n",
       "      <td>Blé et produits</td>\n",
       "      <td>4281.0</td>\n",
       "    </tr>\n",
       "    <tr>\n",
       "      <th>1</th>\n",
       "      <td>Afghanistan</td>\n",
       "      <td>Importations - Quantité</td>\n",
       "      <td>Blé et produits</td>\n",
       "      <td>3080.0</td>\n",
       "    </tr>\n",
       "    <tr>\n",
       "      <th>2</th>\n",
       "      <td>Afghanistan</td>\n",
       "      <td>Variation de stock</td>\n",
       "      <td>Blé et produits</td>\n",
       "      <td>32.0</td>\n",
       "    </tr>\n",
       "    <tr>\n",
       "      <th>3</th>\n",
       "      <td>Afghanistan</td>\n",
       "      <td>Exportations - Quantité</td>\n",
       "      <td>Blé et produits</td>\n",
       "      <td>2.0</td>\n",
       "    </tr>\n",
       "    <tr>\n",
       "      <th>4</th>\n",
       "      <td>Afghanistan</td>\n",
       "      <td>Disponibilité intérieure</td>\n",
       "      <td>Blé et produits</td>\n",
       "      <td>7326.0</td>\n",
       "    </tr>\n",
       "  </tbody>\n",
       "</table>\n",
       "</div>"
      ],
      "text/plain": [
       "          Zone                   Élément          Produit  Valeur\n",
       "0  Afghanistan                Production  Blé et produits  4281.0\n",
       "1  Afghanistan   Importations - Quantité  Blé et produits  3080.0\n",
       "2  Afghanistan        Variation de stock  Blé et produits    32.0\n",
       "3  Afghanistan   Exportations - Quantité  Blé et produits     2.0\n",
       "4  Afghanistan  Disponibilité intérieure  Blé et produits  7326.0"
      ]
     },
     "execution_count": 125,
     "metadata": {},
     "output_type": "execute_result"
    }
   ],
   "source": [
    "df_moins.head()"
   ]
  },
  {
   "cell_type": "code",
   "execution_count": 126,
   "id": "965630af",
   "metadata": {},
   "outputs": [
    {
     "data": {
      "text/html": [
       "<div>\n",
       "<style scoped>\n",
       "    .dataframe tbody tr th:only-of-type {\n",
       "        vertical-align: middle;\n",
       "    }\n",
       "\n",
       "    .dataframe tbody tr th {\n",
       "        vertical-align: top;\n",
       "    }\n",
       "\n",
       "    .dataframe thead th {\n",
       "        text-align: right;\n",
       "    }\n",
       "</style>\n",
       "<table border=\"1\" class=\"dataframe\">\n",
       "  <thead>\n",
       "    <tr style=\"text-align: right;\">\n",
       "      <th></th>\n",
       "      <th>Zone</th>\n",
       "      <th>Élément</th>\n",
       "      <th>Produit</th>\n",
       "      <th>Valeur</th>\n",
       "    </tr>\n",
       "  </thead>\n",
       "  <tbody>\n",
       "    <tr>\n",
       "      <th>1117</th>\n",
       "      <td>Autriche</td>\n",
       "      <td>Production</td>\n",
       "      <td>Blé et produits</td>\n",
       "      <td>1437.0</td>\n",
       "    </tr>\n",
       "    <tr>\n",
       "      <th>1118</th>\n",
       "      <td>Autriche</td>\n",
       "      <td>Importations - Quantité</td>\n",
       "      <td>Blé et produits</td>\n",
       "      <td>1479.0</td>\n",
       "    </tr>\n",
       "    <tr>\n",
       "      <th>1119</th>\n",
       "      <td>Autriche</td>\n",
       "      <td>Variation de stock</td>\n",
       "      <td>Blé et produits</td>\n",
       "      <td>134.0</td>\n",
       "    </tr>\n",
       "    <tr>\n",
       "      <th>1120</th>\n",
       "      <td>Autriche</td>\n",
       "      <td>Exportations - Quantité</td>\n",
       "      <td>Blé et produits</td>\n",
       "      <td>1185.0</td>\n",
       "    </tr>\n",
       "    <tr>\n",
       "      <th>1121</th>\n",
       "      <td>Autriche</td>\n",
       "      <td>Disponibilité intérieure</td>\n",
       "      <td>Blé et produits</td>\n",
       "      <td>1598.0</td>\n",
       "    </tr>\n",
       "  </tbody>\n",
       "</table>\n",
       "</div>"
      ],
      "text/plain": [
       "          Zone                   Élément          Produit  Valeur\n",
       "1117  Autriche                Production  Blé et produits  1437.0\n",
       "1118  Autriche   Importations - Quantité  Blé et produits  1479.0\n",
       "1119  Autriche        Variation de stock  Blé et produits   134.0\n",
       "1120  Autriche   Exportations - Quantité  Blé et produits  1185.0\n",
       "1121  Autriche  Disponibilité intérieure  Blé et produits  1598.0"
      ]
     },
     "execution_count": 126,
     "metadata": {},
     "output_type": "execute_result"
    }
   ],
   "source": [
    "df_plus.head()"
   ]
  },
  {
   "cell_type": "code",
   "execution_count": 127,
   "id": "3fea3b14",
   "metadata": {},
   "outputs": [],
   "source": [
    "# Création d'une table pivot en prenant comme index la colonne 'Produit', affiche les données de la colonne 'Élément' \n",
    "# et prend 'Valeur' comme colonne à agréger \n",
    "df_moins = pd.pivot_table(df_moins, index=['Produit'], columns=['Élément'],values=['Valeur'])"
   ]
  },
  {
   "cell_type": "code",
   "execution_count": 128,
   "id": "66381479",
   "metadata": {},
   "outputs": [
    {
     "data": {
      "text/html": [
       "<div>\n",
       "<style scoped>\n",
       "    .dataframe tbody tr th:only-of-type {\n",
       "        vertical-align: middle;\n",
       "    }\n",
       "\n",
       "    .dataframe tbody tr th {\n",
       "        vertical-align: top;\n",
       "    }\n",
       "\n",
       "    .dataframe thead tr th {\n",
       "        text-align: left;\n",
       "    }\n",
       "\n",
       "    .dataframe thead tr:last-of-type th {\n",
       "        text-align: right;\n",
       "    }\n",
       "</style>\n",
       "<table border=\"1\" class=\"dataframe\">\n",
       "  <thead>\n",
       "    <tr>\n",
       "      <th></th>\n",
       "      <th colspan=\"14\" halign=\"left\">Valeur</th>\n",
       "    </tr>\n",
       "    <tr>\n",
       "      <th>Élément</th>\n",
       "      <th>Aliments pour animaux</th>\n",
       "      <th>Autres utilisations (non alimentaire)</th>\n",
       "      <th>Disponibilité alimentaire (Kcal/personne/jour)</th>\n",
       "      <th>Disponibilité alimentaire en quantité (kg/personne/an)</th>\n",
       "      <th>Disponibilité de matière grasse en quantité (g/personne/jour)</th>\n",
       "      <th>Disponibilité de protéines en quantité (g/personne/jour)</th>\n",
       "      <th>Disponibilité intérieure</th>\n",
       "      <th>Exportations - Quantité</th>\n",
       "      <th>Importations - Quantité</th>\n",
       "      <th>Nourriture</th>\n",
       "      <th>Pertes</th>\n",
       "      <th>Production</th>\n",
       "      <th>Semences</th>\n",
       "      <th>Variation de stock</th>\n",
       "    </tr>\n",
       "    <tr>\n",
       "      <th>Produit</th>\n",
       "      <th></th>\n",
       "      <th></th>\n",
       "      <th></th>\n",
       "      <th></th>\n",
       "      <th></th>\n",
       "      <th></th>\n",
       "      <th></th>\n",
       "      <th></th>\n",
       "      <th></th>\n",
       "      <th></th>\n",
       "      <th></th>\n",
       "      <th></th>\n",
       "      <th></th>\n",
       "      <th></th>\n",
       "    </tr>\n",
       "  </thead>\n",
       "  <tbody>\n",
       "    <tr>\n",
       "      <th>Avoine</th>\n",
       "      <td>0.000000</td>\n",
       "      <td>NaN</td>\n",
       "      <td>0.0</td>\n",
       "      <td>0.006</td>\n",
       "      <td>0.000</td>\n",
       "      <td>0.0020</td>\n",
       "      <td>0.2</td>\n",
       "      <td>0.000000</td>\n",
       "      <td>0.2</td>\n",
       "      <td>0.2</td>\n",
       "      <td>NaN</td>\n",
       "      <td>0.0</td>\n",
       "      <td>NaN</td>\n",
       "      <td>0.0</td>\n",
       "    </tr>\n",
       "    <tr>\n",
       "      <th>Blé et produits</th>\n",
       "      <td>123.000000</td>\n",
       "      <td>10.666667</td>\n",
       "      <td>362.2</td>\n",
       "      <td>42.898</td>\n",
       "      <td>1.338</td>\n",
       "      <td>10.0520</td>\n",
       "      <td>1645.4</td>\n",
       "      <td>3.000000</td>\n",
       "      <td>786.6</td>\n",
       "      <td>1318.0</td>\n",
       "      <td>215.666667</td>\n",
       "      <td>896.0</td>\n",
       "      <td>115.333333</td>\n",
       "      <td>33.8</td>\n",
       "    </tr>\n",
       "    <tr>\n",
       "      <th>Céréales, Autres</th>\n",
       "      <td>0.000000</td>\n",
       "      <td>NaN</td>\n",
       "      <td>1.0</td>\n",
       "      <td>0.074</td>\n",
       "      <td>0.002</td>\n",
       "      <td>0.0280</td>\n",
       "      <td>1.2</td>\n",
       "      <td>0.333333</td>\n",
       "      <td>0.0</td>\n",
       "      <td>1.2</td>\n",
       "      <td>0.000000</td>\n",
       "      <td>3.4</td>\n",
       "      <td>NaN</td>\n",
       "      <td>2.5</td>\n",
       "    </tr>\n",
       "    <tr>\n",
       "      <th>Maïs et produits</th>\n",
       "      <td>110.400000</td>\n",
       "      <td>11.666667</td>\n",
       "      <td>302.4</td>\n",
       "      <td>35.152</td>\n",
       "      <td>3.478</td>\n",
       "      <td>7.9520</td>\n",
       "      <td>723.2</td>\n",
       "      <td>88.500000</td>\n",
       "      <td>21.4</td>\n",
       "      <td>549.0</td>\n",
       "      <td>32.200000</td>\n",
       "      <td>875.4</td>\n",
       "      <td>18.000000</td>\n",
       "      <td>102.8</td>\n",
       "    </tr>\n",
       "    <tr>\n",
       "      <th>Millet et produits</th>\n",
       "      <td>0.666667</td>\n",
       "      <td>NaN</td>\n",
       "      <td>6.5</td>\n",
       "      <td>0.725</td>\n",
       "      <td>0.065</td>\n",
       "      <td>0.1725</td>\n",
       "      <td>11.0</td>\n",
       "      <td>0.000000</td>\n",
       "      <td>0.0</td>\n",
       "      <td>8.0</td>\n",
       "      <td>1.333333</td>\n",
       "      <td>11.0</td>\n",
       "      <td>0.666667</td>\n",
       "      <td>0.0</td>\n",
       "    </tr>\n",
       "  </tbody>\n",
       "</table>\n",
       "</div>"
      ],
      "text/plain": [
       "                                  Valeur  \\\n",
       "Élément            Aliments pour animaux   \n",
       "Produit                                    \n",
       "Avoine                          0.000000   \n",
       "Blé et produits               123.000000   \n",
       "Céréales, Autres                0.000000   \n",
       "Maïs et produits              110.400000   \n",
       "Millet et produits              0.666667   \n",
       "\n",
       "                                                          \\\n",
       "Élément            Autres utilisations (non alimentaire)   \n",
       "Produit                                                    \n",
       "Avoine                                               NaN   \n",
       "Blé et produits                                10.666667   \n",
       "Céréales, Autres                                     NaN   \n",
       "Maïs et produits                               11.666667   \n",
       "Millet et produits                                   NaN   \n",
       "\n",
       "                                                                   \\\n",
       "Élément            Disponibilité alimentaire (Kcal/personne/jour)   \n",
       "Produit                                                             \n",
       "Avoine                                                        0.0   \n",
       "Blé et produits                                             362.2   \n",
       "Céréales, Autres                                              1.0   \n",
       "Maïs et produits                                            302.4   \n",
       "Millet et produits                                            6.5   \n",
       "\n",
       "                                                                           \\\n",
       "Élément            Disponibilité alimentaire en quantité (kg/personne/an)   \n",
       "Produit                                                                     \n",
       "Avoine                                                          0.006       \n",
       "Blé et produits                                                42.898       \n",
       "Céréales, Autres                                                0.074       \n",
       "Maïs et produits                                               35.152       \n",
       "Millet et produits                                              0.725       \n",
       "\n",
       "                                                                                  \\\n",
       "Élément            Disponibilité de matière grasse en quantité (g/personne/jour)   \n",
       "Produit                                                                            \n",
       "Avoine                                                          0.000              \n",
       "Blé et produits                                                 1.338              \n",
       "Céréales, Autres                                                0.002              \n",
       "Maïs et produits                                                3.478              \n",
       "Millet et produits                                              0.065              \n",
       "\n",
       "                                                                             \\\n",
       "Élément            Disponibilité de protéines en quantité (g/personne/jour)   \n",
       "Produit                                                                       \n",
       "Avoine                                                         0.0020         \n",
       "Blé et produits                                               10.0520         \n",
       "Céréales, Autres                                               0.0280         \n",
       "Maïs et produits                                               7.9520         \n",
       "Millet et produits                                             0.1725         \n",
       "\n",
       "                                                                     \\\n",
       "Élément            Disponibilité intérieure Exportations - Quantité   \n",
       "Produit                                                               \n",
       "Avoine                                  0.2                0.000000   \n",
       "Blé et produits                      1645.4                3.000000   \n",
       "Céréales, Autres                        1.2                0.333333   \n",
       "Maïs et produits                      723.2               88.500000   \n",
       "Millet et produits                     11.0                0.000000   \n",
       "\n",
       "                                                                              \\\n",
       "Élément            Importations - Quantité Nourriture      Pertes Production   \n",
       "Produit                                                                        \n",
       "Avoine                                 0.2        0.2         NaN        0.0   \n",
       "Blé et produits                      786.6     1318.0  215.666667      896.0   \n",
       "Céréales, Autres                       0.0        1.2    0.000000        3.4   \n",
       "Maïs et produits                      21.4      549.0   32.200000      875.4   \n",
       "Millet et produits                     0.0        8.0    1.333333       11.0   \n",
       "\n",
       "                                                   \n",
       "Élément               Semences Variation de stock  \n",
       "Produit                                            \n",
       "Avoine                     NaN                0.0  \n",
       "Blé et produits     115.333333               33.8  \n",
       "Céréales, Autres           NaN                2.5  \n",
       "Maïs et produits     18.000000              102.8  \n",
       "Millet et produits    0.666667                0.0  "
      ]
     },
     "execution_count": 128,
     "metadata": {},
     "output_type": "execute_result"
    }
   ],
   "source": [
    "df_moins.head()"
   ]
  },
  {
   "cell_type": "code",
   "execution_count": 129,
   "id": "0893e697",
   "metadata": {},
   "outputs": [],
   "source": [
    "# Création d'une table pivot en prenant comme index la colonne 'Produit', affiche les données de la colonne 'Élément' \n",
    "# et prend 'Valeur' comme colonne à agréger \n",
    "df_plus = pd.pivot_table(df_plus, index=['Produit'], columns=['Élément'],values=['Valeur'])"
   ]
  },
  {
   "cell_type": "code",
   "execution_count": 130,
   "id": "28cc4e6d",
   "metadata": {},
   "outputs": [
    {
     "data": {
      "text/plain": [
       "MultiIndex([('Valeur', ...),\n",
       "            ('Valeur', ...),\n",
       "            ('Valeur', ...),\n",
       "            ('Valeur', ...),\n",
       "            ('Valeur', ...),\n",
       "            ('Valeur', ...),\n",
       "            ('Valeur', ...),\n",
       "            ('Valeur', ...),\n",
       "            ('Valeur', ...),\n",
       "            ('Valeur', ...),\n",
       "            ('Valeur', ...),\n",
       "            ('Valeur', ...),\n",
       "            ('Valeur', ...),\n",
       "            ('Valeur', ...)],\n",
       "           names=[None, 'Élément'])"
      ]
     },
     "execution_count": 130,
     "metadata": {},
     "output_type": "execute_result"
    }
   ],
   "source": [
    "# Affichage du nom des colonnes en multi index\n",
    "df_moins.columns"
   ]
  },
  {
   "cell_type": "code",
   "execution_count": 131,
   "id": "65434604",
   "metadata": {},
   "outputs": [],
   "source": [
    "# Renommage des colonnes pour plus de lisibilité\n",
    "df_moins = df_moins.rename(columns={('Valeur','Aliments pour animaux'): 'Animaux', ('Valeur','Nourriture'): 'Hommes'})"
   ]
  },
  {
   "cell_type": "code",
   "execution_count": 132,
   "id": "e1477519",
   "metadata": {},
   "outputs": [
    {
     "data": {
      "text/plain": [
       "<matplotlib.legend.Legend at 0x22ac71e6250>"
      ]
     },
     "execution_count": 132,
     "metadata": {},
     "output_type": "execute_result"
    },
    {
     "data": {
      "image/png": "[encoded data removed]",
      "text/plain": [
       "<Figure size 1008x504 with 1 Axes>"
      ]
     },
     "metadata": {},
     "output_type": "display_data"
    }
   ],
   "source": [
    "# Création d'un graphique qui va afficher la répartition des différentes céréales entre les animaux, l'exportation et \n",
    "# les hommes dans les pays qui ont le moins de disponibilité alimentaire\n",
    "import matplotlib\n",
    "# Utilisation d'un style prédéfini pour le graphique\n",
    "matplotlib.style.use('fivethirtyeight') \n",
    "ax = df_moins[[('Valeur','Aliments pour animaux'),('Valeur','Exportations - Quantité'),('Valeur','Nourriture')]].plot(kind=\"bar\", edgecolor='black',linewidth=1)\n",
    "fig = ax.get_figure()\n",
    "fig.set_size_inches(14,7)\n",
    "ax.set_xlabel(\"Céréales\")\n",
    "ax.set_ylabel(\"Milliers de Tonnes\")\n",
    "plt.xticks(rotation=45)\n",
    "ax.set_facecolor('white')\n",
    "plt.suptitle('Répartition des céréales dans les pays ayant le moins de disponibilité alimentaire', size = 'large')\n",
    "plt.title('(Afghanistan,République centrafricaine, Zambie,Madagascar,Haïti)', size = 'medium')\n",
    "plt.legend(['Animaux','Exportations','Hommes'])\n",
    "\n"
   ]
  },
  {
   "cell_type": "code",
   "execution_count": 133,
   "id": "77d8f932",
   "metadata": {},
   "outputs": [],
   "source": [
    "# Renommage des colonnes pour plus de lisibilité\n",
    "df_plus = df_plus.rename(columns={('Valeur','Aliments pour animaux'): 'Animaux', ('Valeur','Nourriture'): 'Hommes'})"
   ]
  },
  {
   "cell_type": "code",
   "execution_count": 134,
   "id": "1b664ca0",
   "metadata": {},
   "outputs": [
    {
     "data": {
      "text/plain": [
       "<matplotlib.legend.Legend at 0x22ac8a49760>"
      ]
     },
     "execution_count": 134,
     "metadata": {},
     "output_type": "execute_result"
    },
    {
     "data": {
      "image/png": "[encoded data removed]",
      "text/plain": [
       "<Figure size 1008x504 with 1 Axes>"
      ]
     },
     "metadata": {},
     "output_type": "display_data"
    }
   ],
   "source": [
    "# Création d'un graphique qui va afficher la répartition des différentes céréales entre les animaux, l'exportation et \n",
    "# les hommes dans les pays qui ont le plus de disponibilité alimentaire\n",
    "import matplotlib\n",
    "matplotlib.style.use('fivethirtyeight') \n",
    "# J'indique les colonnes que je veux afficher dans mon graphique à barres en précisant qu'elles doivent être empilées (stacked)\n",
    "ax = df_plus[[('Valeur','Aliments pour animaux'),('Valeur','Exportations - Quantité'),('Valeur','Nourriture')]].plot(kind=\"bar\", edgecolor='black',linewidth=1)\n",
    "fig = ax.get_figure()\n",
    "fig.set_size_inches(14,7)\n",
    "ax.set_xlabel(\"Céréales\")\n",
    "ax.set_ylabel(\"Milliers de Tonnes\")\n",
    "plt.xticks(rotation=45)\n",
    "ax.set_facecolor('white')\n",
    "plt.suptitle('Répartition des céréales dans les pays ayant le plus de disponibilité alimentaire', size = 'large')\n",
    "plt.title(\"(Autriche, Belgique, Turquie, États-Unis d'Amérique, Israël)\", size = 'medium')\n",
    "plt.legend(['Animaux','Exportations','Hommes'])\n",
    "\n"
   ]
  },
  {
   "cell_type": "markdown",
   "id": "2b20e63e",
   "metadata": {},
   "source": [
    "### La Thaïlande et l'utilisation du manioc <a class=\"anchor\" id=\"section_3_3\"></a>"
   ]
  },
  {
   "cell_type": "markdown",
   "id": "630709cb",
   "metadata": {},
   "source": [
    "Julien parle de l'utilisation du Manioc en Thaïlande malgré un taux de sous-nutrition élevé.\n",
    "Pour approfondir cet axe de recherche, je vais calculer la proportion d'utilisation du manioc pour les hommes, les animaux et pour l'exportation.  \n",
    "\n",
    "Je vais calculer par la suite la proportion de sous-nutrition pour la comparer aux précédents résultats.  \n",
    "\n",
    "Pour cela je dois :\n",
    "* Ouvrir le fichier **'dispo_alimentaire.csv'**\n",
    "* Filtrer les colonnes 'Zone' et 'Produit' pour ne conserver que la Thaïlande et le manioc\n",
    "* Je calcule mes proportions\n",
    "* J'ouvre mon fichier 'population.csv' afin de calculer le pourcentage de personnes en sous-nutrition\n",
    "* Je fais une restriction dans la colonne 'Zone' pour la Thaïlande et dans la colonne 'Année' pour l'année 2017\n",
    "* J'ouvre le fichier 'sous_nutrition.csv\" afin de faire une jointure sur la dataframe obtenue avec le fichier 'population.csv'\n",
    "* Je renomme mes colonnes pour plus de lisibilité\n",
    "* Je calcule la proportion de personne en état de sous-nutrition en Thaïlande en 2017\n",
    "\n",
    "\n"
   ]
  },
  {
   "cell_type": "code",
   "execution_count": 135,
   "id": "53565f77",
   "metadata": {},
   "outputs": [],
   "source": [
    "manioc = pd.read_csv('dispo_alimentaire.csv')"
   ]
  },
  {
   "cell_type": "code",
   "execution_count": 136,
   "id": "274e6481",
   "metadata": {},
   "outputs": [
    {
     "data": {
      "text/html": [
       "<div>\n",
       "<style scoped>\n",
       "    .dataframe tbody tr th:only-of-type {\n",
       "        vertical-align: middle;\n",
       "    }\n",
       "\n",
       "    .dataframe tbody tr th {\n",
       "        vertical-align: top;\n",
       "    }\n",
       "\n",
       "    .dataframe thead th {\n",
       "        text-align: right;\n",
       "    }\n",
       "</style>\n",
       "<table border=\"1\" class=\"dataframe\">\n",
       "  <thead>\n",
       "    <tr style=\"text-align: right;\">\n",
       "      <th></th>\n",
       "      <th>Zone</th>\n",
       "      <th>Produit</th>\n",
       "      <th>Origine</th>\n",
       "      <th>Aliments pour animaux</th>\n",
       "      <th>Autres Utilisations</th>\n",
       "      <th>Disponibilité alimentaire (Kcal/personne/jour)</th>\n",
       "      <th>Disponibilité alimentaire en quantité (kg/personne/an)</th>\n",
       "      <th>Disponibilité de matière grasse en quantité (g/personne/jour)</th>\n",
       "      <th>Disponibilité de protéines en quantité (g/personne/jour)</th>\n",
       "      <th>Disponibilité intérieure</th>\n",
       "      <th>Exportations - Quantité</th>\n",
       "      <th>Importations - Quantité</th>\n",
       "      <th>Nourriture</th>\n",
       "      <th>Pertes</th>\n",
       "      <th>Production</th>\n",
       "      <th>Semences</th>\n",
       "      <th>Traitement</th>\n",
       "      <th>Variation de stock</th>\n",
       "    </tr>\n",
       "  </thead>\n",
       "  <tbody>\n",
       "    <tr>\n",
       "      <th>0</th>\n",
       "      <td>Afghanistan</td>\n",
       "      <td>Abats Comestible</td>\n",
       "      <td>animale</td>\n",
       "      <td>NaN</td>\n",
       "      <td>NaN</td>\n",
       "      <td>5.0</td>\n",
       "      <td>1.72</td>\n",
       "      <td>0.20</td>\n",
       "      <td>0.77</td>\n",
       "      <td>53.0</td>\n",
       "      <td>NaN</td>\n",
       "      <td>NaN</td>\n",
       "      <td>53.0</td>\n",
       "      <td>NaN</td>\n",
       "      <td>53.0</td>\n",
       "      <td>NaN</td>\n",
       "      <td>NaN</td>\n",
       "      <td>NaN</td>\n",
       "    </tr>\n",
       "    <tr>\n",
       "      <th>1</th>\n",
       "      <td>Afghanistan</td>\n",
       "      <td>Agrumes, Autres</td>\n",
       "      <td>vegetale</td>\n",
       "      <td>NaN</td>\n",
       "      <td>NaN</td>\n",
       "      <td>1.0</td>\n",
       "      <td>1.29</td>\n",
       "      <td>0.01</td>\n",
       "      <td>0.02</td>\n",
       "      <td>41.0</td>\n",
       "      <td>2.0</td>\n",
       "      <td>40.0</td>\n",
       "      <td>39.0</td>\n",
       "      <td>2.0</td>\n",
       "      <td>3.0</td>\n",
       "      <td>NaN</td>\n",
       "      <td>NaN</td>\n",
       "      <td>NaN</td>\n",
       "    </tr>\n",
       "    <tr>\n",
       "      <th>2</th>\n",
       "      <td>Afghanistan</td>\n",
       "      <td>Aliments pour enfants</td>\n",
       "      <td>vegetale</td>\n",
       "      <td>NaN</td>\n",
       "      <td>NaN</td>\n",
       "      <td>1.0</td>\n",
       "      <td>0.06</td>\n",
       "      <td>0.01</td>\n",
       "      <td>0.03</td>\n",
       "      <td>2.0</td>\n",
       "      <td>NaN</td>\n",
       "      <td>2.0</td>\n",
       "      <td>2.0</td>\n",
       "      <td>NaN</td>\n",
       "      <td>NaN</td>\n",
       "      <td>NaN</td>\n",
       "      <td>NaN</td>\n",
       "      <td>NaN</td>\n",
       "    </tr>\n",
       "    <tr>\n",
       "      <th>3</th>\n",
       "      <td>Afghanistan</td>\n",
       "      <td>Ananas</td>\n",
       "      <td>vegetale</td>\n",
       "      <td>NaN</td>\n",
       "      <td>NaN</td>\n",
       "      <td>0.0</td>\n",
       "      <td>0.00</td>\n",
       "      <td>NaN</td>\n",
       "      <td>NaN</td>\n",
       "      <td>0.0</td>\n",
       "      <td>NaN</td>\n",
       "      <td>0.0</td>\n",
       "      <td>0.0</td>\n",
       "      <td>NaN</td>\n",
       "      <td>NaN</td>\n",
       "      <td>NaN</td>\n",
       "      <td>NaN</td>\n",
       "      <td>NaN</td>\n",
       "    </tr>\n",
       "    <tr>\n",
       "      <th>4</th>\n",
       "      <td>Afghanistan</td>\n",
       "      <td>Bananes</td>\n",
       "      <td>vegetale</td>\n",
       "      <td>NaN</td>\n",
       "      <td>NaN</td>\n",
       "      <td>4.0</td>\n",
       "      <td>2.70</td>\n",
       "      <td>0.02</td>\n",
       "      <td>0.05</td>\n",
       "      <td>82.0</td>\n",
       "      <td>NaN</td>\n",
       "      <td>82.0</td>\n",
       "      <td>82.0</td>\n",
       "      <td>NaN</td>\n",
       "      <td>NaN</td>\n",
       "      <td>NaN</td>\n",
       "      <td>NaN</td>\n",
       "      <td>NaN</td>\n",
       "    </tr>\n",
       "  </tbody>\n",
       "</table>\n",
       "</div>"
      ],
      "text/plain": [
       "          Zone                Produit   Origine  Aliments pour animaux  \\\n",
       "0  Afghanistan       Abats Comestible   animale                    NaN   \n",
       "1  Afghanistan        Agrumes, Autres  vegetale                    NaN   \n",
       "2  Afghanistan  Aliments pour enfants  vegetale                    NaN   \n",
       "3  Afghanistan                 Ananas  vegetale                    NaN   \n",
       "4  Afghanistan                Bananes  vegetale                    NaN   \n",
       "\n",
       "   Autres Utilisations  Disponibilité alimentaire (Kcal/personne/jour)  \\\n",
       "0                  NaN                                             5.0   \n",
       "1                  NaN                                             1.0   \n",
       "2                  NaN                                             1.0   \n",
       "3                  NaN                                             0.0   \n",
       "4                  NaN                                             4.0   \n",
       "\n",
       "   Disponibilité alimentaire en quantité (kg/personne/an)  \\\n",
       "0                                               1.72        \n",
       "1                                               1.29        \n",
       "2                                               0.06        \n",
       "3                                               0.00        \n",
       "4                                               2.70        \n",
       "\n",
       "   Disponibilité de matière grasse en quantité (g/personne/jour)  \\\n",
       "0                                               0.20               \n",
       "1                                               0.01               \n",
       "2                                               0.01               \n",
       "3                                                NaN               \n",
       "4                                               0.02               \n",
       "\n",
       "   Disponibilité de protéines en quantité (g/personne/jour)  \\\n",
       "0                                               0.77          \n",
       "1                                               0.02          \n",
       "2                                               0.03          \n",
       "3                                                NaN          \n",
       "4                                               0.05          \n",
       "\n",
       "   Disponibilité intérieure  Exportations - Quantité  Importations - Quantité  \\\n",
       "0                      53.0                      NaN                      NaN   \n",
       "1                      41.0                      2.0                     40.0   \n",
       "2                       2.0                      NaN                      2.0   \n",
       "3                       0.0                      NaN                      0.0   \n",
       "4                      82.0                      NaN                     82.0   \n",
       "\n",
       "   Nourriture  Pertes  Production  Semences  Traitement  Variation de stock  \n",
       "0        53.0     NaN        53.0       NaN         NaN                 NaN  \n",
       "1        39.0     2.0         3.0       NaN         NaN                 NaN  \n",
       "2         2.0     NaN         NaN       NaN         NaN                 NaN  \n",
       "3         0.0     NaN         NaN       NaN         NaN                 NaN  \n",
       "4        82.0     NaN         NaN       NaN         NaN                 NaN  "
      ]
     },
     "execution_count": 136,
     "metadata": {},
     "output_type": "execute_result"
    }
   ],
   "source": [
    "manioc.head()"
   ]
  },
  {
   "cell_type": "code",
   "execution_count": 137,
   "id": "b595533e",
   "metadata": {},
   "outputs": [],
   "source": [
    "# J'applique mes deux restrictions sur mes colonnes 'Zone' et 'Produit'\n",
    "manioc = manioc.loc[(manioc['Zone']=='Thaïlande')& (manioc['Produit']=='Manioc'),:]"
   ]
  },
  {
   "cell_type": "code",
   "execution_count": 138,
   "id": "0b8fb17f",
   "metadata": {},
   "outputs": [
    {
     "data": {
      "text/html": [
       "<div>\n",
       "<style scoped>\n",
       "    .dataframe tbody tr th:only-of-type {\n",
       "        vertical-align: middle;\n",
       "    }\n",
       "\n",
       "    .dataframe tbody tr th {\n",
       "        vertical-align: top;\n",
       "    }\n",
       "\n",
       "    .dataframe thead th {\n",
       "        text-align: right;\n",
       "    }\n",
       "</style>\n",
       "<table border=\"1\" class=\"dataframe\">\n",
       "  <thead>\n",
       "    <tr style=\"text-align: right;\">\n",
       "      <th></th>\n",
       "      <th>Zone</th>\n",
       "      <th>Produit</th>\n",
       "      <th>Origine</th>\n",
       "      <th>Aliments pour animaux</th>\n",
       "      <th>Autres Utilisations</th>\n",
       "      <th>Disponibilité alimentaire (Kcal/personne/jour)</th>\n",
       "      <th>Disponibilité alimentaire en quantité (kg/personne/an)</th>\n",
       "      <th>Disponibilité de matière grasse en quantité (g/personne/jour)</th>\n",
       "      <th>Disponibilité de protéines en quantité (g/personne/jour)</th>\n",
       "      <th>Disponibilité intérieure</th>\n",
       "      <th>Exportations - Quantité</th>\n",
       "      <th>Importations - Quantité</th>\n",
       "      <th>Nourriture</th>\n",
       "      <th>Pertes</th>\n",
       "      <th>Production</th>\n",
       "      <th>Semences</th>\n",
       "      <th>Traitement</th>\n",
       "      <th>Variation de stock</th>\n",
       "    </tr>\n",
       "  </thead>\n",
       "  <tbody>\n",
       "    <tr>\n",
       "      <th>13809</th>\n",
       "      <td>Thaïlande</td>\n",
       "      <td>Manioc</td>\n",
       "      <td>vegetale</td>\n",
       "      <td>1800.0</td>\n",
       "      <td>2081.0</td>\n",
       "      <td>40.0</td>\n",
       "      <td>13.0</td>\n",
       "      <td>0.05</td>\n",
       "      <td>0.14</td>\n",
       "      <td>6264.0</td>\n",
       "      <td>25214.0</td>\n",
       "      <td>1250.0</td>\n",
       "      <td>871.0</td>\n",
       "      <td>1511.0</td>\n",
       "      <td>30228.0</td>\n",
       "      <td>NaN</td>\n",
       "      <td>0.0</td>\n",
       "      <td>0.0</td>\n",
       "    </tr>\n",
       "  </tbody>\n",
       "</table>\n",
       "</div>"
      ],
      "text/plain": [
       "            Zone Produit   Origine  Aliments pour animaux  \\\n",
       "13809  Thaïlande  Manioc  vegetale                 1800.0   \n",
       "\n",
       "       Autres Utilisations  Disponibilité alimentaire (Kcal/personne/jour)  \\\n",
       "13809               2081.0                                            40.0   \n",
       "\n",
       "       Disponibilité alimentaire en quantité (kg/personne/an)  \\\n",
       "13809                                               13.0        \n",
       "\n",
       "       Disponibilité de matière grasse en quantité (g/personne/jour)  \\\n",
       "13809                                               0.05               \n",
       "\n",
       "       Disponibilité de protéines en quantité (g/personne/jour)  \\\n",
       "13809                                               0.14          \n",
       "\n",
       "       Disponibilité intérieure  Exportations - Quantité  \\\n",
       "13809                    6264.0                  25214.0   \n",
       "\n",
       "       Importations - Quantité  Nourriture  Pertes  Production  Semences  \\\n",
       "13809                   1250.0       871.0  1511.0     30228.0       NaN   \n",
       "\n",
       "       Traitement  Variation de stock  \n",
       "13809         0.0                 0.0  "
      ]
     },
     "execution_count": 138,
     "metadata": {},
     "output_type": "execute_result"
    }
   ],
   "source": [
    "manioc.head()"
   ]
  },
  {
   "cell_type": "code",
   "execution_count": 139,
   "id": "a6323517",
   "metadata": {},
   "outputs": [],
   "source": [
    "# Calcul de la proportion de manioc pour les hommes\n",
    "manioc_dispo_homme = manioc['Nourriture']/manioc['Disponibilité intérieure']*100"
   ]
  },
  {
   "cell_type": "code",
   "execution_count": 140,
   "id": "faaae72a",
   "metadata": {},
   "outputs": [],
   "source": [
    "# Calcul de la proportion de manioc pour les animaux\n",
    "manioc_dispo_animaux = manioc['Aliments pour animaux']/manioc['Disponibilité intérieure']*100"
   ]
  },
  {
   "cell_type": "code",
   "execution_count": 141,
   "id": "cbb1ce00",
   "metadata": {},
   "outputs": [],
   "source": [
    "# Calcul de la proportion de manioc pour l'exportation\n",
    "manioc_exportation = manioc['Exportations - Quantité']/(manioc['Production']+manioc['Importations - Quantité']+manioc['Variation de stock'])*100"
   ]
  },
  {
   "cell_type": "code",
   "execution_count": 142,
   "id": "4d4b961c",
   "metadata": {},
   "outputs": [
    {
     "name": "stdout",
     "output_type": "stream",
     "text": [
      "13809    13.904853\n",
      "dtype: float64\n",
      "13809    28.735632\n",
      "dtype: float64\n",
      "13809    80.100388\n",
      "dtype: float64\n"
     ]
    }
   ],
   "source": [
    "print(manioc_dispo_homme)\n",
    "print(manioc_dispo_animaux)\n",
    "print(manioc_exportation)"
   ]
  },
  {
   "cell_type": "code",
   "execution_count": 143,
   "id": "27b1f4b6",
   "metadata": {},
   "outputs": [],
   "source": [
    "thai_population = pd.read_csv('population.csv')"
   ]
  },
  {
   "cell_type": "code",
   "execution_count": 144,
   "id": "c291528a",
   "metadata": {},
   "outputs": [],
   "source": [
    "# Restriction pour ne conserver que les données sur la Thaïlande en 2017\n",
    "thai_population = thai_population.loc[(thai_population['Zone']=='Thaïlande') & (thai_population['Année']==2017),:]"
   ]
  },
  {
   "cell_type": "code",
   "execution_count": 145,
   "id": "2634120e",
   "metadata": {},
   "outputs": [
    {
     "data": {
      "text/html": [
       "<div>\n",
       "<style scoped>\n",
       "    .dataframe tbody tr th:only-of-type {\n",
       "        vertical-align: middle;\n",
       "    }\n",
       "\n",
       "    .dataframe tbody tr th {\n",
       "        vertical-align: top;\n",
       "    }\n",
       "\n",
       "    .dataframe thead th {\n",
       "        text-align: right;\n",
       "    }\n",
       "</style>\n",
       "<table border=\"1\" class=\"dataframe\">\n",
       "  <thead>\n",
       "    <tr style=\"text-align: right;\">\n",
       "      <th></th>\n",
       "      <th>Zone</th>\n",
       "      <th>Année</th>\n",
       "      <th>Valeur</th>\n",
       "    </tr>\n",
       "  </thead>\n",
       "  <tbody>\n",
       "    <tr>\n",
       "      <th>1312</th>\n",
       "      <td>Thaïlande</td>\n",
       "      <td>2017</td>\n",
       "      <td>69209.81</td>\n",
       "    </tr>\n",
       "  </tbody>\n",
       "</table>\n",
       "</div>"
      ],
      "text/plain": [
       "           Zone  Année    Valeur\n",
       "1312  Thaïlande   2017  69209.81"
      ]
     },
     "execution_count": 145,
     "metadata": {},
     "output_type": "execute_result"
    }
   ],
   "source": [
    "thai_population.head()"
   ]
  },
  {
   "cell_type": "code",
   "execution_count": 146,
   "id": "19c9265d",
   "metadata": {},
   "outputs": [],
   "source": [
    "thai_sous_nutrition = pd.read_csv('sous_nutrition.csv')"
   ]
  },
  {
   "cell_type": "code",
   "execution_count": 147,
   "id": "b8a53e14",
   "metadata": {},
   "outputs": [],
   "source": [
    "# Jointure par la gauche des dataframes avec comme index la colonne 'Zone'\n",
    "thai_population = pd.merge(thai_population,thai_sous_nutrition, on='Zone', how='left')"
   ]
  },
  {
   "cell_type": "code",
   "execution_count": 148,
   "id": "05c5e22d",
   "metadata": {},
   "outputs": [],
   "source": [
    "# Restriction sur la colonne 'Année_y'\n",
    "thai_population = thai_population.loc[thai_population['Année_y']=='2016-2018',:]"
   ]
  },
  {
   "cell_type": "code",
   "execution_count": 149,
   "id": "c3f9798f",
   "metadata": {},
   "outputs": [
    {
     "data": {
      "text/html": [
       "<div>\n",
       "<style scoped>\n",
       "    .dataframe tbody tr th:only-of-type {\n",
       "        vertical-align: middle;\n",
       "    }\n",
       "\n",
       "    .dataframe tbody tr th {\n",
       "        vertical-align: top;\n",
       "    }\n",
       "\n",
       "    .dataframe thead th {\n",
       "        text-align: right;\n",
       "    }\n",
       "</style>\n",
       "<table border=\"1\" class=\"dataframe\">\n",
       "  <thead>\n",
       "    <tr style=\"text-align: right;\">\n",
       "      <th></th>\n",
       "      <th>Zone</th>\n",
       "      <th>Année_x</th>\n",
       "      <th>Valeur_x</th>\n",
       "      <th>Année_y</th>\n",
       "      <th>Valeur_y</th>\n",
       "    </tr>\n",
       "  </thead>\n",
       "  <tbody>\n",
       "    <tr>\n",
       "      <th>4</th>\n",
       "      <td>Thaïlande</td>\n",
       "      <td>2017</td>\n",
       "      <td>69209.81</td>\n",
       "      <td>2016-2018</td>\n",
       "      <td>6.2</td>\n",
       "    </tr>\n",
       "  </tbody>\n",
       "</table>\n",
       "</div>"
      ],
      "text/plain": [
       "        Zone  Année_x  Valeur_x    Année_y Valeur_y\n",
       "4  Thaïlande     2017  69209.81  2016-2018      6.2"
      ]
     },
     "execution_count": 149,
     "metadata": {},
     "output_type": "execute_result"
    }
   ],
   "source": [
    "thai_population.head()"
   ]
  },
  {
   "cell_type": "code",
   "execution_count": 150,
   "id": "6c846ab0",
   "metadata": {},
   "outputs": [],
   "source": [
    "# Changement de type object à float64 de la colonne 'Valeur_y'\n",
    "thai_population['Valeur_y']= thai_population['Valeur_y'].apply('float')"
   ]
  },
  {
   "cell_type": "code",
   "execution_count": 151,
   "id": "4963c102",
   "metadata": {},
   "outputs": [],
   "source": [
    "# Renommage des colonnes pour plus de lisibilité\n",
    "thai_population.rename(columns= {'Valeur_x':'Personne sous-nutrition', 'Valeur_y': 'Population'}, inplace= True) "
   ]
  },
  {
   "cell_type": "code",
   "execution_count": 152,
   "id": "1b2ff9e4",
   "metadata": {},
   "outputs": [],
   "source": [
    "# Mise à la même échelle des colonnes\n",
    "thai_population['Population'] = thai_population['Population'].sum()*1000000\n",
    "thai_population['Personne sous-nutrition'] = thai_population['Personne sous-nutrition'].sum()*1000"
   ]
  },
  {
   "cell_type": "code",
   "execution_count": 153,
   "id": "5c8fdef0",
   "metadata": {},
   "outputs": [],
   "source": [
    "# Suppression de la colonne 'Année_y'\n",
    "del thai_population['Année_y']"
   ]
  },
  {
   "cell_type": "code",
   "execution_count": 154,
   "id": "4f5eb188",
   "metadata": {},
   "outputs": [],
   "source": [
    "# Calcul de la proportion de sous-nutrition en Thaïlande\n",
    "thai_proportion = (thai_population['Personne sous-nutrition'].sum()/thai_population['Population'])"
   ]
  },
  {
   "cell_type": "code",
   "execution_count": 155,
   "id": "ec7b9128",
   "metadata": {},
   "outputs": [
    {
     "name": "stdout",
     "output_type": "stream",
     "text": [
      "4    11.162873\n",
      "Name: Population, dtype: float64\n"
     ]
    }
   ],
   "source": [
    "print(thai_proportion)"
   ]
  },
  {
   "cell_type": "code",
   "execution_count": 156,
   "id": "bcf52716",
   "metadata": {},
   "outputs": [
    {
     "data": {
      "text/plain": [
       "Text(0.5, 0, 'Pourcentage (%)')"
      ]
     },
     "execution_count": 156,
     "metadata": {},
     "output_type": "execute_result"
    },
    {
     "data": {
      "image/png": "[encoded data removed]",
      "text/plain": [
       "<Figure size 432x288 with 1 Axes>"
      ]
     },
     "metadata": {},
     "output_type": "display_data"
    }
   ],
   "source": [
    "# Création du graphique de comparaison entre les deux dataframes\n",
    "\n",
    "import matplotlib.pyplot as plt\n",
    "fig = plt.figure()\n",
    "ax = fig.add_axes([0.8,0.6,0.9,1.3])\n",
    "population_x = ['Hommes (13.90%)','Animaux (28.73%)','Exportations (80.10%)','Sous-nutrition (11.16%)']\n",
    "chiffres_y = [13.90,28.73,80.10,11.16]\n",
    "plt.barh(population_x,chiffres_y,color = ('gold','deepskyblue','red','lime'),edgecolor='black',linewidth=1)\n",
    "plt.yticks(fontsize=13, color='black')\n",
    "plt.xticks(fontsize=13, color='black')\n",
    "plt.title(\"Répartition de l'utilisation du Manioc\", fontsize=14)\n",
    "\n",
    "# Ajout d'un titre sur l'axe x\n",
    "plt.xlabel(\"Pourcentage (%)\",fontsize=14)"
   ]
  }
 ],
 "metadata": {
  "kernelspec": {
   "display_name": "Python 3",
   "language": "python",
   "name": "python3"
  },
  "language_info": {
   "codemirror_mode": {
    "name": "ipython",
    "version": 3
   },
   "file_extension": ".py",
   "mimetype": "text/x-python",
   "name": "python",
   "nbconvert_exporter": "python",
   "pygments_lexer": "ipython3",
   "version": "3.8.8"
  }
 },
 "nbformat": 4,
 "nbformat_minor": 5
}
